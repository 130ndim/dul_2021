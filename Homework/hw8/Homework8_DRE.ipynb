{
 "cells": [
  {
   "cell_type": "markdown",
   "metadata": {
    "colab_type": "text",
    "id": "view-in-github"
   },
   "source": [
    "<a href=\"https://colab.research.google.com/github/GrigoryBartosh/dul_2021/blob/main/Homework/hw8/Homework8_DRE.ipynb\" target=\"_parent\"><img src=\"https://colab.research.google.com/assets/colab-badge.svg\" alt=\"Open In Colab\"/></a>"
   ]
  },
  {
   "cell_type": "code",
   "execution_count": 1,
   "metadata": {
    "id": "botyZAC03R1t"
   },
   "outputs": [
    {
     "name": "stdout",
     "output_type": "stream",
     "text": [
      "Cloning into 'dul_2021'...\r\n",
      "remote: Enumerating objects: 281, done.\u001B[K\r\n",
      "remote: Counting objects: 100% (118/118), done.\u001B[K\r\n",
      "remote: Compressing objects: 100% (64/64), done.\u001B[K\r\n",
      "remote: Total 281 (delta 68), reused 54 (delta 51), pack-reused 163\r\n",
      "Receiving objects: 100% (281/281), 53.75 MiB | 10.90 MiB/s, done.\r\n",
      "Resolving deltas: 100% (125/125), done.\r\n",
      "dul_2021/Homework/hw1/data/hw1_data/geoffrey-hinton.jpg -> dul_2021/Homework/hw1/data/geoffrey-hinton.jpg\r\n",
      "dul_2021/Homework/hw1/data/hw1_data/mnist.pkl -> dul_2021/Homework/hw1/data/mnist.pkl\r\n",
      "dul_2021/Homework/hw1/data/hw1_data/mnist_colored.pkl -> dul_2021/Homework/hw1/data/mnist_colored.pkl\r\n",
      "dul_2021/Homework/hw1/data/hw1_data/shapes.pkl -> dul_2021/Homework/hw1/data/shapes.pkl\r\n",
      "dul_2021/Homework/hw1/data/hw1_data/shapes_colored.pkl -> dul_2021/Homework/hw1/data/shapes_colored.pkl\r\n",
      "dul_2021/Homework/hw1/data/hw1_data/smiley.jpg -> dul_2021/Homework/hw1/data/smiley.jpg\r\n",
      "Processing ./dul_2021\r\n",
      "\u001B[33m  DEPRECATION: A future pip version will change local packages to be built in-place without first copying to a temporary directory. We recommend you use --use-feature=in-tree-build to test your packages with this new behavior before it becomes the default.\r\n",
      "   pip 21.3 will remove support for this functionality. You can find discussion regarding this at https://github.com/pypa/pip/issues/7555.\u001B[0m\r\n",
      "Building wheels for collected packages: dul-2021\r\n",
      "  Building wheel for dul-2021 (setup.py) ... \u001B[?25ldone\r\n",
      "\u001B[?25h  Created wheel for dul-2021: filename=dul_2021-0.1.0-py3-none-any.whl size=23394 sha256=1f3f34ac07d801f84e94c009a895ad5264778fef555fe177d3d4eff599d476f3\r\n",
      "  Stored in directory: /private/var/folders/zg/dd_4mghs167bb5hrrgz9w4y40000gn/T/pip-ephem-wheel-cache-qcb6ayp5/wheels/79/95/93/b6efc4fb97ff537f847a383bda2d2ef3cc8eaf618059843241\r\n",
      "Successfully built dul-2021\r\n",
      "Installing collected packages: dul-2021\r\n",
      "  Attempting uninstall: dul-2021\r\n",
      "    Found existing installation: dul-2021 0.1.0\r\n",
      "    Uninstalling dul-2021-0.1.0:\r\n",
      "      Successfully uninstalled dul-2021-0.1.0\r\n",
      "Successfully installed dul-2021-0.1.0\r\n"
     ]
    }
   ],
   "source": [
    "!if [ -d dul_2021 ]; then rm -Rf dul_2021; fi\n",
    "!git clone https://github.com/GrigoryBartosh/dul_2021\n",
    "!unzip -qq dul_2021/Homework/hw1/data/hw1_data.zip -d dul_2021/Homework/hw1/data/\n",
    "!mv -v dul_2021/Homework/hw1/data/hw1_data/* dul_2021/Homework/hw1/data/\n",
    "!rmdir dul_2021/Homework/hw1/data/hw1_data/\n",
    "!pip install ./dul_2021"
   ]
  },
  {
   "cell_type": "code",
   "execution_count": 152,
   "metadata": {
    "id": "fVjq5oAxztdb"
   },
   "outputs": [],
   "source": [
    "import numpy as np\n",
    "\n",
    "import torch\n",
    "from torch import nn, distributions as dist, optim as opt\n",
    "from torch.utils import data\n",
    "\n",
    "from tqdm.auto import tqdm\n",
    "\n",
    "DEVICE = torch.device('cuda' if torch.cuda.is_available() else 'cpu')"
   ]
  },
  {
   "cell_type": "code",
   "execution_count": 4,
   "metadata": {
    "id": "ZHWosWrbpO5Y"
   },
   "outputs": [],
   "source": [
    "from dul_2021.utils.hw8_utils import *"
   ]
  },
  {
   "cell_type": "markdown",
   "metadata": {
    "id": "WGaJ2yY4bGWo"
   },
   "source": [
    "# Question 1. KMM"
   ]
  },
  {
   "cell_type": "markdown",
   "metadata": {
    "id": "9puPlBKicfOq"
   },
   "source": [
    "## Notations from practice\n",
    "\n",
    "*   $p_{nu}(x)$ - pdf of numerator\n",
    "*   $p_{de}(x)$ - pdf of denominator\n",
    "*   $r(x)=\\frac{p_{nu}(x)}{p_{de}(x)}$ - density ratio\n",
    "*   $p_{nu}^*, p_{du}^*, r^*$ - estimatinos of respective functions\n",
    "*   $\\{x^{nu}_i\\}_{i=1}^{n_{nu}}$ - sample from numerator distribution\n",
    "*   $\\{x^{de}_i\\}_{i=1}^{n_{de}}$ - sample from denominator distribution\n",
    "\n",
    "\n",
    "\n",
    "## KMM objective\n",
    "\n",
    "Here we will implement Kernel Mean Matching (KMM) method for density ratio estimation. The basic idea of KMM is to 'match' expections of kernel function:\n",
    "\n",
    "$$argmin_{r^*} ||E_{p_{de}}r^*(x)K(\\cdot, x) - E_{p_{nu}}K(\\cdot, x)||$$\n",
    "\n",
    "Where $K(x, x') = exp(-\\frac{|x-y|^2}{2\\sigma^2})$. Emperical variant of this objective can be rewritten as follows:\n",
    "\n",
    "$$argmin_{r^*} \\frac{1}{n_{de}^2} (r^*_{de})^t K_{de, de} r^*_{de} - \\frac{2}{n_{nu}n_{de} }(r^*_{de})^t K_{de, nu}1_{n_{nu}}$$\n",
    "\n",
    "Where\n",
    "\n",
    "\n",
    "*   $r^*_{de}$ - vector with $(r^*_{de})_i=r^*(x^{de}_i)$\n",
    "*   $K_{de, de}$ - matrix with $(K_{de, de})_{i, j} = K(x^{de}_i, x^{de}_j)$\n",
    "*   $K_{de, nu}$ - matrix with $(K_{de, nu})_{i, j} = K(x^{de}_i, x^{nu}_j)$\n",
    "*   $1_{n_{nu}}$ - vector with $n_{nu}$ ones\n",
    "\n",
    "\n",
    "## You will provide these deliverables\n",
    "Density ratio on $[-2, 2]$.\n"
   ]
  },
  {
   "cell_type": "code",
   "execution_count": 12,
   "metadata": {},
   "outputs": [],
   "source": [
    "dl = data.DataLoader(np.random.rand(5000), batch_size=512)"
   ]
  },
  {
   "cell_type": "code",
   "execution_count": 18,
   "metadata": {},
   "outputs": [],
   "source": [
    "r = torch.rand(10)\n",
    "m = torch.rand(10, 10)\n",
    "a = torch.ones(10)"
   ]
  },
  {
   "cell_type": "code",
   "execution_count": 145,
   "metadata": {},
   "outputs": [],
   "source": [
    "class KMM(nn.Module):\n",
    "    def __init__(self, hd=128, sigma=1.0):\n",
    "        super().__init__()\n",
    "        self._r = nn.Sequential(nn.Linear(1, hd), \n",
    "                                nn.ReLU(True),\n",
    "                                nn.Linear(hd, hd), \n",
    "                                nn.ReLU(True),\n",
    "                                nn.Linear(hd, 1),\n",
    "                                nn.Softplus())\n",
    "        self._sigma = sigma\n",
    "        \n",
    "    @property\n",
    "    def device(self):\n",
    "        return next(self.parameters()).device\n",
    "        \n",
    "    def forward(self, x):\n",
    "        return self._r(x[:, None])[:, -1]\n",
    "    \n",
    "    def _rbf(self, x, y):\n",
    "        return (-(x[:, None] - y).pow(2) / 2.0 / self._sigma).exp()\n",
    "        \n",
    "        \n",
    "    def fit(self, data_nu, data_de, batch_size=512, lr=1e-3, num_epochs=1000):\n",
    "        loader_nu = data.DataLoader(data_nu, \n",
    "                                    batch_size=batch_size, \n",
    "                                    drop_last=True,\n",
    "                                    shuffle=True)\n",
    "        \n",
    "        loader_de = data.DataLoader(data_de, \n",
    "                                    batch_size=batch_size, \n",
    "                                    drop_last=True,\n",
    "                                    shuffle=True)\n",
    "        \n",
    "\n",
    "        optim = opt.Adam(self.parameters(), lr=lr)\n",
    "\n",
    "        \n",
    "        bar = tqdm(range(num_epochs))\n",
    "        for epoch in bar:\n",
    "            acc_loss = 0.\n",
    "\n",
    "            for (b_nu, b_de) in zip(loader_nu, loader_de):\n",
    "                b_nu, b_de = b_nu.to(self.device), b_de.to(self.device)\n",
    "                \n",
    "                r_de = self(b_de)\n",
    "\n",
    "                loss = (r_de @ self._rbf(b_de, b_de) @ r_de) - 2 * (r_de @ self._rbf(b_de, b_nu)).sum()\n",
    "                loss /= batch_size ** 2\n",
    "                \n",
    "                optim.zero_grad()\n",
    "                loss.backward()\n",
    "                optim.step()\n",
    "                \n",
    "                acc_loss += loss.item()\n",
    "            \n",
    "            bar.set_postfix_str(f'loss = {acc_loss / min(len(loader_nu), len(loader_de))}')\n",
    "            "
   ]
  },
  {
   "cell_type": "code",
   "execution_count": 146,
   "metadata": {
    "colab": {
     "base_uri": "https://localhost:8080/",
     "height": 283
    },
    "id": "07hzT2JG2Lvv",
    "outputId": "303516fe-a460-438f-e3fd-649e6fbb9d29"
   },
   "outputs": [],
   "source": [
    "# distributions"
   ]
  },
  {
   "cell_type": "code",
   "execution_count": 149,
   "metadata": {
    "id": "4-jdrQdePnCk"
   },
   "outputs": [],
   "source": [
    "def q1(data_nu, data_de):\n",
    "    \"\"\"\n",
    "    data_nu - An [n_nu] dataset with samples from numerator's distribution\n",
    "    data_de - An [n_de] dataset with samples from denominators's distribution\n",
    "\n",
    "    Returns\n",
    "    - a np.array with density ratios of np.linspace(-2., 2, num=100)\n",
    "    \"\"\"\n",
    "\n",
    "    model = KMM(64, 0.05)\n",
    "    model.to(DEVICE)\n",
    "    model.fit(data_nu.astype(np.float32), data_de.astype(np.float32), lr=1e-3, batch_size=512, num_epochs=1000)\n",
    "    \n",
    "    with torch.no_grad():\n",
    "        out = model(torch.linspace(-2.0, 2.0, 100, device=DEVICE)).cpu().numpy()\n",
    "        \n",
    "    return out\n",
    "    # your code goes here\n",
    "\n",
    "    # you need to calculate density ratio on x and return it\n",
    "    # x = np.linspace(-2., 2, num=100)"
   ]
  },
  {
   "cell_type": "code",
   "execution_count": 150,
   "metadata": {
    "colab": {
     "base_uri": "https://localhost:8080/",
     "height": 282
    },
    "id": "4uSiYdu--V5G",
    "outputId": "b2ff12b4-ae92-4bca-9838-d331edefeecc"
   },
   "outputs": [
    {
     "data": {
      "application/vnd.jupyter.widget-view+json": {
       "model_id": "b953400b97f9422890551f28c92ec897",
       "version_major": 2,
       "version_minor": 0
      },
      "text/plain": [
       "  0%|          | 0/1000 [00:00<?, ?it/s]"
      ]
     },
     "metadata": {},
     "output_type": "display_data"
    },
    {
     "data": {
      "text/plain": [
       "<Figure size 432x288 with 0 Axes>"
      ]
     },
     "metadata": {},
     "output_type": "display_data"
    },
    {
     "data": {
      "image/png": "[encoded data removed]",
      "text/plain": [
       "<Figure size 432x288 with 1 Axes>"
      ]
     },
     "metadata": {
      "needs_background": "light"
     },
     "output_type": "display_data"
    }
   ],
   "source": [
    "q1_results(q1)"
   ]
  },
  {
   "cell_type": "markdown",
   "metadata": {
    "id": "uBag5rcAckn8"
   },
   "source": [
    "# Question 2. AVB"
   ]
  },
  {
   "cell_type": "markdown",
   "metadata": {
    "id": "-V1V1syvbINX"
   },
   "source": [
    "Here we will implement [Adversairal Variational Bayes](https://dl.acm.org/doi/pdf/10.5555/3305890.3305928).\n",
    "\n",
    "You may experiment with different hyperparameters and architecture designs, but the following designs for the AVB architecture may be useful.\n",
    "\n",
    "```\n",
    "Classifier (T)\n",
    "    Conv2d(1, 32, 3, 1, 1), \n",
    "    ReLU(),\n",
    "    Conv2d(32, 64, 3, 2, 1),\n",
    "    ReLU(), \n",
    "    Conv2d(64, 128, 3, 2, 1), \n",
    "    ReLU(), \n",
    "    Conv2d(128, 128, 3, 2, 1), \n",
    "    ReLU(),\n",
    "    # reshape + add latent\n",
    "    Linear(4 * 4 * 128 + ld, hd), \n",
    "    ReLU(),\n",
    "    Linear(hd, hd), \n",
    "    ReLU(),\n",
    "    Linear(hd, 1)\n",
    "\n",
    "\n",
    "Encoder (E)\n",
    "\n",
    "    Conv2d(1, 32, 3, 1, 1), \n",
    "    ReLU(),\n",
    "    Conv2d(32, 64, 3, 2, 1),\n",
    "    ReLU(), \n",
    "    Conv2d(64, 128, 3, 2, 1), \n",
    "    ReLU(), \n",
    "    Conv2d(128, 128, 3, 2, 1), \n",
    "    ReLU(), \n",
    "    # add noise + reshape\n",
    "    Linear(4 * 4 * 128 + nd, ld)\n",
    "\n",
    "Decoder (D)\n",
    "    ConvTranspose2d(128, 128, 3, 2, 1), \n",
    "    ReLU(), \n",
    "    ConvTranspose2d(128, 64, 4, 2, 1), \n",
    "    ReLU(), \n",
    "    ConvTranspose2d(64, 32, 4, 2, 1), \n",
    "    ReLU(), \n",
    "    Conv2d(32, 1, 3, 1, 1)\n",
    "    # reshape\n",
    "    Linear(ld, 4 * 4 * 128), \n",
    "    ReLU()\n",
    "```\n",
    "\n",
    "**Reminder.** Objective for AVB\n",
    "\n",
    "$$max_{\\theta, \\phi} E \\log p_\\theta(x|z_\\phi(x)) - T(x, z_\\phi(x))$$\n",
    "$$max_{T} E_x \\bigg(E_{q_\\phi(z|x)} \\log\\big(\\sigma (T(x, z))\\big) + E_{p(z)} \\log\\big(1 - \\sigma (T(x, z))\\big)\\bigg) $$\n",
    "\n",
    "$\\phi$ - parameters of encoder, $\\theta$ - parameters of decoder\n",
    "\n",
    "\n",
    "**You will provide the following deliverables**\n",
    "\n",
    "\n",
    "1.   Over the course of training, record the elbo and loss of the classifier T ber batch.\n",
    "2. Report the final test set performances of your final models\n",
    "3. 100 samples from your trained AVB"
   ]
  },
  {
   "cell_type": "code",
   "execution_count": 159,
   "metadata": {},
   "outputs": [],
   "source": [
    "from torch.nn import functional as F"
   ]
  },
  {
   "cell_type": "code",
   "execution_count": 202,
   "metadata": {},
   "outputs": [],
   "source": [
    "class Encoder(nn.Module):\n",
    "    def __init__(self, ld):\n",
    "        super().__init__()\n",
    "        self._seq = nn.Sequential(\n",
    "            nn.Conv2d(1, 32, 3, 1, 1), \n",
    "            nn.ReLU(),\n",
    "            nn.Conv2d(32, 64, 3, 2, 1),\n",
    "            nn.ReLU(), \n",
    "            nn.Conv2d(64, 128, 3, 2, 1), \n",
    "            nn.ReLU(), \n",
    "            nn.Conv2d(128, 128, 3, 2, 1), \n",
    "            nn.ReLU(),\n",
    "        )\n",
    "        self._lin = nn.Linear(4 * 4 * 128 + ld, ld)\n",
    "        \n",
    "    def forward(self, x, z):\n",
    "        x = self._seq(x)\n",
    "        x = torch.cat([x.reshape(-1, 4 * 4 * 128), z], dim=1)\n",
    "        x = self._lin(x)\n",
    "        return x\n",
    "    \n",
    "\n",
    "class Decoder(nn.Module):\n",
    "    def __init__(self, ld):\n",
    "        super().__init__()\n",
    "        self._lin = nn.Linear(ld, 4 * 4 * 128)\n",
    "        self._seq = nn.Sequential(\n",
    "            nn.ReLU(),\n",
    "            nn.ConvTranspose2d(128, 128, 3, 2, 1), \n",
    "            nn.ReLU(), \n",
    "            nn.ConvTranspose2d(128, 64, 4, 2, 1), \n",
    "            nn.ReLU(), \n",
    "            nn.ConvTranspose2d(64, 32, 4, 2, 1), \n",
    "            nn.ReLU(), \n",
    "            nn.Conv2d(32, 1, 3, 1, 1),\n",
    "        )\n",
    "        \n",
    "    def forward(self, z):\n",
    "        x = self._lin(z)\n",
    "        x = x.reshape(-1, 128, 4, 4)\n",
    "        x = self._seq(x)\n",
    "        \n",
    "        return x\n",
    "    \n",
    "\n",
    "class Classifier(nn.Module):\n",
    "    def __init__(self, ld):\n",
    "        super().__init__()\n",
    "        self._seq = nn.Sequential(\n",
    "            nn.Conv2d(1, 32, 3, 1, 1), \n",
    "            nn.ReLU(), \n",
    "            nn.Conv2d(32, 64, 3, 2, 1),\n",
    "            nn.ReLU(), \n",
    "            nn.Conv2d(64, 128, 3, 2, 1), \n",
    "            nn.ReLU(), \n",
    "            nn.Conv2d(128, 128, 3, 2, 1), \n",
    "            nn.ReLU(), \n",
    "        )\n",
    "        self._out = nn.Sequential(\n",
    "            nn.Linear(4 * 4 * 128 + ld, 128), \n",
    "            nn.ReLU(),\n",
    "            nn.Linear(128, 128), \n",
    "            nn.ReLU(),\n",
    "            nn.Linear(128, 1)\n",
    "        )\n",
    "        \n",
    "    def forward(self, x, latent):\n",
    "        x = self._seq(x)\n",
    "        x = torch.cat([x.reshape(-1, 4 * 4 * 128), latent], dim=1)\n",
    "        x = self._out(x)\n",
    "        return x\n",
    "    \n",
    "    \n",
    "class AVB(nn.Module):\n",
    "    def __init__(self, hd=256, ld=64):\n",
    "        super().__init__()\n",
    "        self._ld = ld\n",
    "        \n",
    "        self._enc = Encoder(ld)\n",
    "        self._dec = Decoder(ld)\n",
    "        self._clf = Classifier(ld)\n",
    "        \n",
    "        self._dist = dist.Normal(torch.zeros(ld), torch.ones(ld))\n",
    "        \n",
    "    @property\n",
    "    def device(self):\n",
    "        return next(self.parameters()).device\n",
    "        \n",
    "    def forward(self, x):\n",
    "        z_p = torch.randn(x.size(0), self._ld, device=x.device)\n",
    "        z_q = self._enc(x, z_p)\n",
    "        \n",
    "        logd_p = self._clf(x, z_p)\n",
    "        logd_q = self._clf(x, z_q)\n",
    "        \n",
    "        d_loss = (1 - logd_p.sigmoid()).log().mean() + logd_q.sigmoid().log().mean()\n",
    "        \n",
    "        rec = self._dec(z_q)\n",
    "        \n",
    "        g_loss = logd_q.mean() - F.binary_cross_entropy_with_logits(rec, x) * x.size(0)\n",
    "        \n",
    "        return d_loss, g_loss\n",
    "        \n",
    "    @torch.no_grad()   \n",
    "    def sample(self, n=100):\n",
    "        z = torch.randn(n, self._ld, device=self.device)\n",
    "        return self._dec(z).sigmoid()  \n",
    "    \n",
    "    def fit(self, train_data, n_epochs=20, lr=1e-3, bs=512):\n",
    "        dl = data.DataLoader(train_data, batch_size=bs, shuffle=True, drop_last=True)\n",
    "        \n",
    "        g_opt = opt.Adam(list(self._enc.parameters()) + list(self._dec.parameters()))\n",
    "        d_opt = opt.Adam(self._clf.parameters())\n",
    "        \n",
    "        g_losses, d_losses = [], []\n",
    "        \n",
    "        bar = tqdm(total=n_epochs * len(dl), desc='Training')\n",
    "        for _ in range(n_epochs):\n",
    "            for batch in dl:\n",
    "                batch = batch.to(self.device)\n",
    "                \n",
    "                d_loss, g_loss = self(batch)\n",
    "                \n",
    "                g_opt.zero_grad()\n",
    "                d_opt.zero_grad()\n",
    "\n",
    "                g_loss.backward(retain_graph=True)\n",
    "                g_opt.step()\n",
    "                \n",
    "                d_loss.backward(retain_graph=True)\n",
    "                d_opt.step()\n",
    "                \n",
    "                g_losses.append(g_loss.item())\n",
    "                d_losses.append(d_loss.item())\n",
    "                \n",
    "                bar.update(1)\n",
    "                bar.set_postfix({'g_loss': g_losses[-1], 'd_loss': d_losses[-1]})\n",
    "                \n",
    "        return np.array(g_losses), np.array(d_losses)\n",
    "                \n",
    "        "
   ]
  },
  {
   "cell_type": "code",
   "execution_count": 203,
   "metadata": {
    "id": "IFeqntQsUkYG"
   },
   "outputs": [],
   "source": [
    "def q2(train_data, *_, **__):\n",
    "    \"\"\"\n",
    "    train_data - A (n_train, 28, 28, 1) uint8 numpy array of binary images with values in {0, 1}\n",
    "    Returns\n",
    "    - a (# of training iterations,) numpy array of elbo_losses evaluated every minibatch\n",
    "    - a (# of training iterations,) numpy array of classifier_losses evaluated every minibatch\n",
    "    - a torch tensor of size (100, 1, 28, 28) of samples with values in {0, 1}\n",
    "    \"\"\"\n",
    "    \n",
    "    model = AVB()\n",
    "    model.to(DEVICE)\n",
    "    model.fit(train_data.transpose(0, 3, 1, 2).astype(np.float32))"
   ]
  },
  {
   "cell_type": "code",
   "execution_count": 204,
   "metadata": {
    "colab": {
     "base_uri": "https://localhost:8080/",
     "height": 1000
    },
    "id": "_Kvk3MMY8lH_",
    "outputId": "b97407a1-daa1-4e62-c2a7-9516e4025fd7"
   },
   "outputs": [
    {
     "data": {
      "application/vnd.jupyter.widget-view+json": {
       "model_id": "fb96ee197379428c860583d52329be28",
       "version_major": 2,
       "version_minor": 0
      },
      "text/plain": [
       "Training:   0%|          | 0/2340 [00:00<?, ?it/s]"
      ]
     },
     "metadata": {},
     "output_type": "display_data"
    },
    {
     "name": "stderr",
     "output_type": "stream",
     "text": [
      "/Users/dmitry/.conda/envs/hse_dul/lib/python3.9/site-packages/torch/autograd/__init__.py:154: UserWarning: Error detected in AddmmBackward0. Traceback of forward call that caused the error:\n",
      "  File \"/Users/dmitry/.conda/envs/hse_dul/lib/python3.9/runpy.py\", line 197, in _run_module_as_main\n",
      "    return _run_code(code, main_globals, None,\n",
      "  File \"/Users/dmitry/.conda/envs/hse_dul/lib/python3.9/runpy.py\", line 87, in _run_code\n",
      "    exec(code, run_globals)\n",
      "  File \"/Users/dmitry/.conda/envs/hse_dul/lib/python3.9/site-packages/ipykernel_launcher.py\", line 16, in <module>\n",
      "    app.launch_new_instance()\n",
      "  File \"/Users/dmitry/.conda/envs/hse_dul/lib/python3.9/site-packages/traitlets/config/application.py\", line 846, in launch_instance\n",
      "    app.start()\n",
      "  File \"/Users/dmitry/.conda/envs/hse_dul/lib/python3.9/site-packages/ipykernel/kernelapp.py\", line 677, in start\n",
      "    self.io_loop.start()\n",
      "  File \"/Users/dmitry/.conda/envs/hse_dul/lib/python3.9/site-packages/tornado/platform/asyncio.py\", line 199, in start\n",
      "    self.asyncio_loop.run_forever()\n",
      "  File \"/Users/dmitry/.conda/envs/hse_dul/lib/python3.9/asyncio/base_events.py\", line 596, in run_forever\n",
      "    self._run_once()\n",
      "  File \"/Users/dmitry/.conda/envs/hse_dul/lib/python3.9/asyncio/base_events.py\", line 1890, in _run_once\n",
      "    handle._run()\n",
      "  File \"/Users/dmitry/.conda/envs/hse_dul/lib/python3.9/asyncio/events.py\", line 80, in _run\n",
      "    self._context.run(self._callback, *self._args)\n",
      "  File \"/Users/dmitry/.conda/envs/hse_dul/lib/python3.9/site-packages/ipykernel/kernelbase.py\", line 457, in dispatch_queue\n",
      "    await self.process_one()\n",
      "  File \"/Users/dmitry/.conda/envs/hse_dul/lib/python3.9/site-packages/ipykernel/kernelbase.py\", line 446, in process_one\n",
      "    await dispatch(*args)\n",
      "  File \"/Users/dmitry/.conda/envs/hse_dul/lib/python3.9/site-packages/ipykernel/kernelbase.py\", line 353, in dispatch_shell\n",
      "    await result\n",
      "  File \"/Users/dmitry/.conda/envs/hse_dul/lib/python3.9/site-packages/ipykernel/kernelbase.py\", line 648, in execute_request\n",
      "    reply_content = await reply_content\n",
      "  File \"/Users/dmitry/.conda/envs/hse_dul/lib/python3.9/site-packages/ipykernel/ipkernel.py\", line 353, in do_execute\n",
      "    res = shell.run_cell(code, store_history=store_history, silent=silent)\n",
      "  File \"/Users/dmitry/.conda/envs/hse_dul/lib/python3.9/site-packages/ipykernel/zmqshell.py\", line 533, in run_cell\n",
      "    return super(ZMQInteractiveShell, self).run_cell(*args, **kwargs)\n",
      "  File \"/Users/dmitry/.conda/envs/hse_dul/lib/python3.9/site-packages/IPython/core/interactiveshell.py\", line 2901, in run_cell\n",
      "    result = self._run_cell(\n",
      "  File \"/Users/dmitry/.conda/envs/hse_dul/lib/python3.9/site-packages/IPython/core/interactiveshell.py\", line 2947, in _run_cell\n",
      "    return runner(coro)\n",
      "  File \"/Users/dmitry/.conda/envs/hse_dul/lib/python3.9/site-packages/IPython/core/async_helpers.py\", line 68, in _pseudo_sync_runner\n",
      "    coro.send(None)\n",
      "  File \"/Users/dmitry/.conda/envs/hse_dul/lib/python3.9/site-packages/IPython/core/interactiveshell.py\", line 3172, in run_cell_async\n",
      "    has_raised = await self.run_ast_nodes(code_ast.body, cell_name,\n",
      "  File \"/Users/dmitry/.conda/envs/hse_dul/lib/python3.9/site-packages/IPython/core/interactiveshell.py\", line 3364, in run_ast_nodes\n",
      "    if (await self.run_code(code, result,  async_=asy)):\n",
      "  File \"/Users/dmitry/.conda/envs/hse_dul/lib/python3.9/site-packages/IPython/core/interactiveshell.py\", line 3444, in run_code\n",
      "    exec(code_obj, self.user_global_ns, self.user_ns)\n",
      "  File \"/var/folders/zg/dd_4mghs167bb5hrrgz9w4y40000gn/T/ipykernel_50561/254357716.py\", line 2, in <module>\n",
      "    q2_results(q2)\n",
      "  File \"/Users/dmitry/PycharmProjects/hse_dul/Homework/hw8/dul_2021/utils/hw8_utils.py\", line 89, in q2_results\n",
      "    train_elbo, train_clf, test_elbo, test_clf, samples = q(train_data, test_data)\n",
      "  File \"/var/folders/zg/dd_4mghs167bb5hrrgz9w4y40000gn/T/ipykernel_50561/3636429016.py\", line 12, in q2\n",
      "    model.fit(train_data.transpose(0, 3, 1, 2).astype(np.float32))\n",
      "  File \"/var/folders/zg/dd_4mghs167bb5hrrgz9w4y40000gn/T/ipykernel_50561/4022589288.py\", line 122, in fit\n",
      "    d_loss, g_loss = self(batch)\n",
      "  File \"/Users/dmitry/.conda/envs/hse_dul/lib/python3.9/site-packages/torch/nn/modules/module.py\", line 1102, in _call_impl\n",
      "    return forward_call(*input, **kwargs)\n",
      "  File \"/var/folders/zg/dd_4mghs167bb5hrrgz9w4y40000gn/T/ipykernel_50561/4022589288.py\", line 91, in forward\n",
      "    z_q = self._enc(x, z_p)\n",
      "  File \"/Users/dmitry/.conda/envs/hse_dul/lib/python3.9/site-packages/torch/nn/modules/module.py\", line 1102, in _call_impl\n",
      "    return forward_call(*input, **kwargs)\n",
      "  File \"/var/folders/zg/dd_4mghs167bb5hrrgz9w4y40000gn/T/ipykernel_50561/4022589288.py\", line 19, in forward\n",
      "    x = self._lin(x)\n",
      "  File \"/Users/dmitry/.conda/envs/hse_dul/lib/python3.9/site-packages/torch/nn/modules/module.py\", line 1102, in _call_impl\n",
      "    return forward_call(*input, **kwargs)\n",
      "  File \"/Users/dmitry/.conda/envs/hse_dul/lib/python3.9/site-packages/torch/nn/modules/linear.py\", line 103, in forward\n",
      "    return F.linear(input, self.weight, self.bias)\n",
      "  File \"/Users/dmitry/.conda/envs/hse_dul/lib/python3.9/site-packages/torch/nn/functional.py\", line 1848, in linear\n",
      "    return torch._C._nn.linear(input, weight, bias)\n",
      " (Triggered internally at  /Users/distiller/project/conda/conda-bld/pytorch_1634272478997/work/torch/csrc/autograd/python_anomaly_mode.cpp:104.)\n",
      "  Variable._execution_engine.run_backward(\n"
     ]
    },
    {
     "ename": "RuntimeError",
     "evalue": "one of the variables needed for gradient computation has been modified by an inplace operation: [torch.FloatTensor [2112, 64]], which is output 0 of AsStridedBackward0, is at version 2; expected version 1 instead. Hint: the backtrace further above shows the operation that failed to compute its gradient. The variable in question was changed in there or anywhere later. Good luck!",
     "output_type": "error",
     "traceback": [
      "\u001B[0;31m---------------------------------------------------------------------------\u001B[0m",
      "\u001B[0;31mRuntimeError\u001B[0m                              Traceback (most recent call last)",
      "\u001B[0;32m/var/folders/zg/dd_4mghs167bb5hrrgz9w4y40000gn/T/ipykernel_50561/254357716.py\u001B[0m in \u001B[0;36m<module>\u001B[0;34m\u001B[0m\n\u001B[1;32m      1\u001B[0m \u001B[0;32mwith\u001B[0m \u001B[0mtorch\u001B[0m\u001B[0;34m.\u001B[0m\u001B[0mautograd\u001B[0m\u001B[0;34m.\u001B[0m\u001B[0mset_detect_anomaly\u001B[0m\u001B[0;34m(\u001B[0m\u001B[0;32mTrue\u001B[0m\u001B[0;34m)\u001B[0m\u001B[0;34m:\u001B[0m\u001B[0;34m\u001B[0m\u001B[0;34m\u001B[0m\u001B[0m\n\u001B[0;32m----> 2\u001B[0;31m     \u001B[0mq2_results\u001B[0m\u001B[0;34m(\u001B[0m\u001B[0mq2\u001B[0m\u001B[0;34m)\u001B[0m\u001B[0;34m\u001B[0m\u001B[0;34m\u001B[0m\u001B[0m\n\u001B[0m",
      "\u001B[0;32m~/PycharmProjects/hse_dul/Homework/hw8/dul_2021/utils/hw8_utils.py\u001B[0m in \u001B[0;36mq2_results\u001B[0;34m(q)\u001B[0m\n\u001B[1;32m     87\u001B[0m     \u001B[0mtrain_data\u001B[0m\u001B[0;34m,\u001B[0m \u001B[0mtest_data\u001B[0m \u001B[0;34m=\u001B[0m \u001B[0mload_pickled_data\u001B[0m\u001B[0;34m(\u001B[0m\u001B[0mjoin\u001B[0m\u001B[0;34m(\u001B[0m\u001B[0mdata_dir\u001B[0m\u001B[0;34m,\u001B[0m \u001B[0;34m'mnist.pkl'\u001B[0m\u001B[0;34m)\u001B[0m\u001B[0;34m)\u001B[0m\u001B[0;34m\u001B[0m\u001B[0;34m\u001B[0m\u001B[0m\n\u001B[1;32m     88\u001B[0m \u001B[0;34m\u001B[0m\u001B[0m\n\u001B[0;32m---> 89\u001B[0;31m     \u001B[0mtrain_elbo\u001B[0m\u001B[0;34m,\u001B[0m \u001B[0mtrain_clf\u001B[0m\u001B[0;34m,\u001B[0m \u001B[0mtest_elbo\u001B[0m\u001B[0;34m,\u001B[0m \u001B[0mtest_clf\u001B[0m\u001B[0;34m,\u001B[0m \u001B[0msamples\u001B[0m \u001B[0;34m=\u001B[0m \u001B[0mq\u001B[0m\u001B[0;34m(\u001B[0m\u001B[0mtrain_data\u001B[0m\u001B[0;34m,\u001B[0m \u001B[0mtest_data\u001B[0m\u001B[0;34m)\u001B[0m\u001B[0;34m\u001B[0m\u001B[0;34m\u001B[0m\u001B[0m\n\u001B[0m\u001B[1;32m     90\u001B[0m \u001B[0;34m\u001B[0m\u001B[0m\n\u001B[1;32m     91\u001B[0m     \u001B[0mplot_avb_training_plot\u001B[0m\u001B[0;34m(\u001B[0m\u001B[0mtrain_elbo\u001B[0m\u001B[0;34m,\u001B[0m \u001B[0mtrain_clf\u001B[0m\u001B[0;34m,\u001B[0m \u001B[0mtest_elbo\u001B[0m\u001B[0;34m,\u001B[0m \u001B[0mtest_clf\u001B[0m\u001B[0;34m,\u001B[0m \u001B[0;34m'Training Loss'\u001B[0m\u001B[0;34m)\u001B[0m\u001B[0;34m\u001B[0m\u001B[0;34m\u001B[0m\u001B[0m\n",
      "\u001B[0;32m/var/folders/zg/dd_4mghs167bb5hrrgz9w4y40000gn/T/ipykernel_50561/3636429016.py\u001B[0m in \u001B[0;36mq2\u001B[0;34m(train_data, *_, **__)\u001B[0m\n\u001B[1;32m     10\u001B[0m     \u001B[0mmodel\u001B[0m \u001B[0;34m=\u001B[0m \u001B[0mAVB\u001B[0m\u001B[0;34m(\u001B[0m\u001B[0;34m)\u001B[0m\u001B[0;34m\u001B[0m\u001B[0;34m\u001B[0m\u001B[0m\n\u001B[1;32m     11\u001B[0m     \u001B[0mmodel\u001B[0m\u001B[0;34m.\u001B[0m\u001B[0mto\u001B[0m\u001B[0;34m(\u001B[0m\u001B[0mDEVICE\u001B[0m\u001B[0;34m)\u001B[0m\u001B[0;34m\u001B[0m\u001B[0;34m\u001B[0m\u001B[0m\n\u001B[0;32m---> 12\u001B[0;31m     \u001B[0mmodel\u001B[0m\u001B[0;34m.\u001B[0m\u001B[0mfit\u001B[0m\u001B[0;34m(\u001B[0m\u001B[0mtrain_data\u001B[0m\u001B[0;34m.\u001B[0m\u001B[0mtranspose\u001B[0m\u001B[0;34m(\u001B[0m\u001B[0;36m0\u001B[0m\u001B[0;34m,\u001B[0m \u001B[0;36m3\u001B[0m\u001B[0;34m,\u001B[0m \u001B[0;36m1\u001B[0m\u001B[0;34m,\u001B[0m \u001B[0;36m2\u001B[0m\u001B[0;34m)\u001B[0m\u001B[0;34m.\u001B[0m\u001B[0mastype\u001B[0m\u001B[0;34m(\u001B[0m\u001B[0mnp\u001B[0m\u001B[0;34m.\u001B[0m\u001B[0mfloat32\u001B[0m\u001B[0;34m)\u001B[0m\u001B[0;34m)\u001B[0m\u001B[0;34m\u001B[0m\u001B[0;34m\u001B[0m\u001B[0m\n\u001B[0m",
      "\u001B[0;32m/var/folders/zg/dd_4mghs167bb5hrrgz9w4y40000gn/T/ipykernel_50561/4022589288.py\u001B[0m in \u001B[0;36mfit\u001B[0;34m(self, train_data, n_epochs, lr, bs)\u001B[0m\n\u001B[1;32m    128\u001B[0m                 \u001B[0mg_opt\u001B[0m\u001B[0;34m.\u001B[0m\u001B[0mstep\u001B[0m\u001B[0;34m(\u001B[0m\u001B[0;34m)\u001B[0m\u001B[0;34m\u001B[0m\u001B[0;34m\u001B[0m\u001B[0m\n\u001B[1;32m    129\u001B[0m \u001B[0;34m\u001B[0m\u001B[0m\n\u001B[0;32m--> 130\u001B[0;31m                 \u001B[0md_loss\u001B[0m\u001B[0;34m.\u001B[0m\u001B[0mbackward\u001B[0m\u001B[0;34m(\u001B[0m\u001B[0mretain_graph\u001B[0m\u001B[0;34m=\u001B[0m\u001B[0;32mTrue\u001B[0m\u001B[0;34m)\u001B[0m\u001B[0;34m\u001B[0m\u001B[0;34m\u001B[0m\u001B[0m\n\u001B[0m\u001B[1;32m    131\u001B[0m                 \u001B[0md_opt\u001B[0m\u001B[0;34m.\u001B[0m\u001B[0mstep\u001B[0m\u001B[0;34m(\u001B[0m\u001B[0;34m)\u001B[0m\u001B[0;34m\u001B[0m\u001B[0;34m\u001B[0m\u001B[0m\n\u001B[1;32m    132\u001B[0m \u001B[0;34m\u001B[0m\u001B[0m\n",
      "\u001B[0;32m~/.conda/envs/hse_dul/lib/python3.9/site-packages/torch/_tensor.py\u001B[0m in \u001B[0;36mbackward\u001B[0;34m(self, gradient, retain_graph, create_graph, inputs)\u001B[0m\n\u001B[1;32m    305\u001B[0m                 \u001B[0mcreate_graph\u001B[0m\u001B[0;34m=\u001B[0m\u001B[0mcreate_graph\u001B[0m\u001B[0;34m,\u001B[0m\u001B[0;34m\u001B[0m\u001B[0;34m\u001B[0m\u001B[0m\n\u001B[1;32m    306\u001B[0m                 inputs=inputs)\n\u001B[0;32m--> 307\u001B[0;31m         \u001B[0mtorch\u001B[0m\u001B[0;34m.\u001B[0m\u001B[0mautograd\u001B[0m\u001B[0;34m.\u001B[0m\u001B[0mbackward\u001B[0m\u001B[0;34m(\u001B[0m\u001B[0mself\u001B[0m\u001B[0;34m,\u001B[0m \u001B[0mgradient\u001B[0m\u001B[0;34m,\u001B[0m \u001B[0mretain_graph\u001B[0m\u001B[0;34m,\u001B[0m \u001B[0mcreate_graph\u001B[0m\u001B[0;34m,\u001B[0m \u001B[0minputs\u001B[0m\u001B[0;34m=\u001B[0m\u001B[0minputs\u001B[0m\u001B[0;34m)\u001B[0m\u001B[0;34m\u001B[0m\u001B[0;34m\u001B[0m\u001B[0m\n\u001B[0m\u001B[1;32m    308\u001B[0m \u001B[0;34m\u001B[0m\u001B[0m\n\u001B[1;32m    309\u001B[0m     \u001B[0;32mdef\u001B[0m \u001B[0mregister_hook\u001B[0m\u001B[0;34m(\u001B[0m\u001B[0mself\u001B[0m\u001B[0;34m,\u001B[0m \u001B[0mhook\u001B[0m\u001B[0;34m)\u001B[0m\u001B[0;34m:\u001B[0m\u001B[0;34m\u001B[0m\u001B[0;34m\u001B[0m\u001B[0m\n",
      "\u001B[0;32m~/.conda/envs/hse_dul/lib/python3.9/site-packages/torch/autograd/__init__.py\u001B[0m in \u001B[0;36mbackward\u001B[0;34m(tensors, grad_tensors, retain_graph, create_graph, grad_variables, inputs)\u001B[0m\n\u001B[1;32m    152\u001B[0m         \u001B[0mretain_graph\u001B[0m \u001B[0;34m=\u001B[0m \u001B[0mcreate_graph\u001B[0m\u001B[0;34m\u001B[0m\u001B[0;34m\u001B[0m\u001B[0m\n\u001B[1;32m    153\u001B[0m \u001B[0;34m\u001B[0m\u001B[0m\n\u001B[0;32m--> 154\u001B[0;31m     Variable._execution_engine.run_backward(\n\u001B[0m\u001B[1;32m    155\u001B[0m         \u001B[0mtensors\u001B[0m\u001B[0;34m,\u001B[0m \u001B[0mgrad_tensors_\u001B[0m\u001B[0;34m,\u001B[0m \u001B[0mretain_graph\u001B[0m\u001B[0;34m,\u001B[0m \u001B[0mcreate_graph\u001B[0m\u001B[0;34m,\u001B[0m \u001B[0minputs\u001B[0m\u001B[0;34m,\u001B[0m\u001B[0;34m\u001B[0m\u001B[0;34m\u001B[0m\u001B[0m\n\u001B[1;32m    156\u001B[0m         allow_unreachable=True, accumulate_grad=True)  # allow_unreachable flag\n",
      "\u001B[0;31mRuntimeError\u001B[0m: one of the variables needed for gradient computation has been modified by an inplace operation: [torch.FloatTensor [2112, 64]], which is output 0 of AsStridedBackward0, is at version 2; expected version 1 instead. Hint: the backtrace further above shows the operation that failed to compute its gradient. The variable in question was changed in there or anywhere later. Good luck!"
     ]
    }
   ],
   "source": [
    "with torch.autograd.set_detect_anomaly(True):\n",
    "    q2_results(q2)"
   ]
  },
  {
   "cell_type": "code",
   "execution_count": null,
   "metadata": {
    "id": "UvY7ZnKOf_p3"
   },
   "outputs": [],
   "source": []
  },
  {
   "cell_type": "code",
   "execution_count": null,
   "metadata": {},
   "outputs": [],
   "source": []
  }
 ],
 "metadata": {
  "accelerator": "GPU",
  "colab": {
   "collapsed_sections": [],
   "include_colab_link": true,
   "name": "Homework8_DRE.ipynb",
   "provenance": []
  },
  "kernelspec": {
   "display_name": "hse_dul",
   "language": "python",
   "name": "hse_dul"
  },
  "language_info": {
   "codemirror_mode": {
    "name": "ipython",
    "version": 3
   },
   "file_extension": ".py",
   "mimetype": "text/x-python",
   "name": "python",
   "nbconvert_exporter": "python",
   "pygments_lexer": "ipython3",
   "version": "3.9.7"
  }
 },
 "nbformat": 4,
 "nbformat_minor": 1
}