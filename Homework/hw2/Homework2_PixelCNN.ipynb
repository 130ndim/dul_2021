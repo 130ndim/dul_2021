{
 "cells": [
  {
   "cell_type": "markdown",
   "metadata": {
    "colab_type": "text",
    "id": "view-in-github"
   },
   "source": [
    "<a href=\"https://colab.research.google.com/github/GrigoryBartosh/dul_2021/blob/main/Homework/hw2/Homework2_PixelCNN.ipynb\" target=\"_parent\"><img src=\"https://colab.research.google.com/assets/colab-badge.svg\" alt=\"Open In Colab\"/></a>"
   ]
  },
  {
   "cell_type": "code",
   "execution_count": 2,
   "metadata": {
    "colab": {
     "base_uri": "https://localhost:8080/"
    },
    "id": "wUVy2glDtoaR",
    "outputId": "e55bab5f-27ce-4177-c5ac-8f54148a37d5"
   },
   "outputs": [
    {
     "name": "stdout",
     "output_type": "stream",
     "text": [
      "Cloning into 'dul_2021'...\n",
      "remote: Enumerating objects: 123, done.\u001B[K\n",
      "remote: Counting objects: 100% (123/123), done.\u001B[K\n",
      "remote: Compressing objects: 100% (87/87), done.\u001B[K\n",
      "remote: Total 123 (delta 48), reused 71 (delta 22), pack-reused 0\u001B[K\n",
      "Receiving objects: 100% (123/123), 26.19 MiB | 21.00 MiB/s, done.\n",
      "Resolving deltas: 100% (48/48), done.\n",
      "dul_2021/Homework/hw1/data/hw1_data/geoffrey-hinton.jpg -> dul_2021/Homework/hw1/data/geoffrey-hinton.jpg\n",
      "dul_2021/Homework/hw1/data/hw1_data/mnist.pkl -> dul_2021/Homework/hw1/data/mnist.pkl\n",
      "dul_2021/Homework/hw1/data/hw1_data/mnist_colored.pkl -> dul_2021/Homework/hw1/data/mnist_colored.pkl\n",
      "dul_2021/Homework/hw1/data/hw1_data/shapes.pkl -> dul_2021/Homework/hw1/data/shapes.pkl\n",
      "dul_2021/Homework/hw1/data/hw1_data/shapes_colored.pkl -> dul_2021/Homework/hw1/data/shapes_colored.pkl\n",
      "dul_2021/Homework/hw1/data/hw1_data/smiley.jpg -> dul_2021/Homework/hw1/data/smiley.jpg\n",
      "Processing ./dul_2021\n",
      "\u001B[33m  DEPRECATION: A future pip version will change local packages to be built in-place without first copying to a temporary directory. We recommend you use --use-feature=in-tree-build to test your packages with this new behavior before it becomes the default.\n",
      "   pip 21.3 will remove support for this functionality. You can find discussion regarding this at https://github.com/pypa/pip/issues/7555.\u001B[0m\n",
      "Building wheels for collected packages: dul-2021\n",
      "  Building wheel for dul-2021 (setup.py) ... \u001B[?25ldone\n",
      "\u001B[?25h  Created wheel for dul-2021: filename=dul_2021-0.1.0-py3-none-any.whl size=11040 sha256=d5613c873accb37567c5e2993044c695eefb27c79590f852251f167f60425144\n",
      "  Stored in directory: /private/var/folders/zg/dd_4mghs167bb5hrrgz9w4y40000gn/T/pip-ephem-wheel-cache-nb2m43by/wheels/b5/c9/ea/2ce5ab4966f875ada971945c7776ca97e1a8e96b02e30bbbc5\n",
      "Successfully built dul-2021\n",
      "Installing collected packages: dul-2021\n",
      "  Attempting uninstall: dul-2021\n",
      "    Found existing installation: dul-2021 0.1.0\n",
      "    Uninstalling dul-2021-0.1.0:\n",
      "      Successfully uninstalled dul-2021-0.1.0\n",
      "Successfully installed dul-2021-0.1.0\n"
     ]
    }
   ],
   "source": [
    "!if [ -d dul_2021 ]; then rm -Rf dul_2021; fi\n",
    "!git clone --single-branch --branch main https://github.com/GrigoryBartosh/dul_2021\n",
    "!unzip -qq dul_2021/Homework/hw1/data/hw1_data.zip -d dul_2021/Homework/hw1/data/\n",
    "!mv -v dul_2021/Homework/hw1/data/hw1_data/* dul_2021/Homework/hw1/data/\n",
    "!rmdir dul_2021/Homework/hw1/data/hw1_data/\n",
    "!pip install ./dul_2021"
   ]
  },
  {
   "cell_type": "code",
   "execution_count": 42,
   "metadata": {
    "id": "ZHWosWrbpO5Y",
    "pycharm": {
     "is_executing": true
    }
   },
   "outputs": [],
   "source": [
    "from abc import ABC, abstractmethod\n",
    "\n",
    "import torch\n",
    "\n",
    "DEVICE = torch.device('cuda' if torch.cuda.is_available() else 'cpu')\n",
    "\n",
    "from torch import Tensor, nn\n",
    "from torch.nn import functional as F\n",
    "\n",
    "from torch.optim import Adam\n",
    "from torch.utils.data import DataLoader, TensorDataset\n",
    "\n",
    "from tqdm.auto import tqdm\n",
    "\n",
    "from dul_2021.utils.hw2_utils import *"
   ]
  },
  {
   "cell_type": "code",
   "execution_count": 102,
   "metadata": {},
   "outputs": [],
   "source": [
    "@torch.no_grad()\n",
    "def test_epoch(model, dl):\n",
    "    loss = 0.\n",
    "    for batch in tqdm(dl, leave=False, desc='Testing'):\n",
    "        cond = None\n",
    "        if len(batch) == 2:\n",
    "            batch, cond = batch\n",
    "            cond.to(DEVICE)\n",
    "            \n",
    "        batch = batch.to(DEVICE)\n",
    "        rec = model(batch, cond)\n",
    "        loss += F.cross_entropy(rec, batch)\n",
    "    \n",
    "    return (loss / len(dl)).item()\n",
    "\n",
    "\n",
    "def train_epoch(model, optimizer, dl, loss_acc):\n",
    "    bar = tqdm(dl, leave=False, desc='Training')\n",
    "    for batch in bar:\n",
    "        cond = None\n",
    "        if len(batch) == 2:\n",
    "            batch, cond = batch\n",
    "            cond.to(DEVICE)\n",
    "            \n",
    "        batch = batch.to(DEVICE)\n",
    "        rec = model(batch, cond)\n",
    "        \n",
    "        loss = F.cross_entropy(rec, batch)\n",
    "        bar.set_postfix_str(f'loss = {loss.item():.5f}')\n",
    "        loss_acc.append(loss.item())\n",
    "        \n",
    "        optimizer.zero_grad()\n",
    "        loss.backward()\n",
    "        optimizer.step()\n",
    "        \n",
    "def train(model, optimizer, train_dl, test_dl, epochs=20):\n",
    "    train_losses = []\n",
    "    test_losses = [test_epoch(model, test_dl)]\n",
    "    \n",
    "    range_bar = tqdm(range(epochs), desc='Epoch')\n",
    "    for ep in range_bar:\n",
    "        train_epoch(model, optimizer, train_dl, train_losses)\n",
    "        \n",
    "        loss = test_epoch(model, test_dl)\n",
    "        test_losses.append(loss)\n",
    "        range_bar.set_postfix_str(f'test_loss = {loss:.5f}')\n",
    "        \n",
    "    return train_losses, test_losses\n",
    "    \n",
    "    \n",
    "@torch.no_grad()\n",
    "def sample(model, input_shape, n=100, cond=None):\n",
    "    h, w, c = input_shape\n",
    "    x = torch.zeros(n, c, h, w, dtype=torch.long, device=DEVICE)\n",
    "    bar = tqdm(total=np.prod(input_shape), desc='Sampling')\n",
    "    for i in range(input_shape[0]):\n",
    "        for j in range(input_shape[1]):\n",
    "            for k in range(input_shape[2]):\n",
    "                probs = model(x, cond=cond).softmax(1)[..., k, i, j]\n",
    "                x[..., k, i, j] = torch.multinomial(probs, 1)[..., 0]\n",
    "                bar.update(1)\n",
    "    x = x.permute(0, 2, 3, 1)\n",
    "    return x.cpu().numpy()"
   ]
  },
  {
   "cell_type": "code",
   "execution_count": 103,
   "metadata": {},
   "outputs": [],
   "source": [
    "class MaskedConv2d(nn.Conv2d, ABC):\n",
    "    def __init__(self, in_channels, out_channels, kernel_size, *args, color_cond=False, cond_size=None, **kwargs):\n",
    "        self.color_cond = color_cond\n",
    "        super().__init__(in_channels, out_channels, kernel_size, *args, **kwargs)\n",
    "        self.register_buffer('mask', self.get_mask())\n",
    "        \n",
    "        if cond_size is not None:\n",
    "            self.cond_encoder = nn.Embedding(cond_size, out_channels)\n",
    "        else:\n",
    "            self.register_parameter('cond_encoder', None)\n",
    "       \n",
    "    @abstractmethod\n",
    "    def get_mask(self) -> Tensor:\n",
    "        raise NotImplementedError\n",
    "        \n",
    "    def forward(self, x, cond=None):\n",
    "        x = F.conv2d(x, self.weight * self.mask, self.bias, self.stride, self.padding, self.dilation, self.groups)\n",
    "        \n",
    "        if self.cond_encoder is not None:\n",
    "            x = x + self.cond_encoder(cond)[..., None, None]\n",
    "            \n",
    "        return x\n",
    "    \n",
    "\n",
    "class Conv2dA(MaskedConv2d):\n",
    "    def get_mask(self):\n",
    "        oc, ic, h, w = self.weight.size()\n",
    "        mask = torch.zeros(oc, ic, h, w)\n",
    "        mask[..., h // 2, :w // 2] = 1.\n",
    "        mask[..., :h // 2 + 1, :] = 1.\n",
    "        \n",
    "        if self.color_cond:\n",
    "            one_third_out, one_third_in = oc // 3, ic // 3\n",
    "            mask[one_third_out:2 * one_third_out, :one_third_in, h // 2, w // 2] = 1.\n",
    "            mask[2 * one_third_out:, :2 * one_third_in, h // 2, w // 2] = 1.\n",
    "        return mask\n",
    "        \n",
    "        \n",
    "class Conv2dB(MaskedConv2d):\n",
    "    def get_mask(self):\n",
    "        oc, ic, h, w = self.weight.size()\n",
    "        mask = torch.zeros(oc, ic, h, w)\n",
    "        mask[..., h // 2, :w // 2 + 1] = 1.\n",
    "        mask[..., :h // 2 + 1, :] = 1.\n",
    "        \n",
    "        if self.color_cond:\n",
    "            one_third_out, one_third_in = oc // 3, ic // 3\n",
    "            mask[:one_third_out, :one_third_in, h // 2, w // 2] = 1.\n",
    "            mask[one_third_out:2 * one_third_out, :2 * one_third_in, h // 2, w // 2] = 1.\n",
    "            mask[2 * one_third_out:, :, h // 2, w // 2] = 1.\n",
    "        return mask\n",
    "    \n",
    "\n",
    "class ResBlock(nn.Module):\n",
    "    def __init__(self, channels, kernel_size=7, **kwargs):\n",
    "        super().__init__()\n",
    "        self.layers = nn.ModuleList([\n",
    "            nn.ReLU(inplace=True),\n",
    "            Conv2dB(channels, channels // 2, 1, **kwargs),\n",
    "            nn.ReLU(inplace=True),\n",
    "            Conv2dB(channels // 2, channels // 2, kernel_size, padding=kernel_size // 2, **kwargs),\n",
    "            nn.ReLU(inplace=True),\n",
    "            Conv2dB(channels // 2, channels, 1, **kwargs),\n",
    "        ])\n",
    "        \n",
    "    def forward(self, x, cond=None):\n",
    "        out = x\n",
    "        for i, layer in enumerate(self.layers):\n",
    "            if i % 2 != 0:\n",
    "                out = layer(out, cond)\n",
    "            else:\n",
    "                out = layer(out)\n",
    "        return x + out\n",
    "    \n",
    "\n",
    "class LayerNorm(nn.LayerNorm):\n",
    "    def __init__(self, n_filters, *args, color_cond, **kwargs):\n",
    "        if color_cond:\n",
    "            n_filters //= 3\n",
    "        super().__init__(n_filters, *args, **kwargs)\n",
    "        self.color_cond = color_cond\n",
    "\n",
    "    def forward(self, x):\n",
    "        x = x.permute(0, 2, 3, 1).contiguous()\n",
    "        x_size = x.size()\n",
    "        \n",
    "        if self.color_cond:\n",
    "            x = x.view((*x.size()[:-1], 3, -1))\n",
    "            \n",
    "        x = super().forward(x)\n",
    "        \n",
    "        if self.color_cond:\n",
    "            x = x.view(x_size)\n",
    "            \n",
    "        return x.permute(0, 3, 1, 2).contiguous()\n",
    "    \n",
    "    \n",
    "class PixelCNN(nn.Module):\n",
    "    def __init__(self, n_colors, n_color_values, n_channels, \n",
    "                 n_layers=5, kernel_size=7, color_cond=False, cond_size=None):\n",
    "        super().__init__()\n",
    "        self.n_colors = n_colors\n",
    "        self.n_color_values = n_color_values\n",
    "        self.color_cond = color_cond\n",
    "        \n",
    "        cond_kws = {'color_cond': color_cond, 'cond_size': cond_size}\n",
    "        self.layers = nn.ModuleList(\n",
    "            [Conv2dA(n_colors, n_channels, kernel_size, padding=kernel_size // 2, **cond_kws)]\n",
    "        )\n",
    "        \n",
    "        for i in range(n_layers):\n",
    "            self.layers.append(LayerNorm(n_channels, color_cond=color_cond))\n",
    "            self.layers.append(ResBlock(n_channels, kernel_size=kernel_size, **cond_kws))\n",
    "        \n",
    "        self.layers.append(LayerNorm(n_channels, color_cond=color_cond))\n",
    "        self.layers.append(nn.ReLU(inplace=True))\n",
    "        self.layers.append(Conv2dB(n_channels, n_colors * n_color_values, 1, **cond_kws))\n",
    "        \n",
    "    def forward(self, x, cond=None):\n",
    "        c, h, w = x.size()[1:]\n",
    "        x = x.float() / self.n_color_values\n",
    "        for layer in self.layers:\n",
    "            if isinstance(layer, (MaskedConv2d, ResBlock)):\n",
    "                x = layer(x, cond)\n",
    "            else:\n",
    "                x = layer(x)\n",
    "#         if self.color_cond:\n",
    "#             x = x.view(-1, self.n_color_values, self.n_colors, h, w)\n",
    "#         else:\n",
    "        x = x.view(-1, self.n_color_values, c, h, w)\n",
    "        return x\n"
   ]
  },
  {
   "cell_type": "markdown",
   "metadata": {
    "id": "dP8lmmk7Xrct"
   },
   "source": [
    "# Question 1 PixelCNNs"
   ]
  },
  {
   "cell_type": "markdown",
   "metadata": {
    "id": "8J7qlqlODNgL"
   },
   "source": [
    "## Part (a) PixelCNN on Colored Shapes and MNIST: Independent Color Channels\n",
    "\n",
    "For the next two parts, we'll work with color images (shapes and MNIST). Run the cell below to visualize the dataset."
   ]
  },
  {
   "cell_type": "code",
   "execution_count": 26,
   "metadata": {
    "colab": {
     "base_uri": "https://localhost:8080/",
     "height": 511
    },
    "id": "80f_7uZWkDSv",
    "outputId": "ec94d5e7-a77c-4d00-c57e-cd30472362eb"
   },
   "outputs": [
    {
     "data": {
      "image/png": "[encoded data removed]",
      "text/plain": [
       "<Figure size 432x288 with 1 Axes>"
      ]
     },
     "metadata": {
      "needs_background": "light"
     },
     "output_type": "display_data"
    },
    {
     "data": {
      "image/png": "[encoded data removed]",
      "text/plain": [
       "<Figure size 432x288 with 1 Axes>"
      ]
     },
     "metadata": {
      "needs_background": "light"
     },
     "output_type": "display_data"
    }
   ],
   "source": [
    "visualize_q1a_data(1)\n",
    "visualize_q1a_data(2)\n",
    "# you can get access to the data with q1ab_get_data"
   ]
  },
  {
   "cell_type": "markdown",
   "metadata": {
    "id": "3Y6NggR6gmU9"
   },
   "source": [
    "Now, implement a PixelCNN to support RGB color channels (or augment your existing implementation). **First, implement a PixelCNN that assumes color channels as independent.** More formally, we model the following parameterized distribution:\n",
    "\n",
    "$$p_\\theta(x) = \\prod_{i=1}^{HW}\\prod_{c=1}^C p_\\theta(x_i^c | x_{<i})$$\n",
    "\n",
    "Here are some tips that you may find useful for designing and training these models:\n",
    "* You will need a 4-way softmax for every prediction, as opposed to a 256-way softmax in the PixelCNN paper, since the dataset is quantized to two bits per color channel\n",
    "* You can set number of filters for each convolutions to 120. You can use the ReLU nonlinearity throughout.\n",
    "* Use a stack of 8 residual block architecture from [Figure 5](https://arxiv.org/abs/1601.06759) but with 7 x 7 masked convolutions in the middle instead of 3 x 3 masked convolutions\n",
    "* Consider using [layer normalization](https://arxiv.org/abs/1607.06450) to improve performance. However, be careful to maintain the autoregressive property.\n",
    "* With a learning rate of $10^{-3}$ and a batch size of 128, it should take a few minutes to run on the shapes dataset, and about 50-60 minutes on MNIST.\n",
    "\n",
    "**You will provide these deliverables**\n",
    "\n",
    "\n",
    "1.   Over the course of training, record the average negative log-likelihood (nats / dim) of the training data (per minibatch) and test data (for your entire test set). Code is provided that automatically plots the training curves. \n",
    "2.   Report the final test set performance of your final model\n",
    "3. 100 samples from the final trained model\n",
    "\n"
   ]
  },
  {
   "cell_type": "markdown",
   "metadata": {
    "id": "GwJQG9i1iQOa"
   },
   "source": [
    "### Solution\n",
    "Fill out the function below and return the necessary arguments. Feel free to create more cells if need be."
   ]
  },
  {
   "cell_type": "code",
   "execution_count": 132,
   "metadata": {
    "id": "NE99xTPJDLM7"
   },
   "outputs": [],
   "source": [
    "def q1_a(train_data, test_data, image_shape, dset_id):\n",
    "    \"\"\"\n",
    "    train_data: A (n_train, H, W, C) uint8 numpy array of color images with values in {0, 1, 2, 3}\n",
    "    test_data: A (n_test, H, W, C) uint8 numpy array of color images with values in {0, 1, 2, 3}\n",
    "    image_shape: (H, W, C), height, width, and # of channels of the image\n",
    "    dset_id: An identifying number of which dataset is given (1 or 2). Most likely\n",
    "           used to set different hyperparameters for different datasets\n",
    "\n",
    "    Returns\n",
    "    - a (# of training iterations,) numpy array of train_losses evaluated every minibatch\n",
    "    - a (# of epochs + 1,) numpy array of test_losses evaluated once at initialization and after each epoch\n",
    "    - a numpy array of size (100, H, W, C) of samples with values in {0, 1, 2, 3}\n",
    "    \"\"\"\n",
    "\n",
    "    model = PixelCNN(image_shape[-1], 4, 120, 8).to(DEVICE)\n",
    "    optim = Adam(model.parameters(), lr=1e-3)\n",
    "\n",
    "    train_data = train_data.transpose(0, 3, 1, 2).astype(np.int64)\n",
    "    test_data = test_data.transpose(0, 3, 1, 2).astype(np.int64)\n",
    "\n",
    "    train_dl = DataLoader(train_data, batch_size=64, shuffle=True, drop_last=True)\n",
    "    test_dl = DataLoader(test_data, batch_size=64)\n",
    "\n",
    "    train_losses, test_losses = train(model, optim, train_dl, test_dl)\n",
    "\n",
    "    samples = sample(model, image_shape)\n",
    "\n",
    "    return train_losses, test_losses, samples"
   ]
  },
  {
   "cell_type": "markdown",
   "metadata": {
    "id": "mGp2OsLKiToN"
   },
   "source": [
    "### Results\n",
    "\n",
    "Once you've implemented `q1_a`, execute the cells below to visualize and save your results\n",
    "\n"
   ]
  },
  {
   "cell_type": "code",
   "execution_count": 22,
   "metadata": {
    "colab": {
     "base_uri": "https://localhost:8080/",
     "height": 577
    },
    "id": "kW-k-59qJaKN",
    "outputId": "78b08f6a-12db-46b7-ac27-a07693a9cd09"
   },
   "outputs": [
    {
     "data": {
      "application/vnd.jupyter.widget-view+json": {
       "model_id": "c7404a46d4114373a3bcb49a8dbd400f",
       "version_major": 2,
       "version_minor": 0
      },
      "text/plain": [
       "Testing:   0%|          | 0/71 [00:00<?, ?it/s]"
      ]
     },
     "metadata": {},
     "output_type": "display_data"
    },
    {
     "ename": "KeyboardInterrupt",
     "evalue": "",
     "output_type": "error",
     "traceback": [
      "\u001B[0;31m---------------------------------------------------------------------------\u001B[0m",
      "\u001B[0;31mKeyboardInterrupt\u001B[0m                         Traceback (most recent call last)",
      "\u001B[0;32m/var/folders/zg/dd_4mghs167bb5hrrgz9w4y40000gn/T/ipykernel_86103/376465682.py\u001B[0m in \u001B[0;36m<module>\u001B[0;34m\u001B[0m\n\u001B[0;32m----> 1\u001B[0;31m \u001B[0mq1ab_save_results\u001B[0m\u001B[0;34m(\u001B[0m\u001B[0;36m1\u001B[0m\u001B[0;34m,\u001B[0m \u001B[0;34m'a'\u001B[0m\u001B[0;34m,\u001B[0m \u001B[0mq1_a\u001B[0m\u001B[0;34m)\u001B[0m\u001B[0;34m\u001B[0m\u001B[0;34m\u001B[0m\u001B[0m\n\u001B[0m",
      "\u001B[0;32m~/PycharmProjects/hse_dul/Homework/hw2/dul_2021/utils/hw2_utils.py\u001B[0m in \u001B[0;36mq1ab_save_results\u001B[0;34m(dset_type, part, fn)\u001B[0m\n\u001B[1;32m     13\u001B[0m         \u001B[0;32mraise\u001B[0m \u001B[0mException\u001B[0m\u001B[0;34m(\u001B[0m\u001B[0;34m)\u001B[0m\u001B[0;34m\u001B[0m\u001B[0;34m\u001B[0m\u001B[0m\n\u001B[1;32m     14\u001B[0m \u001B[0;34m\u001B[0m\u001B[0m\n\u001B[0;32m---> 15\u001B[0;31m     \u001B[0mtrain_losses\u001B[0m\u001B[0;34m,\u001B[0m \u001B[0mtest_losses\u001B[0m\u001B[0;34m,\u001B[0m \u001B[0msamples\u001B[0m \u001B[0;34m=\u001B[0m \u001B[0mfn\u001B[0m\u001B[0;34m(\u001B[0m\u001B[0mtrain_data\u001B[0m\u001B[0;34m,\u001B[0m \u001B[0mtest_data\u001B[0m\u001B[0;34m,\u001B[0m \u001B[0mimg_shape\u001B[0m\u001B[0;34m,\u001B[0m \u001B[0mdset_type\u001B[0m\u001B[0;34m)\u001B[0m\u001B[0;34m\u001B[0m\u001B[0;34m\u001B[0m\u001B[0m\n\u001B[0m\u001B[1;32m     16\u001B[0m     \u001B[0msamples\u001B[0m \u001B[0;34m=\u001B[0m \u001B[0msamples\u001B[0m\u001B[0;34m.\u001B[0m\u001B[0mastype\u001B[0m\u001B[0;34m(\u001B[0m\u001B[0;34m'float32'\u001B[0m\u001B[0;34m)\u001B[0m \u001B[0;34m/\u001B[0m \u001B[0;36m3\u001B[0m \u001B[0;34m*\u001B[0m \u001B[0;36m255\u001B[0m\u001B[0;34m\u001B[0m\u001B[0;34m\u001B[0m\u001B[0m\n\u001B[1;32m     17\u001B[0m \u001B[0;34m\u001B[0m\u001B[0m\n",
      "\u001B[0;32m/var/folders/zg/dd_4mghs167bb5hrrgz9w4y40000gn/T/ipykernel_86103/521685572.py\u001B[0m in \u001B[0;36mq1_a\u001B[0;34m(train_data, test_data, image_shape, dset_id)\u001B[0m\n\u001B[1;32m     22\u001B[0m     \u001B[0mtest_dl\u001B[0m \u001B[0;34m=\u001B[0m \u001B[0mDataLoader\u001B[0m\u001B[0;34m(\u001B[0m\u001B[0mtest_data\u001B[0m\u001B[0;34m,\u001B[0m \u001B[0mbatch_size\u001B[0m\u001B[0;34m=\u001B[0m\u001B[0;36m64\u001B[0m\u001B[0;34m)\u001B[0m\u001B[0;34m\u001B[0m\u001B[0;34m\u001B[0m\u001B[0m\n\u001B[1;32m     23\u001B[0m \u001B[0;34m\u001B[0m\u001B[0m\n\u001B[0;32m---> 24\u001B[0;31m     \u001B[0mtrain_losses\u001B[0m\u001B[0;34m,\u001B[0m \u001B[0mtest_losses\u001B[0m \u001B[0;34m=\u001B[0m \u001B[0mtrain\u001B[0m\u001B[0;34m(\u001B[0m\u001B[0mmodel\u001B[0m\u001B[0;34m,\u001B[0m \u001B[0moptim\u001B[0m\u001B[0;34m,\u001B[0m \u001B[0mtrain_dl\u001B[0m\u001B[0;34m,\u001B[0m \u001B[0mtest_dl\u001B[0m\u001B[0;34m)\u001B[0m\u001B[0;34m\u001B[0m\u001B[0;34m\u001B[0m\u001B[0m\n\u001B[0m\u001B[1;32m     25\u001B[0m \u001B[0;34m\u001B[0m\u001B[0m\n\u001B[1;32m     26\u001B[0m     \u001B[0msamples\u001B[0m \u001B[0;34m=\u001B[0m \u001B[0msample\u001B[0m\u001B[0;34m(\u001B[0m\u001B[0mmade\u001B[0m\u001B[0;34m)\u001B[0m\u001B[0;34m\u001B[0m\u001B[0;34m\u001B[0m\u001B[0m\n",
      "\u001B[0;32m/var/folders/zg/dd_4mghs167bb5hrrgz9w4y40000gn/T/ipykernel_86103/172133779.py\u001B[0m in \u001B[0;36mtrain\u001B[0;34m(model, optimizer, train_dl, test_dl, epochs)\u001B[0m\n\u001B[1;32m     26\u001B[0m \u001B[0;32mdef\u001B[0m \u001B[0mtrain\u001B[0m\u001B[0;34m(\u001B[0m\u001B[0mmodel\u001B[0m\u001B[0;34m,\u001B[0m \u001B[0moptimizer\u001B[0m\u001B[0;34m,\u001B[0m \u001B[0mtrain_dl\u001B[0m\u001B[0;34m,\u001B[0m \u001B[0mtest_dl\u001B[0m\u001B[0;34m,\u001B[0m \u001B[0mepochs\u001B[0m\u001B[0;34m=\u001B[0m\u001B[0;36m20\u001B[0m\u001B[0;34m)\u001B[0m\u001B[0;34m:\u001B[0m\u001B[0;34m\u001B[0m\u001B[0;34m\u001B[0m\u001B[0m\n\u001B[1;32m     27\u001B[0m     \u001B[0mtrain_losses\u001B[0m \u001B[0;34m=\u001B[0m \u001B[0;34m[\u001B[0m\u001B[0;34m]\u001B[0m\u001B[0;34m\u001B[0m\u001B[0;34m\u001B[0m\u001B[0m\n\u001B[0;32m---> 28\u001B[0;31m     \u001B[0mtest_losses\u001B[0m \u001B[0;34m=\u001B[0m \u001B[0;34m[\u001B[0m\u001B[0mtest_epoch\u001B[0m\u001B[0;34m(\u001B[0m\u001B[0mmodel\u001B[0m\u001B[0;34m,\u001B[0m \u001B[0mtest_dl\u001B[0m\u001B[0;34m)\u001B[0m\u001B[0;34m]\u001B[0m\u001B[0;34m\u001B[0m\u001B[0;34m\u001B[0m\u001B[0m\n\u001B[0m\u001B[1;32m     29\u001B[0m \u001B[0;34m\u001B[0m\u001B[0m\n\u001B[1;32m     30\u001B[0m     \u001B[0mrange_bar\u001B[0m \u001B[0;34m=\u001B[0m \u001B[0mtqdm\u001B[0m\u001B[0;34m(\u001B[0m\u001B[0mrange\u001B[0m\u001B[0;34m(\u001B[0m\u001B[0mepochs\u001B[0m\u001B[0;34m)\u001B[0m\u001B[0;34m,\u001B[0m \u001B[0mdesc\u001B[0m\u001B[0;34m=\u001B[0m\u001B[0;34m'Epoch'\u001B[0m\u001B[0;34m)\u001B[0m\u001B[0;34m\u001B[0m\u001B[0;34m\u001B[0m\u001B[0m\n",
      "\u001B[0;32m~/.conda/envs/hse_dul/lib/python3.9/site-packages/torch/autograd/grad_mode.py\u001B[0m in \u001B[0;36mdecorate_context\u001B[0;34m(*args, **kwargs)\u001B[0m\n\u001B[1;32m     26\u001B[0m         \u001B[0;32mdef\u001B[0m \u001B[0mdecorate_context\u001B[0m\u001B[0;34m(\u001B[0m\u001B[0;34m*\u001B[0m\u001B[0margs\u001B[0m\u001B[0;34m,\u001B[0m \u001B[0;34m**\u001B[0m\u001B[0mkwargs\u001B[0m\u001B[0;34m)\u001B[0m\u001B[0;34m:\u001B[0m\u001B[0;34m\u001B[0m\u001B[0;34m\u001B[0m\u001B[0m\n\u001B[1;32m     27\u001B[0m             \u001B[0;32mwith\u001B[0m \u001B[0mself\u001B[0m\u001B[0;34m.\u001B[0m\u001B[0m__class__\u001B[0m\u001B[0;34m(\u001B[0m\u001B[0;34m)\u001B[0m\u001B[0;34m:\u001B[0m\u001B[0;34m\u001B[0m\u001B[0;34m\u001B[0m\u001B[0m\n\u001B[0;32m---> 28\u001B[0;31m                 \u001B[0;32mreturn\u001B[0m \u001B[0mfunc\u001B[0m\u001B[0;34m(\u001B[0m\u001B[0;34m*\u001B[0m\u001B[0margs\u001B[0m\u001B[0;34m,\u001B[0m \u001B[0;34m**\u001B[0m\u001B[0mkwargs\u001B[0m\u001B[0;34m)\u001B[0m\u001B[0;34m\u001B[0m\u001B[0;34m\u001B[0m\u001B[0m\n\u001B[0m\u001B[1;32m     29\u001B[0m         \u001B[0;32mreturn\u001B[0m \u001B[0mcast\u001B[0m\u001B[0;34m(\u001B[0m\u001B[0mF\u001B[0m\u001B[0;34m,\u001B[0m \u001B[0mdecorate_context\u001B[0m\u001B[0;34m)\u001B[0m\u001B[0;34m\u001B[0m\u001B[0;34m\u001B[0m\u001B[0m\n\u001B[1;32m     30\u001B[0m \u001B[0;34m\u001B[0m\u001B[0m\n",
      "\u001B[0;32m/var/folders/zg/dd_4mghs167bb5hrrgz9w4y40000gn/T/ipykernel_86103/172133779.py\u001B[0m in \u001B[0;36mtest_epoch\u001B[0;34m(model, dl)\u001B[0m\n\u001B[1;32m      4\u001B[0m     \u001B[0;32mfor\u001B[0m \u001B[0mbatch\u001B[0m \u001B[0;32min\u001B[0m \u001B[0mtqdm\u001B[0m\u001B[0;34m(\u001B[0m\u001B[0mdl\u001B[0m\u001B[0;34m,\u001B[0m \u001B[0mleave\u001B[0m\u001B[0;34m=\u001B[0m\u001B[0;32mFalse\u001B[0m\u001B[0;34m,\u001B[0m \u001B[0mdesc\u001B[0m\u001B[0;34m=\u001B[0m\u001B[0;34m'Testing'\u001B[0m\u001B[0;34m)\u001B[0m\u001B[0;34m:\u001B[0m\u001B[0;34m\u001B[0m\u001B[0;34m\u001B[0m\u001B[0m\n\u001B[1;32m      5\u001B[0m         \u001B[0mbatch\u001B[0m \u001B[0;34m=\u001B[0m \u001B[0mbatch\u001B[0m\u001B[0;34m.\u001B[0m\u001B[0mto\u001B[0m\u001B[0;34m(\u001B[0m\u001B[0mDEVICE\u001B[0m\u001B[0;34m)\u001B[0m\u001B[0;34m\u001B[0m\u001B[0;34m\u001B[0m\u001B[0m\n\u001B[0;32m----> 6\u001B[0;31m         \u001B[0mrec\u001B[0m \u001B[0;34m=\u001B[0m \u001B[0mmodel\u001B[0m\u001B[0;34m(\u001B[0m\u001B[0mbatch\u001B[0m\u001B[0;34m)\u001B[0m\u001B[0;34m\u001B[0m\u001B[0;34m\u001B[0m\u001B[0m\n\u001B[0m\u001B[1;32m      7\u001B[0m         \u001B[0mloss\u001B[0m \u001B[0;34m+=\u001B[0m \u001B[0mF\u001B[0m\u001B[0;34m.\u001B[0m\u001B[0mcross_entropy\u001B[0m\u001B[0;34m(\u001B[0m\u001B[0mrec\u001B[0m\u001B[0;34m,\u001B[0m \u001B[0mbatch\u001B[0m\u001B[0;34m)\u001B[0m\u001B[0;34m\u001B[0m\u001B[0;34m\u001B[0m\u001B[0m\n\u001B[1;32m      8\u001B[0m \u001B[0;34m\u001B[0m\u001B[0m\n",
      "\u001B[0;32m~/.conda/envs/hse_dul/lib/python3.9/site-packages/torch/nn/modules/module.py\u001B[0m in \u001B[0;36m_call_impl\u001B[0;34m(self, *input, **kwargs)\u001B[0m\n\u001B[1;32m   1100\u001B[0m         if not (self._backward_hooks or self._forward_hooks or self._forward_pre_hooks or _global_backward_hooks\n\u001B[1;32m   1101\u001B[0m                 or _global_forward_hooks or _global_forward_pre_hooks):\n\u001B[0;32m-> 1102\u001B[0;31m             \u001B[0;32mreturn\u001B[0m \u001B[0mforward_call\u001B[0m\u001B[0;34m(\u001B[0m\u001B[0;34m*\u001B[0m\u001B[0minput\u001B[0m\u001B[0;34m,\u001B[0m \u001B[0;34m**\u001B[0m\u001B[0mkwargs\u001B[0m\u001B[0;34m)\u001B[0m\u001B[0;34m\u001B[0m\u001B[0;34m\u001B[0m\u001B[0m\n\u001B[0m\u001B[1;32m   1103\u001B[0m         \u001B[0;31m# Do not call functions when jit is used\u001B[0m\u001B[0;34m\u001B[0m\u001B[0;34m\u001B[0m\u001B[0m\n\u001B[1;32m   1104\u001B[0m         \u001B[0mfull_backward_hooks\u001B[0m\u001B[0;34m,\u001B[0m \u001B[0mnon_full_backward_hooks\u001B[0m \u001B[0;34m=\u001B[0m \u001B[0;34m[\u001B[0m\u001B[0;34m]\u001B[0m\u001B[0;34m,\u001B[0m \u001B[0;34m[\u001B[0m\u001B[0;34m]\u001B[0m\u001B[0;34m\u001B[0m\u001B[0;34m\u001B[0m\u001B[0m\n",
      "\u001B[0;32m/var/folders/zg/dd_4mghs167bb5hrrgz9w4y40000gn/T/ipykernel_86103/2800615035.py\u001B[0m in \u001B[0;36mforward\u001B[0;34m(self, x, cond)\u001B[0m\n\u001B[1;32m    122\u001B[0m         \u001B[0;32mfor\u001B[0m \u001B[0mlayer\u001B[0m \u001B[0;32min\u001B[0m \u001B[0mself\u001B[0m\u001B[0;34m.\u001B[0m\u001B[0mlayers\u001B[0m\u001B[0;34m:\u001B[0m\u001B[0;34m\u001B[0m\u001B[0;34m\u001B[0m\u001B[0m\n\u001B[1;32m    123\u001B[0m             \u001B[0;32mif\u001B[0m \u001B[0misinstance\u001B[0m\u001B[0;34m(\u001B[0m\u001B[0mlayer\u001B[0m\u001B[0;34m,\u001B[0m \u001B[0;34m(\u001B[0m\u001B[0mMaskedConv2d\u001B[0m\u001B[0;34m,\u001B[0m \u001B[0mResBlock\u001B[0m\u001B[0;34m)\u001B[0m\u001B[0;34m)\u001B[0m\u001B[0;34m:\u001B[0m\u001B[0;34m\u001B[0m\u001B[0;34m\u001B[0m\u001B[0m\n\u001B[0;32m--> 124\u001B[0;31m                 \u001B[0mx\u001B[0m \u001B[0;34m=\u001B[0m \u001B[0mlayer\u001B[0m\u001B[0;34m(\u001B[0m\u001B[0mx\u001B[0m\u001B[0;34m,\u001B[0m \u001B[0mcond\u001B[0m\u001B[0;34m)\u001B[0m\u001B[0;34m\u001B[0m\u001B[0;34m\u001B[0m\u001B[0m\n\u001B[0m\u001B[1;32m    125\u001B[0m             \u001B[0;32melse\u001B[0m\u001B[0;34m:\u001B[0m\u001B[0;34m\u001B[0m\u001B[0;34m\u001B[0m\u001B[0m\n\u001B[1;32m    126\u001B[0m                 \u001B[0mx\u001B[0m \u001B[0;34m=\u001B[0m \u001B[0mlayer\u001B[0m\u001B[0;34m(\u001B[0m\u001B[0mx\u001B[0m\u001B[0;34m)\u001B[0m\u001B[0;34m\u001B[0m\u001B[0;34m\u001B[0m\u001B[0m\n",
      "\u001B[0;32m~/.conda/envs/hse_dul/lib/python3.9/site-packages/torch/nn/modules/module.py\u001B[0m in \u001B[0;36m_call_impl\u001B[0;34m(self, *input, **kwargs)\u001B[0m\n\u001B[1;32m   1100\u001B[0m         if not (self._backward_hooks or self._forward_hooks or self._forward_pre_hooks or _global_backward_hooks\n\u001B[1;32m   1101\u001B[0m                 or _global_forward_hooks or _global_forward_pre_hooks):\n\u001B[0;32m-> 1102\u001B[0;31m             \u001B[0;32mreturn\u001B[0m \u001B[0mforward_call\u001B[0m\u001B[0;34m(\u001B[0m\u001B[0;34m*\u001B[0m\u001B[0minput\u001B[0m\u001B[0;34m,\u001B[0m \u001B[0;34m**\u001B[0m\u001B[0mkwargs\u001B[0m\u001B[0;34m)\u001B[0m\u001B[0;34m\u001B[0m\u001B[0;34m\u001B[0m\u001B[0m\n\u001B[0m\u001B[1;32m   1103\u001B[0m         \u001B[0;31m# Do not call functions when jit is used\u001B[0m\u001B[0;34m\u001B[0m\u001B[0;34m\u001B[0m\u001B[0m\n\u001B[1;32m   1104\u001B[0m         \u001B[0mfull_backward_hooks\u001B[0m\u001B[0;34m,\u001B[0m \u001B[0mnon_full_backward_hooks\u001B[0m \u001B[0;34m=\u001B[0m \u001B[0;34m[\u001B[0m\u001B[0;34m]\u001B[0m\u001B[0;34m,\u001B[0m \u001B[0;34m[\u001B[0m\u001B[0;34m]\u001B[0m\u001B[0;34m\u001B[0m\u001B[0;34m\u001B[0m\u001B[0m\n",
      "\u001B[0;32m/var/folders/zg/dd_4mghs167bb5hrrgz9w4y40000gn/T/ipykernel_86103/2800615035.py\u001B[0m in \u001B[0;36mforward\u001B[0;34m(self, x, cond)\u001B[0m\n\u001B[1;32m     68\u001B[0m         \u001B[0;32mfor\u001B[0m \u001B[0mi\u001B[0m\u001B[0;34m,\u001B[0m \u001B[0mlayer\u001B[0m \u001B[0;32min\u001B[0m \u001B[0menumerate\u001B[0m\u001B[0;34m(\u001B[0m\u001B[0mself\u001B[0m\u001B[0;34m.\u001B[0m\u001B[0mlayers\u001B[0m\u001B[0;34m)\u001B[0m\u001B[0;34m:\u001B[0m\u001B[0;34m\u001B[0m\u001B[0;34m\u001B[0m\u001B[0m\n\u001B[1;32m     69\u001B[0m             \u001B[0;32mif\u001B[0m \u001B[0mi\u001B[0m \u001B[0;34m%\u001B[0m \u001B[0;36m2\u001B[0m \u001B[0;34m!=\u001B[0m \u001B[0;36m0\u001B[0m\u001B[0;34m:\u001B[0m\u001B[0;34m\u001B[0m\u001B[0;34m\u001B[0m\u001B[0m\n\u001B[0;32m---> 70\u001B[0;31m                 \u001B[0mout\u001B[0m \u001B[0;34m=\u001B[0m \u001B[0mlayer\u001B[0m\u001B[0;34m(\u001B[0m\u001B[0mout\u001B[0m\u001B[0;34m,\u001B[0m \u001B[0mcond\u001B[0m\u001B[0;34m)\u001B[0m\u001B[0;34m\u001B[0m\u001B[0;34m\u001B[0m\u001B[0m\n\u001B[0m\u001B[1;32m     71\u001B[0m             \u001B[0;32melse\u001B[0m\u001B[0;34m:\u001B[0m\u001B[0;34m\u001B[0m\u001B[0;34m\u001B[0m\u001B[0m\n\u001B[1;32m     72\u001B[0m                 \u001B[0mout\u001B[0m \u001B[0;34m=\u001B[0m \u001B[0mlayer\u001B[0m\u001B[0;34m(\u001B[0m\u001B[0mout\u001B[0m\u001B[0;34m)\u001B[0m\u001B[0;34m\u001B[0m\u001B[0;34m\u001B[0m\u001B[0m\n",
      "\u001B[0;32m~/.conda/envs/hse_dul/lib/python3.9/site-packages/torch/nn/modules/module.py\u001B[0m in \u001B[0;36m_call_impl\u001B[0;34m(self, *input, **kwargs)\u001B[0m\n\u001B[1;32m   1100\u001B[0m         if not (self._backward_hooks or self._forward_hooks or self._forward_pre_hooks or _global_backward_hooks\n\u001B[1;32m   1101\u001B[0m                 or _global_forward_hooks or _global_forward_pre_hooks):\n\u001B[0;32m-> 1102\u001B[0;31m             \u001B[0;32mreturn\u001B[0m \u001B[0mforward_call\u001B[0m\u001B[0;34m(\u001B[0m\u001B[0;34m*\u001B[0m\u001B[0minput\u001B[0m\u001B[0;34m,\u001B[0m \u001B[0;34m**\u001B[0m\u001B[0mkwargs\u001B[0m\u001B[0;34m)\u001B[0m\u001B[0;34m\u001B[0m\u001B[0;34m\u001B[0m\u001B[0m\n\u001B[0m\u001B[1;32m   1103\u001B[0m         \u001B[0;31m# Do not call functions when jit is used\u001B[0m\u001B[0;34m\u001B[0m\u001B[0;34m\u001B[0m\u001B[0m\n\u001B[1;32m   1104\u001B[0m         \u001B[0mfull_backward_hooks\u001B[0m\u001B[0;34m,\u001B[0m \u001B[0mnon_full_backward_hooks\u001B[0m \u001B[0;34m=\u001B[0m \u001B[0;34m[\u001B[0m\u001B[0;34m]\u001B[0m\u001B[0;34m,\u001B[0m \u001B[0;34m[\u001B[0m\u001B[0;34m]\u001B[0m\u001B[0;34m\u001B[0m\u001B[0;34m\u001B[0m\u001B[0m\n",
      "\u001B[0;32m/var/folders/zg/dd_4mghs167bb5hrrgz9w4y40000gn/T/ipykernel_86103/2800615035.py\u001B[0m in \u001B[0;36mforward\u001B[0;34m(self, x, cond)\u001B[0m\n\u001B[1;32m     15\u001B[0m \u001B[0;34m\u001B[0m\u001B[0m\n\u001B[1;32m     16\u001B[0m     \u001B[0;32mdef\u001B[0m \u001B[0mforward\u001B[0m\u001B[0;34m(\u001B[0m\u001B[0mself\u001B[0m\u001B[0;34m,\u001B[0m \u001B[0mx\u001B[0m\u001B[0;34m,\u001B[0m \u001B[0mcond\u001B[0m\u001B[0;34m=\u001B[0m\u001B[0;32mNone\u001B[0m\u001B[0;34m)\u001B[0m\u001B[0;34m:\u001B[0m\u001B[0;34m\u001B[0m\u001B[0;34m\u001B[0m\u001B[0m\n\u001B[0;32m---> 17\u001B[0;31m         \u001B[0mx\u001B[0m \u001B[0;34m=\u001B[0m \u001B[0mF\u001B[0m\u001B[0;34m.\u001B[0m\u001B[0mconv2d\u001B[0m\u001B[0;34m(\u001B[0m\u001B[0mx\u001B[0m\u001B[0;34m,\u001B[0m \u001B[0mself\u001B[0m\u001B[0;34m.\u001B[0m\u001B[0mweight\u001B[0m \u001B[0;34m*\u001B[0m \u001B[0mself\u001B[0m\u001B[0;34m.\u001B[0m\u001B[0mmask\u001B[0m\u001B[0;34m,\u001B[0m \u001B[0mself\u001B[0m\u001B[0;34m.\u001B[0m\u001B[0mbias\u001B[0m\u001B[0;34m,\u001B[0m \u001B[0mself\u001B[0m\u001B[0;34m.\u001B[0m\u001B[0mstride\u001B[0m\u001B[0;34m,\u001B[0m \u001B[0mself\u001B[0m\u001B[0;34m.\u001B[0m\u001B[0mpadding\u001B[0m\u001B[0;34m,\u001B[0m \u001B[0mself\u001B[0m\u001B[0;34m.\u001B[0m\u001B[0mdilation\u001B[0m\u001B[0;34m,\u001B[0m \u001B[0mself\u001B[0m\u001B[0;34m.\u001B[0m\u001B[0mgroups\u001B[0m\u001B[0;34m)\u001B[0m\u001B[0;34m\u001B[0m\u001B[0;34m\u001B[0m\u001B[0m\n\u001B[0m\u001B[1;32m     18\u001B[0m \u001B[0;34m\u001B[0m\u001B[0m\n\u001B[1;32m     19\u001B[0m         \u001B[0;32mif\u001B[0m \u001B[0mself\u001B[0m\u001B[0;34m.\u001B[0m\u001B[0mcond_encoder\u001B[0m \u001B[0;32mis\u001B[0m \u001B[0;32mnot\u001B[0m \u001B[0;32mNone\u001B[0m\u001B[0;34m:\u001B[0m\u001B[0;34m\u001B[0m\u001B[0;34m\u001B[0m\u001B[0m\n",
      "\u001B[0;31mKeyboardInterrupt\u001B[0m: "
     ]
    }
   ],
   "source": [
    "q1ab_save_results(1, 'a', q1_a)"
   ]
  },
  {
   "cell_type": "code",
   "execution_count": null,
   "metadata": {
    "id": "It_iPXaZjlk0"
   },
   "outputs": [],
   "source": [
    "q1ab_save_results(2, 'a', q1_b)"
   ]
  },
  {
   "cell_type": "markdown",
   "metadata": {
    "id": "HlX23th4JbRy"
   },
   "source": [
    "## Part (b) PixelCNN on Colored Shapes and MNIST: Autoregressive Color Channels\n",
    "\n",
    "Now, implement a PixelCNN that models **dependent** color channels. Formally, we model the parameterized distribution\n",
    "\n",
    "$$p_\\theta(x) = \\prod_{i=1}^{HW}\\prod_{c=1}^C p_\\theta(x_i^c | x_i^{<c}, x_{<i})$$\n",
    "\n",
    "To do so, change your masking scheme for the center pixel. Split the filters into 3 groups, only allowing each group to see the groups before (or including the current group, for type B masks) to maintain the autoregressive property.\n",
    "\n",
    "Training times and hyperparameter settings should be the same as part (b).\n",
    "\n",
    "**You will provide these deliverables**\n",
    "\n",
    "\n",
    "1.   Over the course of training, record the average negative log-likelihood (nats / dim) of the training data (per minibatch) and test data (for your entire test set). Code is provided that automatically plots the training curves. \n",
    "2.   Report the final test set performance of your final model\n",
    "3. 100 samples from the final trained model\n",
    "\n"
   ]
  },
  {
   "cell_type": "markdown",
   "metadata": {
    "id": "_4VvvEJQK3Bb"
   },
   "source": [
    "### Solution\n",
    "Fill out the function below and return the necessary arguments. Feel free to create more cells if need be."
   ]
  },
  {
   "cell_type": "code",
   "execution_count": 69,
   "metadata": {},
   "outputs": [],
   "source": [
    "model = PixelCNN(3, 4, 120, 8, color_cond=True).to(DEVICE)"
   ]
  },
  {
   "cell_type": "code",
   "execution_count": 96,
   "metadata": {},
   "outputs": [
    {
     "data": {
      "application/vnd.jupyter.widget-view+json": {
       "model_id": "fbb3ca79a4ee44318aa74e4700a88ef9",
       "version_major": 2,
       "version_minor": 0
      },
      "text/plain": [
       "Sampling:   0%|          | 0/75 [00:00<?, ?it/s]"
      ]
     },
     "metadata": {},
     "output_type": "display_data"
    },
    {
     "data": {
      "text/plain": [
       "array([[[[3, 0, 2],\n",
       "         [3, 0, 1],\n",
       "         [1, 2, 0],\n",
       "         [2, 1, 3],\n",
       "         [3, 0, 3]],\n",
       "\n",
       "        [[1, 1, 2],\n",
       "         [0, 0, 3],\n",
       "         [2, 0, 3],\n",
       "         [0, 3, 0],\n",
       "         [0, 3, 0]],\n",
       "\n",
       "        [[3, 3, 0],\n",
       "         [1, 0, 3],\n",
       "         [0, 2, 0],\n",
       "         [0, 3, 2],\n",
       "         [0, 2, 0]],\n",
       "\n",
       "        [[0, 3, 2],\n",
       "         [0, 1, 1],\n",
       "         [0, 3, 1],\n",
       "         [3, 0, 1],\n",
       "         [3, 2, 0]],\n",
       "\n",
       "        [[3, 2, 1],\n",
       "         [1, 1, 3],\n",
       "         [1, 3, 1],\n",
       "         [1, 2, 2],\n",
       "         [1, 1, 1]]],\n",
       "\n",
       "\n",
       "       [[[2, 0, 2],\n",
       "         [3, 1, 3],\n",
       "         [3, 1, 0],\n",
       "         [0, 1, 2],\n",
       "         [2, 1, 0]],\n",
       "\n",
       "        [[0, 1, 2],\n",
       "         [3, 3, 0],\n",
       "         [3, 3, 3],\n",
       "         [1, 2, 3],\n",
       "         [2, 3, 0]],\n",
       "\n",
       "        [[1, 1, 0],\n",
       "         [2, 3, 3],\n",
       "         [0, 2, 2],\n",
       "         [2, 0, 0],\n",
       "         [1, 3, 1]],\n",
       "\n",
       "        [[2, 2, 0],\n",
       "         [0, 2, 0],\n",
       "         [0, 0, 3],\n",
       "         [1, 1, 2],\n",
       "         [1, 2, 1]],\n",
       "\n",
       "        [[1, 2, 2],\n",
       "         [2, 2, 3],\n",
       "         [1, 0, 0],\n",
       "         [0, 2, 2],\n",
       "         [1, 1, 0]]],\n",
       "\n",
       "\n",
       "       [[[3, 0, 3],\n",
       "         [3, 1, 3],\n",
       "         [1, 1, 2],\n",
       "         [2, 1, 0],\n",
       "         [3, 2, 2]],\n",
       "\n",
       "        [[3, 1, 2],\n",
       "         [0, 1, 3],\n",
       "         [0, 3, 0],\n",
       "         [0, 2, 1],\n",
       "         [1, 3, 2]],\n",
       "\n",
       "        [[2, 2, 3],\n",
       "         [1, 3, 1],\n",
       "         [3, 3, 2],\n",
       "         [3, 3, 2],\n",
       "         [0, 1, 1]],\n",
       "\n",
       "        [[3, 2, 1],\n",
       "         [0, 2, 3],\n",
       "         [2, 0, 1],\n",
       "         [3, 3, 3],\n",
       "         [2, 3, 1]],\n",
       "\n",
       "        [[0, 2, 3],\n",
       "         [0, 2, 3],\n",
       "         [2, 0, 2],\n",
       "         [1, 3, 1],\n",
       "         [0, 1, 1]]],\n",
       "\n",
       "\n",
       "       [[[3, 0, 1],\n",
       "         [3, 2, 2],\n",
       "         [3, 2, 0],\n",
       "         [0, 1, 1],\n",
       "         [3, 3, 3]],\n",
       "\n",
       "        [[1, 2, 2],\n",
       "         [3, 2, 1],\n",
       "         [2, 0, 2],\n",
       "         [0, 3, 3],\n",
       "         [0, 1, 0]],\n",
       "\n",
       "        [[2, 1, 2],\n",
       "         [1, 1, 3],\n",
       "         [1, 2, 3],\n",
       "         [0, 3, 1],\n",
       "         [2, 2, 2]],\n",
       "\n",
       "        [[1, 0, 2],\n",
       "         [0, 1, 2],\n",
       "         [2, 1, 1],\n",
       "         [0, 1, 0],\n",
       "         [3, 3, 0]],\n",
       "\n",
       "        [[2, 1, 1],\n",
       "         [0, 3, 2],\n",
       "         [2, 0, 3],\n",
       "         [2, 0, 1],\n",
       "         [1, 3, 3]]],\n",
       "\n",
       "\n",
       "       [[[2, 0, 3],\n",
       "         [3, 1, 1],\n",
       "         [3, 3, 0],\n",
       "         [3, 1, 3],\n",
       "         [3, 0, 1]],\n",
       "\n",
       "        [[0, 1, 2],\n",
       "         [0, 0, 3],\n",
       "         [2, 0, 0],\n",
       "         [1, 2, 1],\n",
       "         [0, 3, 1]],\n",
       "\n",
       "        [[0, 1, 2],\n",
       "         [3, 2, 1],\n",
       "         [1, 1, 0],\n",
       "         [1, 2, 0],\n",
       "         [1, 2, 3]],\n",
       "\n",
       "        [[1, 1, 2],\n",
       "         [0, 3, 0],\n",
       "         [0, 3, 2],\n",
       "         [1, 2, 3],\n",
       "         [1, 2, 1]],\n",
       "\n",
       "        [[3, 1, 1],\n",
       "         [3, 2, 3],\n",
       "         [0, 0, 0],\n",
       "         [1, 3, 1],\n",
       "         [3, 3, 1]]],\n",
       "\n",
       "\n",
       "       [[[2, 1, 3],\n",
       "         [0, 0, 3],\n",
       "         [1, 1, 2],\n",
       "         [2, 1, 0],\n",
       "         [3, 3, 3]],\n",
       "\n",
       "        [[3, 1, 3],\n",
       "         [0, 1, 3],\n",
       "         [2, 0, 1],\n",
       "         [3, 1, 0],\n",
       "         [1, 0, 1]],\n",
       "\n",
       "        [[1, 3, 3],\n",
       "         [1, 1, 3],\n",
       "         [1, 2, 0],\n",
       "         [3, 1, 0],\n",
       "         [3, 2, 0]],\n",
       "\n",
       "        [[1, 0, 2],\n",
       "         [0, 2, 2],\n",
       "         [1, 2, 0],\n",
       "         [3, 2, 1],\n",
       "         [1, 1, 3]],\n",
       "\n",
       "        [[0, 3, 2],\n",
       "         [1, 2, 3],\n",
       "         [2, 3, 2],\n",
       "         [1, 1, 1],\n",
       "         [2, 3, 0]]],\n",
       "\n",
       "\n",
       "       [[[0, 3, 3],\n",
       "         [2, 2, 0],\n",
       "         [2, 0, 2],\n",
       "         [3, 3, 0],\n",
       "         [3, 0, 1]],\n",
       "\n",
       "        [[3, 1, 2],\n",
       "         [3, 1, 2],\n",
       "         [2, 2, 3],\n",
       "         [0, 3, 1],\n",
       "         [3, 1, 0]],\n",
       "\n",
       "        [[1, 1, 2],\n",
       "         [2, 3, 0],\n",
       "         [0, 2, 1],\n",
       "         [3, 1, 3],\n",
       "         [3, 1, 1]],\n",
       "\n",
       "        [[0, 2, 0],\n",
       "         [0, 2, 3],\n",
       "         [1, 3, 0],\n",
       "         [3, 3, 0],\n",
       "         [1, 1, 0]],\n",
       "\n",
       "        [[0, 2, 1],\n",
       "         [0, 3, 3],\n",
       "         [3, 2, 1],\n",
       "         [2, 2, 3],\n",
       "         [1, 3, 2]]],\n",
       "\n",
       "\n",
       "       [[[1, 0, 3],\n",
       "         [2, 2, 3],\n",
       "         [3, 2, 2],\n",
       "         [3, 1, 0],\n",
       "         [2, 0, 2]],\n",
       "\n",
       "        [[2, 3, 2],\n",
       "         [3, 2, 2],\n",
       "         [2, 3, 3],\n",
       "         [0, 0, 1],\n",
       "         [0, 2, 2]],\n",
       "\n",
       "        [[0, 2, 2],\n",
       "         [2, 2, 3],\n",
       "         [1, 3, 3],\n",
       "         [1, 1, 1],\n",
       "         [3, 3, 3]],\n",
       "\n",
       "        [[1, 2, 0],\n",
       "         [0, 3, 3],\n",
       "         [3, 3, 3],\n",
       "         [3, 2, 1],\n",
       "         [3, 0, 2]],\n",
       "\n",
       "        [[3, 0, 3],\n",
       "         [2, 1, 3],\n",
       "         [3, 2, 3],\n",
       "         [1, 3, 1],\n",
       "         [1, 3, 0]]],\n",
       "\n",
       "\n",
       "       [[[0, 1, 2],\n",
       "         [1, 3, 2],\n",
       "         [3, 2, 2],\n",
       "         [0, 2, 0],\n",
       "         [1, 0, 3]],\n",
       "\n",
       "        [[0, 0, 1],\n",
       "         [1, 2, 2],\n",
       "         [1, 2, 2],\n",
       "         [2, 1, 3],\n",
       "         [0, 2, 1]],\n",
       "\n",
       "        [[3, 2, 2],\n",
       "         [3, 2, 3],\n",
       "         [2, 3, 1],\n",
       "         [1, 2, 0],\n",
       "         [3, 1, 0]],\n",
       "\n",
       "        [[1, 2, 2],\n",
       "         [0, 2, 1],\n",
       "         [3, 2, 3],\n",
       "         [1, 3, 0],\n",
       "         [3, 2, 3]],\n",
       "\n",
       "        [[0, 2, 0],\n",
       "         [2, 2, 1],\n",
       "         [0, 1, 1],\n",
       "         [1, 0, 3],\n",
       "         [2, 0, 2]]],\n",
       "\n",
       "\n",
       "       [[[3, 2, 1],\n",
       "         [0, 0, 1],\n",
       "         [1, 1, 3],\n",
       "         [2, 2, 2],\n",
       "         [3, 3, 0]],\n",
       "\n",
       "        [[0, 1, 3],\n",
       "         [0, 0, 1],\n",
       "         [2, 3, 1],\n",
       "         [1, 2, 3],\n",
       "         [2, 1, 1]],\n",
       "\n",
       "        [[1, 2, 3],\n",
       "         [0, 2, 2],\n",
       "         [3, 3, 1],\n",
       "         [1, 0, 0],\n",
       "         [1, 3, 3]],\n",
       "\n",
       "        [[3, 1, 2],\n",
       "         [2, 1, 2],\n",
       "         [0, 2, 1],\n",
       "         [1, 1, 0],\n",
       "         [1, 3, 3]],\n",
       "\n",
       "        [[1, 0, 0],\n",
       "         [1, 3, 3],\n",
       "         [0, 0, 0],\n",
       "         [0, 3, 0],\n",
       "         [0, 0, 0]]]])"
      ]
     },
     "execution_count": 96,
     "metadata": {},
     "output_type": "execute_result"
    }
   ],
   "source": [
    "sample(model, (5, 5, 3), 10)"
   ]
  },
  {
   "cell_type": "code",
   "execution_count": 131,
   "metadata": {
    "id": "kqzuSDBUK3dL"
   },
   "outputs": [],
   "source": [
    "def q1_b(train_data, test_data, image_shape, dset_id):\n",
    "    \"\"\"\n",
    "    train_data: A (n_train, H, W, C) uint8 numpy array of color images with values in {0, 1, 2, 3}\n",
    "    test_data: A (n_test, H, W, C) uint8 numpy array of color images with values in {0, 1, 2, 3}\n",
    "    image_shape: (H, W, C), height, width, and # of channels of the image\n",
    "    dset_id: An identifying number of which dataset is given (1 or 2). Most likely\n",
    "           used to set different hyperparameters for different datasets\n",
    "\n",
    "    Returns\n",
    "    - a (# of training iterations,) numpy array of train_losses evaluated every minibatch\n",
    "    - a (# of epochs + 1,) numpy array of test_losses evaluated once at initialization and after each epoch\n",
    "    - a numpy array of size (100, H, W, C) of samples with values in {0, 1, 2, 3}\n",
    "    \"\"\"\n",
    "    \n",
    "    model = PixelCNN(image_shape[-1], 4, 120, 8, color_cond=True).to(DEVICE)\n",
    "    optim = Adam(model.parameters(), lr=1e-3)\n",
    "\n",
    "    train_data = train_data.transpose(0, 3, 1, 2).astype(np.int64)\n",
    "    test_data = test_data.transpose(0, 3, 1, 2).astype(np.int64)\n",
    "\n",
    "    train_dl = DataLoader(train_data, batch_size=64, shuffle=True, drop_last=True)\n",
    "    test_dl = DataLoader(test_data, batch_size=64)\n",
    "\n",
    "    train_losses, test_losses = train(model, optim, train_dl, test_dl)\n",
    "\n",
    "    samples = sample(model, image_shape)\n",
    "\n",
    "    return train_losses, test_losses, samples\n"
   ]
  },
  {
   "cell_type": "markdown",
   "metadata": {
    "id": "UTB-VUBnK321"
   },
   "source": [
    "### Results\n",
    "\n",
    "Once you've implemented `q1_b`, execute the cells below to visualize and save your results\n",
    "\n"
   ]
  },
  {
   "cell_type": "code",
   "execution_count": 35,
   "metadata": {
    "colab": {
     "base_uri": "https://localhost:8080/",
     "height": 577
    },
    "id": "TXxpdINJK4NU",
    "outputId": "904a8d40-d0e7-40bb-d13b-32c1a49298b2"
   },
   "outputs": [
    {
     "data": {
      "application/vnd.jupyter.widget-view+json": {
       "model_id": "6e2f4ba10a244a718e7f863911f649d8",
       "version_major": 2,
       "version_minor": 0
      },
      "text/plain": [
       "Testing:   0%|          | 0/71 [00:00<?, ?it/s]"
      ]
     },
     "metadata": {},
     "output_type": "display_data"
    },
    {
     "ename": "KeyboardInterrupt",
     "evalue": "",
     "output_type": "error",
     "traceback": [
      "\u001B[0;31m---------------------------------------------------------------------------\u001B[0m",
      "\u001B[0;31mKeyboardInterrupt\u001B[0m                         Traceback (most recent call last)",
      "\u001B[0;32m/var/folders/zg/dd_4mghs167bb5hrrgz9w4y40000gn/T/ipykernel_86103/532247713.py\u001B[0m in \u001B[0;36m<module>\u001B[0;34m\u001B[0m\n\u001B[0;32m----> 1\u001B[0;31m \u001B[0mq1ab_save_results\u001B[0m\u001B[0;34m(\u001B[0m\u001B[0;36m1\u001B[0m\u001B[0;34m,\u001B[0m \u001B[0;34m'b'\u001B[0m\u001B[0;34m,\u001B[0m \u001B[0mq1_b\u001B[0m\u001B[0;34m)\u001B[0m\u001B[0;34m\u001B[0m\u001B[0;34m\u001B[0m\u001B[0m\n\u001B[0m",
      "\u001B[0;32m~/PycharmProjects/hse_dul/Homework/hw2/dul_2021/utils/hw2_utils.py\u001B[0m in \u001B[0;36mq1ab_save_results\u001B[0;34m(dset_type, part, fn)\u001B[0m\n\u001B[1;32m     13\u001B[0m         \u001B[0;32mraise\u001B[0m \u001B[0mException\u001B[0m\u001B[0;34m(\u001B[0m\u001B[0;34m)\u001B[0m\u001B[0;34m\u001B[0m\u001B[0;34m\u001B[0m\u001B[0m\n\u001B[1;32m     14\u001B[0m \u001B[0;34m\u001B[0m\u001B[0m\n\u001B[0;32m---> 15\u001B[0;31m     \u001B[0mtrain_losses\u001B[0m\u001B[0;34m,\u001B[0m \u001B[0mtest_losses\u001B[0m\u001B[0;34m,\u001B[0m \u001B[0msamples\u001B[0m \u001B[0;34m=\u001B[0m \u001B[0mfn\u001B[0m\u001B[0;34m(\u001B[0m\u001B[0mtrain_data\u001B[0m\u001B[0;34m,\u001B[0m \u001B[0mtest_data\u001B[0m\u001B[0;34m,\u001B[0m \u001B[0mimg_shape\u001B[0m\u001B[0;34m,\u001B[0m \u001B[0mdset_type\u001B[0m\u001B[0;34m)\u001B[0m\u001B[0;34m\u001B[0m\u001B[0;34m\u001B[0m\u001B[0m\n\u001B[0m\u001B[1;32m     16\u001B[0m     \u001B[0msamples\u001B[0m \u001B[0;34m=\u001B[0m \u001B[0msamples\u001B[0m\u001B[0;34m.\u001B[0m\u001B[0mastype\u001B[0m\u001B[0;34m(\u001B[0m\u001B[0;34m'float32'\u001B[0m\u001B[0;34m)\u001B[0m \u001B[0;34m/\u001B[0m \u001B[0;36m3\u001B[0m \u001B[0;34m*\u001B[0m \u001B[0;36m255\u001B[0m\u001B[0;34m\u001B[0m\u001B[0;34m\u001B[0m\u001B[0m\n\u001B[1;32m     17\u001B[0m \u001B[0;34m\u001B[0m\u001B[0m\n",
      "\u001B[0;32m/var/folders/zg/dd_4mghs167bb5hrrgz9w4y40000gn/T/ipykernel_86103/2677118172.py\u001B[0m in \u001B[0;36mq1_b\u001B[0;34m(train_data, test_data, image_shape, dset_id)\u001B[0m\n\u001B[1;32m     22\u001B[0m     \u001B[0mtest_dl\u001B[0m \u001B[0;34m=\u001B[0m \u001B[0mDataLoader\u001B[0m\u001B[0;34m(\u001B[0m\u001B[0mtest_data\u001B[0m\u001B[0;34m,\u001B[0m \u001B[0mbatch_size\u001B[0m\u001B[0;34m=\u001B[0m\u001B[0;36m64\u001B[0m\u001B[0;34m)\u001B[0m\u001B[0;34m\u001B[0m\u001B[0;34m\u001B[0m\u001B[0m\n\u001B[1;32m     23\u001B[0m \u001B[0;34m\u001B[0m\u001B[0m\n\u001B[0;32m---> 24\u001B[0;31m     \u001B[0mtrain_losses\u001B[0m\u001B[0;34m,\u001B[0m \u001B[0mtest_losses\u001B[0m \u001B[0;34m=\u001B[0m \u001B[0mtrain\u001B[0m\u001B[0;34m(\u001B[0m\u001B[0mmodel\u001B[0m\u001B[0;34m,\u001B[0m \u001B[0moptim\u001B[0m\u001B[0;34m,\u001B[0m \u001B[0mtrain_dl\u001B[0m\u001B[0;34m,\u001B[0m \u001B[0mtest_dl\u001B[0m\u001B[0;34m)\u001B[0m\u001B[0;34m\u001B[0m\u001B[0;34m\u001B[0m\u001B[0m\n\u001B[0m\u001B[1;32m     25\u001B[0m \u001B[0;34m\u001B[0m\u001B[0m\n\u001B[1;32m     26\u001B[0m     \u001B[0msamples\u001B[0m \u001B[0;34m=\u001B[0m \u001B[0msample\u001B[0m\u001B[0;34m(\u001B[0m\u001B[0mmade\u001B[0m\u001B[0;34m)\u001B[0m\u001B[0;34m\u001B[0m\u001B[0;34m\u001B[0m\u001B[0m\n",
      "\u001B[0;32m/var/folders/zg/dd_4mghs167bb5hrrgz9w4y40000gn/T/ipykernel_86103/172133779.py\u001B[0m in \u001B[0;36mtrain\u001B[0;34m(model, optimizer, train_dl, test_dl, epochs)\u001B[0m\n\u001B[1;32m     26\u001B[0m \u001B[0;32mdef\u001B[0m \u001B[0mtrain\u001B[0m\u001B[0;34m(\u001B[0m\u001B[0mmodel\u001B[0m\u001B[0;34m,\u001B[0m \u001B[0moptimizer\u001B[0m\u001B[0;34m,\u001B[0m \u001B[0mtrain_dl\u001B[0m\u001B[0;34m,\u001B[0m \u001B[0mtest_dl\u001B[0m\u001B[0;34m,\u001B[0m \u001B[0mepochs\u001B[0m\u001B[0;34m=\u001B[0m\u001B[0;36m20\u001B[0m\u001B[0;34m)\u001B[0m\u001B[0;34m:\u001B[0m\u001B[0;34m\u001B[0m\u001B[0;34m\u001B[0m\u001B[0m\n\u001B[1;32m     27\u001B[0m     \u001B[0mtrain_losses\u001B[0m \u001B[0;34m=\u001B[0m \u001B[0;34m[\u001B[0m\u001B[0;34m]\u001B[0m\u001B[0;34m\u001B[0m\u001B[0;34m\u001B[0m\u001B[0m\n\u001B[0;32m---> 28\u001B[0;31m     \u001B[0mtest_losses\u001B[0m \u001B[0;34m=\u001B[0m \u001B[0;34m[\u001B[0m\u001B[0mtest_epoch\u001B[0m\u001B[0;34m(\u001B[0m\u001B[0mmodel\u001B[0m\u001B[0;34m,\u001B[0m \u001B[0mtest_dl\u001B[0m\u001B[0;34m)\u001B[0m\u001B[0;34m]\u001B[0m\u001B[0;34m\u001B[0m\u001B[0;34m\u001B[0m\u001B[0m\n\u001B[0m\u001B[1;32m     29\u001B[0m \u001B[0;34m\u001B[0m\u001B[0m\n\u001B[1;32m     30\u001B[0m     \u001B[0mrange_bar\u001B[0m \u001B[0;34m=\u001B[0m \u001B[0mtqdm\u001B[0m\u001B[0;34m(\u001B[0m\u001B[0mrange\u001B[0m\u001B[0;34m(\u001B[0m\u001B[0mepochs\u001B[0m\u001B[0;34m)\u001B[0m\u001B[0;34m,\u001B[0m \u001B[0mdesc\u001B[0m\u001B[0;34m=\u001B[0m\u001B[0;34m'Epoch'\u001B[0m\u001B[0;34m)\u001B[0m\u001B[0;34m\u001B[0m\u001B[0;34m\u001B[0m\u001B[0m\n",
      "\u001B[0;32m~/.conda/envs/hse_dul/lib/python3.9/site-packages/torch/autograd/grad_mode.py\u001B[0m in \u001B[0;36mdecorate_context\u001B[0;34m(*args, **kwargs)\u001B[0m\n\u001B[1;32m     26\u001B[0m         \u001B[0;32mdef\u001B[0m \u001B[0mdecorate_context\u001B[0m\u001B[0;34m(\u001B[0m\u001B[0;34m*\u001B[0m\u001B[0margs\u001B[0m\u001B[0;34m,\u001B[0m \u001B[0;34m**\u001B[0m\u001B[0mkwargs\u001B[0m\u001B[0;34m)\u001B[0m\u001B[0;34m:\u001B[0m\u001B[0;34m\u001B[0m\u001B[0;34m\u001B[0m\u001B[0m\n\u001B[1;32m     27\u001B[0m             \u001B[0;32mwith\u001B[0m \u001B[0mself\u001B[0m\u001B[0;34m.\u001B[0m\u001B[0m__class__\u001B[0m\u001B[0;34m(\u001B[0m\u001B[0;34m)\u001B[0m\u001B[0;34m:\u001B[0m\u001B[0;34m\u001B[0m\u001B[0;34m\u001B[0m\u001B[0m\n\u001B[0;32m---> 28\u001B[0;31m                 \u001B[0;32mreturn\u001B[0m \u001B[0mfunc\u001B[0m\u001B[0;34m(\u001B[0m\u001B[0;34m*\u001B[0m\u001B[0margs\u001B[0m\u001B[0;34m,\u001B[0m \u001B[0;34m**\u001B[0m\u001B[0mkwargs\u001B[0m\u001B[0;34m)\u001B[0m\u001B[0;34m\u001B[0m\u001B[0;34m\u001B[0m\u001B[0m\n\u001B[0m\u001B[1;32m     29\u001B[0m         \u001B[0;32mreturn\u001B[0m \u001B[0mcast\u001B[0m\u001B[0;34m(\u001B[0m\u001B[0mF\u001B[0m\u001B[0;34m,\u001B[0m \u001B[0mdecorate_context\u001B[0m\u001B[0;34m)\u001B[0m\u001B[0;34m\u001B[0m\u001B[0;34m\u001B[0m\u001B[0m\n\u001B[1;32m     30\u001B[0m \u001B[0;34m\u001B[0m\u001B[0m\n",
      "\u001B[0;32m/var/folders/zg/dd_4mghs167bb5hrrgz9w4y40000gn/T/ipykernel_86103/172133779.py\u001B[0m in \u001B[0;36mtest_epoch\u001B[0;34m(model, dl)\u001B[0m\n\u001B[1;32m      4\u001B[0m     \u001B[0;32mfor\u001B[0m \u001B[0mbatch\u001B[0m \u001B[0;32min\u001B[0m \u001B[0mtqdm\u001B[0m\u001B[0;34m(\u001B[0m\u001B[0mdl\u001B[0m\u001B[0;34m,\u001B[0m \u001B[0mleave\u001B[0m\u001B[0;34m=\u001B[0m\u001B[0;32mFalse\u001B[0m\u001B[0;34m,\u001B[0m \u001B[0mdesc\u001B[0m\u001B[0;34m=\u001B[0m\u001B[0;34m'Testing'\u001B[0m\u001B[0;34m)\u001B[0m\u001B[0;34m:\u001B[0m\u001B[0;34m\u001B[0m\u001B[0;34m\u001B[0m\u001B[0m\n\u001B[1;32m      5\u001B[0m         \u001B[0mbatch\u001B[0m \u001B[0;34m=\u001B[0m \u001B[0mbatch\u001B[0m\u001B[0;34m.\u001B[0m\u001B[0mto\u001B[0m\u001B[0;34m(\u001B[0m\u001B[0mDEVICE\u001B[0m\u001B[0;34m)\u001B[0m\u001B[0;34m\u001B[0m\u001B[0;34m\u001B[0m\u001B[0m\n\u001B[0;32m----> 6\u001B[0;31m         \u001B[0mrec\u001B[0m \u001B[0;34m=\u001B[0m \u001B[0mmodel\u001B[0m\u001B[0;34m(\u001B[0m\u001B[0mbatch\u001B[0m\u001B[0;34m)\u001B[0m\u001B[0;34m\u001B[0m\u001B[0;34m\u001B[0m\u001B[0m\n\u001B[0m\u001B[1;32m      7\u001B[0m         \u001B[0mloss\u001B[0m \u001B[0;34m+=\u001B[0m \u001B[0mF\u001B[0m\u001B[0;34m.\u001B[0m\u001B[0mcross_entropy\u001B[0m\u001B[0;34m(\u001B[0m\u001B[0mrec\u001B[0m\u001B[0;34m,\u001B[0m \u001B[0mbatch\u001B[0m\u001B[0;34m)\u001B[0m\u001B[0;34m\u001B[0m\u001B[0;34m\u001B[0m\u001B[0m\n\u001B[1;32m      8\u001B[0m \u001B[0;34m\u001B[0m\u001B[0m\n",
      "\u001B[0;32m~/.conda/envs/hse_dul/lib/python3.9/site-packages/torch/nn/modules/module.py\u001B[0m in \u001B[0;36m_call_impl\u001B[0;34m(self, *input, **kwargs)\u001B[0m\n\u001B[1;32m   1100\u001B[0m         if not (self._backward_hooks or self._forward_hooks or self._forward_pre_hooks or _global_backward_hooks\n\u001B[1;32m   1101\u001B[0m                 or _global_forward_hooks or _global_forward_pre_hooks):\n\u001B[0;32m-> 1102\u001B[0;31m             \u001B[0;32mreturn\u001B[0m \u001B[0mforward_call\u001B[0m\u001B[0;34m(\u001B[0m\u001B[0;34m*\u001B[0m\u001B[0minput\u001B[0m\u001B[0;34m,\u001B[0m \u001B[0;34m**\u001B[0m\u001B[0mkwargs\u001B[0m\u001B[0;34m)\u001B[0m\u001B[0;34m\u001B[0m\u001B[0;34m\u001B[0m\u001B[0m\n\u001B[0m\u001B[1;32m   1103\u001B[0m         \u001B[0;31m# Do not call functions when jit is used\u001B[0m\u001B[0;34m\u001B[0m\u001B[0;34m\u001B[0m\u001B[0m\n\u001B[1;32m   1104\u001B[0m         \u001B[0mfull_backward_hooks\u001B[0m\u001B[0;34m,\u001B[0m \u001B[0mnon_full_backward_hooks\u001B[0m \u001B[0;34m=\u001B[0m \u001B[0;34m[\u001B[0m\u001B[0;34m]\u001B[0m\u001B[0;34m,\u001B[0m \u001B[0;34m[\u001B[0m\u001B[0;34m]\u001B[0m\u001B[0;34m\u001B[0m\u001B[0;34m\u001B[0m\u001B[0m\n",
      "\u001B[0;32m/var/folders/zg/dd_4mghs167bb5hrrgz9w4y40000gn/T/ipykernel_86103/4088630587.py\u001B[0m in \u001B[0;36mforward\u001B[0;34m(self, x, cond)\u001B[0m\n\u001B[1;32m    122\u001B[0m         \u001B[0;32mfor\u001B[0m \u001B[0mlayer\u001B[0m \u001B[0;32min\u001B[0m \u001B[0mself\u001B[0m\u001B[0;34m.\u001B[0m\u001B[0mlayers\u001B[0m\u001B[0;34m:\u001B[0m\u001B[0;34m\u001B[0m\u001B[0;34m\u001B[0m\u001B[0m\n\u001B[1;32m    123\u001B[0m             \u001B[0;32mif\u001B[0m \u001B[0misinstance\u001B[0m\u001B[0;34m(\u001B[0m\u001B[0mlayer\u001B[0m\u001B[0;34m,\u001B[0m \u001B[0;34m(\u001B[0m\u001B[0mMaskedConv2d\u001B[0m\u001B[0;34m,\u001B[0m \u001B[0mResBlock\u001B[0m\u001B[0;34m)\u001B[0m\u001B[0;34m)\u001B[0m\u001B[0;34m:\u001B[0m\u001B[0;34m\u001B[0m\u001B[0;34m\u001B[0m\u001B[0m\n\u001B[0;32m--> 124\u001B[0;31m                 \u001B[0mx\u001B[0m \u001B[0;34m=\u001B[0m \u001B[0mlayer\u001B[0m\u001B[0;34m(\u001B[0m\u001B[0mx\u001B[0m\u001B[0;34m,\u001B[0m \u001B[0mcond\u001B[0m\u001B[0;34m)\u001B[0m\u001B[0;34m\u001B[0m\u001B[0;34m\u001B[0m\u001B[0m\n\u001B[0m\u001B[1;32m    125\u001B[0m             \u001B[0;32melse\u001B[0m\u001B[0;34m:\u001B[0m\u001B[0;34m\u001B[0m\u001B[0;34m\u001B[0m\u001B[0m\n\u001B[1;32m    126\u001B[0m                 \u001B[0mx\u001B[0m \u001B[0;34m=\u001B[0m \u001B[0mlayer\u001B[0m\u001B[0;34m(\u001B[0m\u001B[0mx\u001B[0m\u001B[0;34m)\u001B[0m\u001B[0;34m\u001B[0m\u001B[0;34m\u001B[0m\u001B[0m\n",
      "\u001B[0;32m~/.conda/envs/hse_dul/lib/python3.9/site-packages/torch/nn/modules/module.py\u001B[0m in \u001B[0;36m_call_impl\u001B[0;34m(self, *input, **kwargs)\u001B[0m\n\u001B[1;32m   1100\u001B[0m         if not (self._backward_hooks or self._forward_hooks or self._forward_pre_hooks or _global_backward_hooks\n\u001B[1;32m   1101\u001B[0m                 or _global_forward_hooks or _global_forward_pre_hooks):\n\u001B[0;32m-> 1102\u001B[0;31m             \u001B[0;32mreturn\u001B[0m \u001B[0mforward_call\u001B[0m\u001B[0;34m(\u001B[0m\u001B[0;34m*\u001B[0m\u001B[0minput\u001B[0m\u001B[0;34m,\u001B[0m \u001B[0;34m**\u001B[0m\u001B[0mkwargs\u001B[0m\u001B[0;34m)\u001B[0m\u001B[0;34m\u001B[0m\u001B[0;34m\u001B[0m\u001B[0m\n\u001B[0m\u001B[1;32m   1103\u001B[0m         \u001B[0;31m# Do not call functions when jit is used\u001B[0m\u001B[0;34m\u001B[0m\u001B[0;34m\u001B[0m\u001B[0m\n\u001B[1;32m   1104\u001B[0m         \u001B[0mfull_backward_hooks\u001B[0m\u001B[0;34m,\u001B[0m \u001B[0mnon_full_backward_hooks\u001B[0m \u001B[0;34m=\u001B[0m \u001B[0;34m[\u001B[0m\u001B[0;34m]\u001B[0m\u001B[0;34m,\u001B[0m \u001B[0;34m[\u001B[0m\u001B[0;34m]\u001B[0m\u001B[0;34m\u001B[0m\u001B[0;34m\u001B[0m\u001B[0m\n",
      "\u001B[0;32m/var/folders/zg/dd_4mghs167bb5hrrgz9w4y40000gn/T/ipykernel_86103/4088630587.py\u001B[0m in \u001B[0;36mforward\u001B[0;34m(self, x, cond)\u001B[0m\n\u001B[1;32m     68\u001B[0m         \u001B[0;32mfor\u001B[0m \u001B[0mi\u001B[0m\u001B[0;34m,\u001B[0m \u001B[0mlayer\u001B[0m \u001B[0;32min\u001B[0m \u001B[0menumerate\u001B[0m\u001B[0;34m(\u001B[0m\u001B[0mself\u001B[0m\u001B[0;34m.\u001B[0m\u001B[0mlayers\u001B[0m\u001B[0;34m)\u001B[0m\u001B[0;34m:\u001B[0m\u001B[0;34m\u001B[0m\u001B[0;34m\u001B[0m\u001B[0m\n\u001B[1;32m     69\u001B[0m             \u001B[0;32mif\u001B[0m \u001B[0mi\u001B[0m \u001B[0;34m%\u001B[0m \u001B[0;36m2\u001B[0m \u001B[0;34m!=\u001B[0m \u001B[0;36m0\u001B[0m\u001B[0;34m:\u001B[0m\u001B[0;34m\u001B[0m\u001B[0;34m\u001B[0m\u001B[0m\n\u001B[0;32m---> 70\u001B[0;31m                 \u001B[0mout\u001B[0m \u001B[0;34m=\u001B[0m \u001B[0mlayer\u001B[0m\u001B[0;34m(\u001B[0m\u001B[0mout\u001B[0m\u001B[0;34m,\u001B[0m \u001B[0mcond\u001B[0m\u001B[0;34m)\u001B[0m\u001B[0;34m\u001B[0m\u001B[0;34m\u001B[0m\u001B[0m\n\u001B[0m\u001B[1;32m     71\u001B[0m             \u001B[0;32melse\u001B[0m\u001B[0;34m:\u001B[0m\u001B[0;34m\u001B[0m\u001B[0;34m\u001B[0m\u001B[0m\n\u001B[1;32m     72\u001B[0m                 \u001B[0mout\u001B[0m \u001B[0;34m=\u001B[0m \u001B[0mlayer\u001B[0m\u001B[0;34m(\u001B[0m\u001B[0mout\u001B[0m\u001B[0;34m)\u001B[0m\u001B[0;34m\u001B[0m\u001B[0;34m\u001B[0m\u001B[0m\n",
      "\u001B[0;32m~/.conda/envs/hse_dul/lib/python3.9/site-packages/torch/nn/modules/module.py\u001B[0m in \u001B[0;36m_call_impl\u001B[0;34m(self, *input, **kwargs)\u001B[0m\n\u001B[1;32m   1100\u001B[0m         if not (self._backward_hooks or self._forward_hooks or self._forward_pre_hooks or _global_backward_hooks\n\u001B[1;32m   1101\u001B[0m                 or _global_forward_hooks or _global_forward_pre_hooks):\n\u001B[0;32m-> 1102\u001B[0;31m             \u001B[0;32mreturn\u001B[0m \u001B[0mforward_call\u001B[0m\u001B[0;34m(\u001B[0m\u001B[0;34m*\u001B[0m\u001B[0minput\u001B[0m\u001B[0;34m,\u001B[0m \u001B[0;34m**\u001B[0m\u001B[0mkwargs\u001B[0m\u001B[0;34m)\u001B[0m\u001B[0;34m\u001B[0m\u001B[0;34m\u001B[0m\u001B[0m\n\u001B[0m\u001B[1;32m   1103\u001B[0m         \u001B[0;31m# Do not call functions when jit is used\u001B[0m\u001B[0;34m\u001B[0m\u001B[0;34m\u001B[0m\u001B[0m\n\u001B[1;32m   1104\u001B[0m         \u001B[0mfull_backward_hooks\u001B[0m\u001B[0;34m,\u001B[0m \u001B[0mnon_full_backward_hooks\u001B[0m \u001B[0;34m=\u001B[0m \u001B[0;34m[\u001B[0m\u001B[0;34m]\u001B[0m\u001B[0;34m,\u001B[0m \u001B[0;34m[\u001B[0m\u001B[0;34m]\u001B[0m\u001B[0;34m\u001B[0m\u001B[0;34m\u001B[0m\u001B[0m\n",
      "\u001B[0;32m/var/folders/zg/dd_4mghs167bb5hrrgz9w4y40000gn/T/ipykernel_86103/4088630587.py\u001B[0m in \u001B[0;36mforward\u001B[0;34m(self, x, cond)\u001B[0m\n\u001B[1;32m     15\u001B[0m \u001B[0;34m\u001B[0m\u001B[0m\n\u001B[1;32m     16\u001B[0m     \u001B[0;32mdef\u001B[0m \u001B[0mforward\u001B[0m\u001B[0;34m(\u001B[0m\u001B[0mself\u001B[0m\u001B[0;34m,\u001B[0m \u001B[0mx\u001B[0m\u001B[0;34m,\u001B[0m \u001B[0mcond\u001B[0m\u001B[0;34m=\u001B[0m\u001B[0;32mNone\u001B[0m\u001B[0;34m)\u001B[0m\u001B[0;34m:\u001B[0m\u001B[0;34m\u001B[0m\u001B[0;34m\u001B[0m\u001B[0m\n\u001B[0;32m---> 17\u001B[0;31m         \u001B[0mx\u001B[0m \u001B[0;34m=\u001B[0m \u001B[0mF\u001B[0m\u001B[0;34m.\u001B[0m\u001B[0mconv2d\u001B[0m\u001B[0;34m(\u001B[0m\u001B[0mx\u001B[0m\u001B[0;34m,\u001B[0m \u001B[0mself\u001B[0m\u001B[0;34m.\u001B[0m\u001B[0mweight\u001B[0m \u001B[0;34m*\u001B[0m \u001B[0mself\u001B[0m\u001B[0;34m.\u001B[0m\u001B[0mmask\u001B[0m\u001B[0;34m,\u001B[0m \u001B[0mself\u001B[0m\u001B[0;34m.\u001B[0m\u001B[0mbias\u001B[0m\u001B[0;34m,\u001B[0m \u001B[0mself\u001B[0m\u001B[0;34m.\u001B[0m\u001B[0mstride\u001B[0m\u001B[0;34m,\u001B[0m \u001B[0mself\u001B[0m\u001B[0;34m.\u001B[0m\u001B[0mpadding\u001B[0m\u001B[0;34m,\u001B[0m \u001B[0mself\u001B[0m\u001B[0;34m.\u001B[0m\u001B[0mdilation\u001B[0m\u001B[0;34m,\u001B[0m \u001B[0mself\u001B[0m\u001B[0;34m.\u001B[0m\u001B[0mgroups\u001B[0m\u001B[0;34m)\u001B[0m\u001B[0;34m\u001B[0m\u001B[0;34m\u001B[0m\u001B[0m\n\u001B[0m\u001B[1;32m     18\u001B[0m \u001B[0;34m\u001B[0m\u001B[0m\n\u001B[1;32m     19\u001B[0m         \u001B[0;32mif\u001B[0m \u001B[0mself\u001B[0m\u001B[0;34m.\u001B[0m\u001B[0mcond_encoder\u001B[0m \u001B[0;32mis\u001B[0m \u001B[0;32mnot\u001B[0m \u001B[0;32mNone\u001B[0m\u001B[0;34m:\u001B[0m\u001B[0;34m\u001B[0m\u001B[0;34m\u001B[0m\u001B[0m\n",
      "\u001B[0;31mKeyboardInterrupt\u001B[0m: "
     ]
    }
   ],
   "source": [
    "q1ab_save_results(1, 'b', q1_b)"
   ]
  },
  {
   "cell_type": "code",
   "execution_count": null,
   "metadata": {
    "id": "Q-Yh9D0G4PxQ"
   },
   "outputs": [],
   "source": [
    "q1ab_save_results(2, 'b', q1_b)"
   ]
  },
  {
   "cell_type": "markdown",
   "metadata": {
    "id": "_IhTtaEXF633"
   },
   "source": [
    "## Part (c) Conditional PixelCNNs\n",
    "\n",
    "In this part, implement and train a **class-conditional** PixelCNN on binary MNIST. Condition on a class label by adding a conditional bias in each convolutional layer. More precisely, in the $\\ell$th convolutional layer, compute: \n",
    "$$W_\\ell * x + b_\\ell + V_\\ell y$$\n",
    "where $W_\\ell * x + b_\\ell$ is a masked convolution (as in previous parts), $V$ is a 2D weight matrix, and $y$ is a one-hot encoding of the class label (where the conditional bias is broadcasted spacially and added channel-wise).\n",
    "\n",
    "You can use a PixelCNN architecture similar to part (a). Training on the shapes dataset should be quick, and MNIST should take around 10-15 minutes\n",
    "\n",
    "\n",
    "**You will provide these deliverables**\n",
    "\n",
    "\n",
    "1.   Over the course of training, record the average negative log-likelihood (nats / dim) of the training data (per minibatch) and test data (for your entire test set). Code is provided that automatically plots the training curves. \n",
    "2.   Report the final test set performance of your final model\n",
    "3. 100 samples from the final trained model"
   ]
  },
  {
   "cell_type": "markdown",
   "metadata": {
    "id": "8U3JwQV1izoA"
   },
   "source": [
    "### Solution\n",
    "Fill out the function below and return the necessary arguments. Feel free to create more cells if need be."
   ]
  },
  {
   "cell_type": "code",
   "execution_count": 124,
   "metadata": {
    "id": "En2kM8jhF8ri"
   },
   "outputs": [],
   "source": [
    "def q1_c(train_data, train_labels, test_data, test_labels, image_shape, n_classes, dset_id):\n",
    "    \"\"\"\n",
    "    train_data: A (n_train, H, W, 1) numpy array of binary images with values in {0, 1}\n",
    "    train_labels: A (n_train,) numpy array of class labels\n",
    "    test_data: A (n_test, H, W, 1) numpy array of binary images with values in {0, 1}\n",
    "    test_labels: A (n_test,) numpy array of class labels\n",
    "    image_shape: (H, W), height and width\n",
    "    n_classes: number of classes (4 or 10)\n",
    "    dset_id: An identifying number of which dataset is given (1 or 2). Most likely\n",
    "           used to set different hyperparameters for different datasets\n",
    "\n",
    "    Returns\n",
    "    - a (# of training iterations,) numpy array of train_losses evaluated every minibatch\n",
    "    - a (# of epochs + 1,) numpy array of test_losses evaluated once at initialization and after each epoch\n",
    "    - a numpy array of size (100, H, C, 1) of samples with values in {0, 1}\n",
    "    where an even number of images of each class are sampled with 100 total\n",
    "    \"\"\"\n",
    "    \n",
    "    model = PixelCNN(1, 2, 120, 8, color_cond=True, cond_size=n_classes).to(DEVICE)\n",
    "    optim = Adam(model.parameters(), lr=1e-3)\n",
    "    \n",
    "    train_ds = TensorDataset(\n",
    "        torch.from_numpy(train_data.transpose(0, 3, 1, 2).astype(np.int64)), \n",
    "        torch.from_numpy(train_labels.astype(np.int64))\n",
    "    )\n",
    "    test_ds = TensorDataset(\n",
    "        torch.from_numpy(test_data.transpose(0, 3, 1, 2).astype(np.int64)), \n",
    "        torch.from_numpy(test_labels.astype(np.int64))\n",
    "    )\n",
    "\n",
    "    train_dl = DataLoader(train_ds, batch_size=64, shuffle=True, drop_last=True)\n",
    "    test_dl = DataLoader(test_ds, batch_size=64)\n",
    "    \n",
    "    train_losses, test_losses = train(model, optim, train_dl, test_dl)\n",
    "    \n",
    "    cond = torch.arange(n_classes, device=DEVICE).unsqueeze(1).repeat(1, 100 // n_classes).view(-1).long()\n",
    "    samples = sample(model, (*image_shape, 1), cond=cond)\n",
    "\n",
    "    return train_losses, test_losses, samples\n"
   ]
  },
  {
   "cell_type": "markdown",
   "metadata": {
    "id": "LNSDCpfeiY0-"
   },
   "source": [
    "### Results\n",
    "\n",
    "Once you've implemented `q1_c`, execute the cells below to visualize and save your results\n",
    "\n"
   ]
  },
  {
   "cell_type": "code",
   "execution_count": 125,
   "metadata": {
    "colab": {
     "base_uri": "https://localhost:8080/",
     "height": 577
    },
    "id": "PhonsHCcGC3l",
    "outputId": "a292b409-a20b-4056-c0c0-8d414d6230e6"
   },
   "outputs": [
    {
     "data": {
      "application/vnd.jupyter.widget-view+json": {
       "model_id": "43d7681d03c141efb694bca35ee5a04f",
       "version_major": 2,
       "version_minor": 0
      },
      "text/plain": [
       "Testing:   0%|          | 0/71 [00:00<?, ?it/s]"
      ]
     },
     "metadata": {},
     "output_type": "display_data"
    },
    {
     "ename": "KeyboardInterrupt",
     "evalue": "",
     "output_type": "error",
     "traceback": [
      "\u001B[0;31m---------------------------------------------------------------------------\u001B[0m",
      "\u001B[0;31mKeyboardInterrupt\u001B[0m                         Traceback (most recent call last)",
      "\u001B[0;32m/var/folders/zg/dd_4mghs167bb5hrrgz9w4y40000gn/T/ipykernel_86103/1498146396.py\u001B[0m in \u001B[0;36m<module>\u001B[0;34m\u001B[0m\n\u001B[0;32m----> 1\u001B[0;31m \u001B[0mq1c_save_results\u001B[0m\u001B[0;34m(\u001B[0m\u001B[0;36m1\u001B[0m\u001B[0;34m,\u001B[0m \u001B[0mq1_c\u001B[0m\u001B[0;34m)\u001B[0m\u001B[0;34m\u001B[0m\u001B[0;34m\u001B[0m\u001B[0m\n\u001B[0m",
      "\u001B[0;32m~/PycharmProjects/hse_dul/Homework/hw2/dul_2021/utils/hw2_utils.py\u001B[0m in \u001B[0;36mq1c_save_results\u001B[0;34m(dset_type, q1_c)\u001B[0m\n\u001B[1;32m     63\u001B[0m         \u001B[0;32mraise\u001B[0m \u001B[0mException\u001B[0m\u001B[0;34m(\u001B[0m\u001B[0;34m'Invalid dset type:'\u001B[0m\u001B[0;34m,\u001B[0m \u001B[0mdset_type\u001B[0m\u001B[0;34m)\u001B[0m\u001B[0;34m\u001B[0m\u001B[0;34m\u001B[0m\u001B[0m\n\u001B[1;32m     64\u001B[0m \u001B[0;34m\u001B[0m\u001B[0m\n\u001B[0;32m---> 65\u001B[0;31m     train_losses, test_losses, samples = q1_c(train_data, train_labels, test_data, test_labels, img_shape, n_classes,\n\u001B[0m\u001B[1;32m     66\u001B[0m                                               dset_type)\n\u001B[1;32m     67\u001B[0m     \u001B[0msamples\u001B[0m \u001B[0;34m=\u001B[0m \u001B[0msamples\u001B[0m\u001B[0;34m.\u001B[0m\u001B[0mastype\u001B[0m\u001B[0;34m(\u001B[0m\u001B[0;34m'float32'\u001B[0m\u001B[0;34m)\u001B[0m \u001B[0;34m*\u001B[0m \u001B[0;36m255\u001B[0m\u001B[0;34m\u001B[0m\u001B[0;34m\u001B[0m\u001B[0m\n",
      "\u001B[0;32m/var/folders/zg/dd_4mghs167bb5hrrgz9w4y40000gn/T/ipykernel_86103/634849172.py\u001B[0m in \u001B[0;36mq1_c\u001B[0;34m(train_data, train_labels, test_data, test_labels, image_shape, n_classes, dset_id)\u001B[0m\n\u001B[1;32m     32\u001B[0m     \u001B[0mtest_dl\u001B[0m \u001B[0;34m=\u001B[0m \u001B[0mDataLoader\u001B[0m\u001B[0;34m(\u001B[0m\u001B[0mtest_ds\u001B[0m\u001B[0;34m,\u001B[0m \u001B[0mbatch_size\u001B[0m\u001B[0;34m=\u001B[0m\u001B[0;36m64\u001B[0m\u001B[0;34m)\u001B[0m\u001B[0;34m\u001B[0m\u001B[0;34m\u001B[0m\u001B[0m\n\u001B[1;32m     33\u001B[0m \u001B[0;34m\u001B[0m\u001B[0m\n\u001B[0;32m---> 34\u001B[0;31m     \u001B[0mtrain_losses\u001B[0m\u001B[0;34m,\u001B[0m \u001B[0mtest_losses\u001B[0m \u001B[0;34m=\u001B[0m \u001B[0mtrain\u001B[0m\u001B[0;34m(\u001B[0m\u001B[0mmodel\u001B[0m\u001B[0;34m,\u001B[0m \u001B[0moptim\u001B[0m\u001B[0;34m,\u001B[0m \u001B[0mtrain_dl\u001B[0m\u001B[0;34m,\u001B[0m \u001B[0mtest_dl\u001B[0m\u001B[0;34m)\u001B[0m\u001B[0;34m\u001B[0m\u001B[0;34m\u001B[0m\u001B[0m\n\u001B[0m\u001B[1;32m     35\u001B[0m \u001B[0;34m\u001B[0m\u001B[0m\n\u001B[1;32m     36\u001B[0m     \u001B[0mcond\u001B[0m \u001B[0;34m=\u001B[0m \u001B[0mtorch\u001B[0m\u001B[0;34m.\u001B[0m\u001B[0marange\u001B[0m\u001B[0;34m(\u001B[0m\u001B[0mn_classes\u001B[0m\u001B[0;34m,\u001B[0m \u001B[0mdevice\u001B[0m\u001B[0;34m=\u001B[0m\u001B[0mDEVICE\u001B[0m\u001B[0;34m)\u001B[0m\u001B[0;34m.\u001B[0m\u001B[0munsqueeze\u001B[0m\u001B[0;34m(\u001B[0m\u001B[0;36m1\u001B[0m\u001B[0;34m)\u001B[0m\u001B[0;34m.\u001B[0m\u001B[0mrepeat\u001B[0m\u001B[0;34m(\u001B[0m\u001B[0;36m1\u001B[0m\u001B[0;34m,\u001B[0m \u001B[0;36m100\u001B[0m \u001B[0;34m//\u001B[0m \u001B[0mn_classes\u001B[0m\u001B[0;34m)\u001B[0m\u001B[0;34m.\u001B[0m\u001B[0mview\u001B[0m\u001B[0;34m(\u001B[0m\u001B[0;34m-\u001B[0m\u001B[0;36m1\u001B[0m\u001B[0;34m)\u001B[0m\u001B[0;34m.\u001B[0m\u001B[0mlong\u001B[0m\u001B[0;34m(\u001B[0m\u001B[0;34m)\u001B[0m\u001B[0;34m\u001B[0m\u001B[0;34m\u001B[0m\u001B[0m\n",
      "\u001B[0;32m/var/folders/zg/dd_4mghs167bb5hrrgz9w4y40000gn/T/ipykernel_86103/1748661328.py\u001B[0m in \u001B[0;36mtrain\u001B[0;34m(model, optimizer, train_dl, test_dl, epochs)\u001B[0m\n\u001B[1;32m     36\u001B[0m \u001B[0;32mdef\u001B[0m \u001B[0mtrain\u001B[0m\u001B[0;34m(\u001B[0m\u001B[0mmodel\u001B[0m\u001B[0;34m,\u001B[0m \u001B[0moptimizer\u001B[0m\u001B[0;34m,\u001B[0m \u001B[0mtrain_dl\u001B[0m\u001B[0;34m,\u001B[0m \u001B[0mtest_dl\u001B[0m\u001B[0;34m,\u001B[0m \u001B[0mepochs\u001B[0m\u001B[0;34m=\u001B[0m\u001B[0;36m20\u001B[0m\u001B[0;34m)\u001B[0m\u001B[0;34m:\u001B[0m\u001B[0;34m\u001B[0m\u001B[0;34m\u001B[0m\u001B[0m\n\u001B[1;32m     37\u001B[0m     \u001B[0mtrain_losses\u001B[0m \u001B[0;34m=\u001B[0m \u001B[0;34m[\u001B[0m\u001B[0;34m]\u001B[0m\u001B[0;34m\u001B[0m\u001B[0;34m\u001B[0m\u001B[0m\n\u001B[0;32m---> 38\u001B[0;31m     \u001B[0mtest_losses\u001B[0m \u001B[0;34m=\u001B[0m \u001B[0;34m[\u001B[0m\u001B[0mtest_epoch\u001B[0m\u001B[0;34m(\u001B[0m\u001B[0mmodel\u001B[0m\u001B[0;34m,\u001B[0m \u001B[0mtest_dl\u001B[0m\u001B[0;34m)\u001B[0m\u001B[0;34m]\u001B[0m\u001B[0;34m\u001B[0m\u001B[0;34m\u001B[0m\u001B[0m\n\u001B[0m\u001B[1;32m     39\u001B[0m \u001B[0;34m\u001B[0m\u001B[0m\n\u001B[1;32m     40\u001B[0m     \u001B[0mrange_bar\u001B[0m \u001B[0;34m=\u001B[0m \u001B[0mtqdm\u001B[0m\u001B[0;34m(\u001B[0m\u001B[0mrange\u001B[0m\u001B[0;34m(\u001B[0m\u001B[0mepochs\u001B[0m\u001B[0;34m)\u001B[0m\u001B[0;34m,\u001B[0m \u001B[0mdesc\u001B[0m\u001B[0;34m=\u001B[0m\u001B[0;34m'Epoch'\u001B[0m\u001B[0;34m)\u001B[0m\u001B[0;34m\u001B[0m\u001B[0;34m\u001B[0m\u001B[0m\n",
      "\u001B[0;32m~/.conda/envs/hse_dul/lib/python3.9/site-packages/torch/autograd/grad_mode.py\u001B[0m in \u001B[0;36mdecorate_context\u001B[0;34m(*args, **kwargs)\u001B[0m\n\u001B[1;32m     26\u001B[0m         \u001B[0;32mdef\u001B[0m \u001B[0mdecorate_context\u001B[0m\u001B[0;34m(\u001B[0m\u001B[0;34m*\u001B[0m\u001B[0margs\u001B[0m\u001B[0;34m,\u001B[0m \u001B[0;34m**\u001B[0m\u001B[0mkwargs\u001B[0m\u001B[0;34m)\u001B[0m\u001B[0;34m:\u001B[0m\u001B[0;34m\u001B[0m\u001B[0;34m\u001B[0m\u001B[0m\n\u001B[1;32m     27\u001B[0m             \u001B[0;32mwith\u001B[0m \u001B[0mself\u001B[0m\u001B[0;34m.\u001B[0m\u001B[0m__class__\u001B[0m\u001B[0;34m(\u001B[0m\u001B[0;34m)\u001B[0m\u001B[0;34m:\u001B[0m\u001B[0;34m\u001B[0m\u001B[0;34m\u001B[0m\u001B[0m\n\u001B[0;32m---> 28\u001B[0;31m                 \u001B[0;32mreturn\u001B[0m \u001B[0mfunc\u001B[0m\u001B[0;34m(\u001B[0m\u001B[0;34m*\u001B[0m\u001B[0margs\u001B[0m\u001B[0;34m,\u001B[0m \u001B[0;34m**\u001B[0m\u001B[0mkwargs\u001B[0m\u001B[0;34m)\u001B[0m\u001B[0;34m\u001B[0m\u001B[0;34m\u001B[0m\u001B[0m\n\u001B[0m\u001B[1;32m     29\u001B[0m         \u001B[0;32mreturn\u001B[0m \u001B[0mcast\u001B[0m\u001B[0;34m(\u001B[0m\u001B[0mF\u001B[0m\u001B[0;34m,\u001B[0m \u001B[0mdecorate_context\u001B[0m\u001B[0;34m)\u001B[0m\u001B[0;34m\u001B[0m\u001B[0;34m\u001B[0m\u001B[0m\n\u001B[1;32m     30\u001B[0m \u001B[0;34m\u001B[0m\u001B[0m\n",
      "\u001B[0;32m/var/folders/zg/dd_4mghs167bb5hrrgz9w4y40000gn/T/ipykernel_86103/1748661328.py\u001B[0m in \u001B[0;36mtest_epoch\u001B[0;34m(model, dl)\u001B[0m\n\u001B[1;32m      9\u001B[0m \u001B[0;34m\u001B[0m\u001B[0m\n\u001B[1;32m     10\u001B[0m         \u001B[0mbatch\u001B[0m \u001B[0;34m=\u001B[0m \u001B[0mbatch\u001B[0m\u001B[0;34m.\u001B[0m\u001B[0mto\u001B[0m\u001B[0;34m(\u001B[0m\u001B[0mDEVICE\u001B[0m\u001B[0;34m)\u001B[0m\u001B[0;34m\u001B[0m\u001B[0;34m\u001B[0m\u001B[0m\n\u001B[0;32m---> 11\u001B[0;31m         \u001B[0mrec\u001B[0m \u001B[0;34m=\u001B[0m \u001B[0mmodel\u001B[0m\u001B[0;34m(\u001B[0m\u001B[0mbatch\u001B[0m\u001B[0;34m,\u001B[0m \u001B[0mcond\u001B[0m\u001B[0;34m)\u001B[0m\u001B[0;34m\u001B[0m\u001B[0;34m\u001B[0m\u001B[0m\n\u001B[0m\u001B[1;32m     12\u001B[0m         \u001B[0mloss\u001B[0m \u001B[0;34m+=\u001B[0m \u001B[0mF\u001B[0m\u001B[0;34m.\u001B[0m\u001B[0mcross_entropy\u001B[0m\u001B[0;34m(\u001B[0m\u001B[0mrec\u001B[0m\u001B[0;34m,\u001B[0m \u001B[0mbatch\u001B[0m\u001B[0;34m)\u001B[0m\u001B[0;34m\u001B[0m\u001B[0;34m\u001B[0m\u001B[0m\n\u001B[1;32m     13\u001B[0m \u001B[0;34m\u001B[0m\u001B[0m\n",
      "\u001B[0;32m~/.conda/envs/hse_dul/lib/python3.9/site-packages/torch/nn/modules/module.py\u001B[0m in \u001B[0;36m_call_impl\u001B[0;34m(self, *input, **kwargs)\u001B[0m\n\u001B[1;32m   1100\u001B[0m         if not (self._backward_hooks or self._forward_hooks or self._forward_pre_hooks or _global_backward_hooks\n\u001B[1;32m   1101\u001B[0m                 or _global_forward_hooks or _global_forward_pre_hooks):\n\u001B[0;32m-> 1102\u001B[0;31m             \u001B[0;32mreturn\u001B[0m \u001B[0mforward_call\u001B[0m\u001B[0;34m(\u001B[0m\u001B[0;34m*\u001B[0m\u001B[0minput\u001B[0m\u001B[0;34m,\u001B[0m \u001B[0;34m**\u001B[0m\u001B[0mkwargs\u001B[0m\u001B[0;34m)\u001B[0m\u001B[0;34m\u001B[0m\u001B[0;34m\u001B[0m\u001B[0m\n\u001B[0m\u001B[1;32m   1103\u001B[0m         \u001B[0;31m# Do not call functions when jit is used\u001B[0m\u001B[0;34m\u001B[0m\u001B[0;34m\u001B[0m\u001B[0m\n\u001B[1;32m   1104\u001B[0m         \u001B[0mfull_backward_hooks\u001B[0m\u001B[0;34m,\u001B[0m \u001B[0mnon_full_backward_hooks\u001B[0m \u001B[0;34m=\u001B[0m \u001B[0;34m[\u001B[0m\u001B[0;34m]\u001B[0m\u001B[0;34m,\u001B[0m \u001B[0;34m[\u001B[0m\u001B[0;34m]\u001B[0m\u001B[0;34m\u001B[0m\u001B[0;34m\u001B[0m\u001B[0m\n",
      "\u001B[0;32m/var/folders/zg/dd_4mghs167bb5hrrgz9w4y40000gn/T/ipykernel_86103/3257498104.py\u001B[0m in \u001B[0;36mforward\u001B[0;34m(self, x, cond)\u001B[0m\n\u001B[1;32m    122\u001B[0m         \u001B[0;32mfor\u001B[0m \u001B[0mlayer\u001B[0m \u001B[0;32min\u001B[0m \u001B[0mself\u001B[0m\u001B[0;34m.\u001B[0m\u001B[0mlayers\u001B[0m\u001B[0;34m:\u001B[0m\u001B[0;34m\u001B[0m\u001B[0;34m\u001B[0m\u001B[0m\n\u001B[1;32m    123\u001B[0m             \u001B[0;32mif\u001B[0m \u001B[0misinstance\u001B[0m\u001B[0;34m(\u001B[0m\u001B[0mlayer\u001B[0m\u001B[0;34m,\u001B[0m \u001B[0;34m(\u001B[0m\u001B[0mMaskedConv2d\u001B[0m\u001B[0;34m,\u001B[0m \u001B[0mResBlock\u001B[0m\u001B[0;34m)\u001B[0m\u001B[0;34m)\u001B[0m\u001B[0;34m:\u001B[0m\u001B[0;34m\u001B[0m\u001B[0;34m\u001B[0m\u001B[0m\n\u001B[0;32m--> 124\u001B[0;31m                 \u001B[0mx\u001B[0m \u001B[0;34m=\u001B[0m \u001B[0mlayer\u001B[0m\u001B[0;34m(\u001B[0m\u001B[0mx\u001B[0m\u001B[0;34m,\u001B[0m \u001B[0mcond\u001B[0m\u001B[0;34m)\u001B[0m\u001B[0;34m\u001B[0m\u001B[0;34m\u001B[0m\u001B[0m\n\u001B[0m\u001B[1;32m    125\u001B[0m             \u001B[0;32melse\u001B[0m\u001B[0;34m:\u001B[0m\u001B[0;34m\u001B[0m\u001B[0;34m\u001B[0m\u001B[0m\n\u001B[1;32m    126\u001B[0m                 \u001B[0mx\u001B[0m \u001B[0;34m=\u001B[0m \u001B[0mlayer\u001B[0m\u001B[0;34m(\u001B[0m\u001B[0mx\u001B[0m\u001B[0;34m)\u001B[0m\u001B[0;34m\u001B[0m\u001B[0;34m\u001B[0m\u001B[0m\n",
      "\u001B[0;32m~/.conda/envs/hse_dul/lib/python3.9/site-packages/torch/nn/modules/module.py\u001B[0m in \u001B[0;36m_call_impl\u001B[0;34m(self, *input, **kwargs)\u001B[0m\n\u001B[1;32m   1100\u001B[0m         if not (self._backward_hooks or self._forward_hooks or self._forward_pre_hooks or _global_backward_hooks\n\u001B[1;32m   1101\u001B[0m                 or _global_forward_hooks or _global_forward_pre_hooks):\n\u001B[0;32m-> 1102\u001B[0;31m             \u001B[0;32mreturn\u001B[0m \u001B[0mforward_call\u001B[0m\u001B[0;34m(\u001B[0m\u001B[0;34m*\u001B[0m\u001B[0minput\u001B[0m\u001B[0;34m,\u001B[0m \u001B[0;34m**\u001B[0m\u001B[0mkwargs\u001B[0m\u001B[0;34m)\u001B[0m\u001B[0;34m\u001B[0m\u001B[0;34m\u001B[0m\u001B[0m\n\u001B[0m\u001B[1;32m   1103\u001B[0m         \u001B[0;31m# Do not call functions when jit is used\u001B[0m\u001B[0;34m\u001B[0m\u001B[0;34m\u001B[0m\u001B[0m\n\u001B[1;32m   1104\u001B[0m         \u001B[0mfull_backward_hooks\u001B[0m\u001B[0;34m,\u001B[0m \u001B[0mnon_full_backward_hooks\u001B[0m \u001B[0;34m=\u001B[0m \u001B[0;34m[\u001B[0m\u001B[0;34m]\u001B[0m\u001B[0;34m,\u001B[0m \u001B[0;34m[\u001B[0m\u001B[0;34m]\u001B[0m\u001B[0;34m\u001B[0m\u001B[0;34m\u001B[0m\u001B[0m\n",
      "\u001B[0;32m/var/folders/zg/dd_4mghs167bb5hrrgz9w4y40000gn/T/ipykernel_86103/3257498104.py\u001B[0m in \u001B[0;36mforward\u001B[0;34m(self, x, cond)\u001B[0m\n\u001B[1;32m     68\u001B[0m         \u001B[0;32mfor\u001B[0m \u001B[0mi\u001B[0m\u001B[0;34m,\u001B[0m \u001B[0mlayer\u001B[0m \u001B[0;32min\u001B[0m \u001B[0menumerate\u001B[0m\u001B[0;34m(\u001B[0m\u001B[0mself\u001B[0m\u001B[0;34m.\u001B[0m\u001B[0mlayers\u001B[0m\u001B[0;34m)\u001B[0m\u001B[0;34m:\u001B[0m\u001B[0;34m\u001B[0m\u001B[0;34m\u001B[0m\u001B[0m\n\u001B[1;32m     69\u001B[0m             \u001B[0;32mif\u001B[0m \u001B[0mi\u001B[0m \u001B[0;34m%\u001B[0m \u001B[0;36m2\u001B[0m \u001B[0;34m!=\u001B[0m \u001B[0;36m0\u001B[0m\u001B[0;34m:\u001B[0m\u001B[0;34m\u001B[0m\u001B[0;34m\u001B[0m\u001B[0m\n\u001B[0;32m---> 70\u001B[0;31m                 \u001B[0mout\u001B[0m \u001B[0;34m=\u001B[0m \u001B[0mlayer\u001B[0m\u001B[0;34m(\u001B[0m\u001B[0mout\u001B[0m\u001B[0;34m,\u001B[0m \u001B[0mcond\u001B[0m\u001B[0;34m)\u001B[0m\u001B[0;34m\u001B[0m\u001B[0;34m\u001B[0m\u001B[0m\n\u001B[0m\u001B[1;32m     71\u001B[0m             \u001B[0;32melse\u001B[0m\u001B[0;34m:\u001B[0m\u001B[0;34m\u001B[0m\u001B[0;34m\u001B[0m\u001B[0m\n\u001B[1;32m     72\u001B[0m                 \u001B[0mout\u001B[0m \u001B[0;34m=\u001B[0m \u001B[0mlayer\u001B[0m\u001B[0;34m(\u001B[0m\u001B[0mout\u001B[0m\u001B[0;34m)\u001B[0m\u001B[0;34m\u001B[0m\u001B[0;34m\u001B[0m\u001B[0m\n",
      "\u001B[0;32m~/.conda/envs/hse_dul/lib/python3.9/site-packages/torch/nn/modules/module.py\u001B[0m in \u001B[0;36m_call_impl\u001B[0;34m(self, *input, **kwargs)\u001B[0m\n\u001B[1;32m   1100\u001B[0m         if not (self._backward_hooks or self._forward_hooks or self._forward_pre_hooks or _global_backward_hooks\n\u001B[1;32m   1101\u001B[0m                 or _global_forward_hooks or _global_forward_pre_hooks):\n\u001B[0;32m-> 1102\u001B[0;31m             \u001B[0;32mreturn\u001B[0m \u001B[0mforward_call\u001B[0m\u001B[0;34m(\u001B[0m\u001B[0;34m*\u001B[0m\u001B[0minput\u001B[0m\u001B[0;34m,\u001B[0m \u001B[0;34m**\u001B[0m\u001B[0mkwargs\u001B[0m\u001B[0;34m)\u001B[0m\u001B[0;34m\u001B[0m\u001B[0;34m\u001B[0m\u001B[0m\n\u001B[0m\u001B[1;32m   1103\u001B[0m         \u001B[0;31m# Do not call functions when jit is used\u001B[0m\u001B[0;34m\u001B[0m\u001B[0;34m\u001B[0m\u001B[0m\n\u001B[1;32m   1104\u001B[0m         \u001B[0mfull_backward_hooks\u001B[0m\u001B[0;34m,\u001B[0m \u001B[0mnon_full_backward_hooks\u001B[0m \u001B[0;34m=\u001B[0m \u001B[0;34m[\u001B[0m\u001B[0;34m]\u001B[0m\u001B[0;34m,\u001B[0m \u001B[0;34m[\u001B[0m\u001B[0;34m]\u001B[0m\u001B[0;34m\u001B[0m\u001B[0;34m\u001B[0m\u001B[0m\n",
      "\u001B[0;32m/var/folders/zg/dd_4mghs167bb5hrrgz9w4y40000gn/T/ipykernel_86103/3257498104.py\u001B[0m in \u001B[0;36mforward\u001B[0;34m(self, x, cond)\u001B[0m\n\u001B[1;32m     15\u001B[0m \u001B[0;34m\u001B[0m\u001B[0m\n\u001B[1;32m     16\u001B[0m     \u001B[0;32mdef\u001B[0m \u001B[0mforward\u001B[0m\u001B[0;34m(\u001B[0m\u001B[0mself\u001B[0m\u001B[0;34m,\u001B[0m \u001B[0mx\u001B[0m\u001B[0;34m,\u001B[0m \u001B[0mcond\u001B[0m\u001B[0;34m=\u001B[0m\u001B[0;32mNone\u001B[0m\u001B[0;34m)\u001B[0m\u001B[0;34m:\u001B[0m\u001B[0;34m\u001B[0m\u001B[0;34m\u001B[0m\u001B[0m\n\u001B[0;32m---> 17\u001B[0;31m         \u001B[0mx\u001B[0m \u001B[0;34m=\u001B[0m \u001B[0mF\u001B[0m\u001B[0;34m.\u001B[0m\u001B[0mconv2d\u001B[0m\u001B[0;34m(\u001B[0m\u001B[0mx\u001B[0m\u001B[0;34m,\u001B[0m \u001B[0mself\u001B[0m\u001B[0;34m.\u001B[0m\u001B[0mweight\u001B[0m \u001B[0;34m*\u001B[0m \u001B[0mself\u001B[0m\u001B[0;34m.\u001B[0m\u001B[0mmask\u001B[0m\u001B[0;34m,\u001B[0m \u001B[0mself\u001B[0m\u001B[0;34m.\u001B[0m\u001B[0mbias\u001B[0m\u001B[0;34m,\u001B[0m \u001B[0mself\u001B[0m\u001B[0;34m.\u001B[0m\u001B[0mstride\u001B[0m\u001B[0;34m,\u001B[0m \u001B[0mself\u001B[0m\u001B[0;34m.\u001B[0m\u001B[0mpadding\u001B[0m\u001B[0;34m,\u001B[0m \u001B[0mself\u001B[0m\u001B[0;34m.\u001B[0m\u001B[0mdilation\u001B[0m\u001B[0;34m,\u001B[0m \u001B[0mself\u001B[0m\u001B[0;34m.\u001B[0m\u001B[0mgroups\u001B[0m\u001B[0;34m)\u001B[0m\u001B[0;34m\u001B[0m\u001B[0;34m\u001B[0m\u001B[0m\n\u001B[0m\u001B[1;32m     18\u001B[0m \u001B[0;34m\u001B[0m\u001B[0m\n\u001B[1;32m     19\u001B[0m         \u001B[0;32mif\u001B[0m \u001B[0mself\u001B[0m\u001B[0;34m.\u001B[0m\u001B[0mcond_encoder\u001B[0m \u001B[0;32mis\u001B[0m \u001B[0;32mnot\u001B[0m \u001B[0;32mNone\u001B[0m\u001B[0;34m:\u001B[0m\u001B[0;34m\u001B[0m\u001B[0;34m\u001B[0m\u001B[0m\n",
      "\u001B[0;31mKeyboardInterrupt\u001B[0m: "
     ]
    }
   ],
   "source": [
    "q1c_save_results(1, q1_c)"
   ]
  },
  {
   "cell_type": "code",
   "execution_count": null,
   "metadata": {
    "id": "ZtN6ykwn4MQI"
   },
   "outputs": [],
   "source": [
    "q1c_save_results(2, q1_c)"
   ]
  },
  {
   "cell_type": "markdown",
   "metadata": {
    "id": "LMZLcaHwLNNL"
   },
   "source": [
    "# Bonus 1: Bonus Questions (Optional)"
   ]
  },
  {
   "cell_type": "markdown",
   "metadata": {
    "id": "uZ-DhcsGLTRB"
   },
   "source": [
    "## Part (a) Gated PixelCNN\n",
    "Implement a [Gated PixelCNN](https://arxiv.org/abs/1606.05328) to fix the blind-spot issue, and report training curves, final test loss, and samples."
   ]
  },
  {
   "cell_type": "markdown",
   "metadata": {
    "id": "orP7ESaE5xI8"
   },
   "source": [
    "### Solution\n",
    "Fill out the function below and return the necessary arguments. Feel free to create more cells if need be."
   ]
  },
  {
   "cell_type": "code",
   "execution_count": null,
   "metadata": {
    "id": "eWRyvJAskzVt"
   },
   "outputs": [],
   "source": [
    "#b1ab_get_data()"
   ]
  },
  {
   "cell_type": "code",
   "execution_count": null,
   "metadata": {
    "id": "IlX6Aa6jLOGN"
   },
   "outputs": [],
   "source": [
    "def b1_a(train_data, test_data, image_shape):\n",
    "  \"\"\"\n",
    "  train_data: A (n_train, H, W, C) uint8 numpy array of color images with values in {0, 1, 2, 3}\n",
    "  test_data: A (n_test, H, W, C) uint8 numpy array of color images with values in {0, 1, 2, 3}\n",
    "  image_shape: (H, W, C), height, width, and # of channels of the image\n",
    "\n",
    "  Returns\n",
    "  - a (# of training iterations,) numpy array of train_losses evaluated every minibatch\n",
    "  - a (# of epochs + 1,) numpy array of test_losses evaluated once at initialization and after each epoch\n",
    "  - a numpy array of size (100, H, W, C) of generated samples with values in {0, 1, 2, 3}\n",
    "  \"\"\"\n",
    "  \"\"\" YOUR CODE HERE \"\"\""
   ]
  },
  {
   "cell_type": "markdown",
   "metadata": {
    "id": "AMdpZFJv55k9"
   },
   "source": [
    "### Results\n",
    "\n",
    "Once you've implemented `b1_a`, execute the cells below to visualize and save your results\n",
    "\n"
   ]
  },
  {
   "cell_type": "code",
   "execution_count": null,
   "metadata": {
    "id": "zUjIxe2-8v-Q"
   },
   "outputs": [],
   "source": [
    "b1a_save_results(b1_a)"
   ]
  },
  {
   "cell_type": "markdown",
   "metadata": {
    "id": "dwV0spI2Ly0P"
   },
   "source": [
    "## Part (b) Grayscale PixelcNN\n",
    "Train a [Grayscale PixelCNN](https://arxiv.org/abs/1612.08185) on Colored MNIST. You do not need to use their architecture - stacking standard masked convolutions or residual blocks is fine. First, generate a binary image, and then the 2-bit color image."
   ]
  },
  {
   "cell_type": "markdown",
   "metadata": {
    "id": "3DAJGnNv50C2"
   },
   "source": [
    "### Solution\n",
    "Fill out the function below and return the necessary arguments. Feel free to create more cells if need be."
   ]
  },
  {
   "cell_type": "code",
   "execution_count": null,
   "metadata": {
    "id": "3Kix-StXL08n"
   },
   "outputs": [],
   "source": [
    "def b1_b(train_data, test_data, image_shape):\n",
    "  \"\"\"\n",
    "  train_data: A (n_train, H, W, C) uint8 numpy array of color images with values in {0, 1, 2, 3}\n",
    "  test_data: A (n_test, H, W, C) uint8 numpy array of color images with values in {0, 1, 2, 3}\n",
    "  image_shape: (H, W, C), height, width, and # of channels of the image\n",
    "\n",
    "  Returns\n",
    "  - a (# of training iterations,) numpy array of train_losses evaluated every minibatch\n",
    "  - a (# of epochs + 1,) numpy array of test_losses evaluated once at initialization and after each epoch\n",
    "  - a numpy array of size (50, H, W, 1) of generated binary images in {0, 1}\n",
    "  - a numpy array of size (50, H, W, C) of conditonally generated color images in {0, 1, 2, 3}\n",
    "  \"\"\"\n",
    "  # You will need to generate the binary image dataset from train_data and test_data\n",
    "  \n",
    "  \"\"\" YOUR CODE HERE \"\"\""
   ]
  },
  {
   "cell_type": "markdown",
   "metadata": {
    "id": "LPOmIqtM585K"
   },
   "source": [
    "### Results\n",
    "\n",
    "Once you've implemented `b1_b`, execute the cells below to visualize and save your results\n",
    "\n"
   ]
  },
  {
   "cell_type": "code",
   "execution_count": null,
   "metadata": {
    "id": "iwjE85Ux83kv"
   },
   "outputs": [],
   "source": [
    "q1b_save_results(q1_b)"
   ]
  },
  {
   "cell_type": "markdown",
   "metadata": {
    "id": "7J9F2kFBL-p3"
   },
   "source": [
    "## Part (c) Parallel Multiscale PixelCNN\n",
    "One large disadvantage of autoregressive models is their slow sampling speed, since they require one network evaluation per feature. However, there are existing methods which introduce different independence assumptions to allow for parallelism when sampling. Implement a [Parallel PixelCNN](https://arxiv.org/abs/1703.03664) on 56 x 56 MNIST images, with a base size of 7 x 7 and upscaling by a factor of 2. Sampling should be very quick (< 1s). Architectures may vary, but using small PixelCNN implementation similar to previous parts and small ResNets should suffice"
   ]
  },
  {
   "cell_type": "markdown",
   "metadata": {
    "id": "PfQAN_a051BS"
   },
   "source": [
    "### Solution\n",
    "Fill out the function below and return the necessary arguments. Feel free to create more cells if need be."
   ]
  },
  {
   "cell_type": "code",
   "execution_count": 1,
   "metadata": {
    "id": "JqeWAMrXk3cz"
   },
   "outputs": [],
   "source": [
    "#b1c_get_data()"
   ]
  },
  {
   "cell_type": "code",
   "execution_count": null,
   "metadata": {
    "id": "Qa0Sm3GIMA5R"
   },
   "outputs": [],
   "source": [
    "def b1_c(train_data, test_data):\n",
    "  \"\"\"\n",
    "  train_data: A (60000, 56, 56, 1) numpy array of grayscale images with values in {0, 1}\n",
    "  test_data: A (10000, 56, 56, 1) numpy array of grayscale images with values in {0, 1}\n",
    "  image_shape: (H, W), height and width\n",
    "\n",
    "  Returns\n",
    "  - a (# of training iterations,) numpy array of train_losses evaluated every minibatch\n",
    "  - a (# of epochs + 1,) numpy array of test_losses evaluated once at initialization and after each epoch\n",
    "  - a numpy array of size (100, 56, 56, 1) of generated samples with values in {0, 1}\n",
    "  \"\"\"\n",
    " \n",
    "  \"\"\" YOUR CODE HERE \"\"\""
   ]
  },
  {
   "cell_type": "markdown",
   "metadata": {
    "id": "2kFqvnZN517N"
   },
   "source": [
    "### Results\n",
    "\n",
    "Once you've implemented `b1_c`, execute the cells below to visualize and save your results\n",
    "\n"
   ]
  },
  {
   "cell_type": "code",
   "execution_count": null,
   "metadata": {
    "id": "V73EuNZY5_Ld"
   },
   "outputs": [],
   "source": [
    "b1c_save_results(b1_c)"
   ]
  }
 ],
 "metadata": {
  "accelerator": "GPU",
  "colab": {
   "collapsed_sections": [
    "8U3JwQV1izoA",
    "LMZLcaHwLNNL",
    "orP7ESaE5xI8",
    "dwV0spI2Ly0P",
    "PfQAN_a051BS"
   ],
   "include_colab_link": true,
   "name": "Homework2_PixelCNN.ipynb",
   "provenance": []
  },
  "kernelspec": {
   "display_name": "hse_dul",
   "language": "python",
   "name": "hse_dul"
  },
  "language_info": {
   "codemirror_mode": {
    "name": "ipython",
    "version": 3
   },
   "file_extension": ".py",
   "mimetype": "text/x-python",
   "name": "python",
   "nbconvert_exporter": "python",
   "pygments_lexer": "ipython3",
   "version": "3.9.7"
  }
 },
 "nbformat": 4,
 "nbformat_minor": 1
}