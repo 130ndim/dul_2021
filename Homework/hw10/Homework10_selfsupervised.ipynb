{
  "nbformat": 4,
  "nbformat_minor": 0,
  "metadata": {
    "colab": {
      "name": "Homework10_selfsupervised.ipynb",
      "provenance": [],
      "collapsed_sections": [],
      "include_colab_link": true
    },
    "kernelspec": {
      "name": "hse_dul",
      "language": "python",
      "display_name": "hse_dul"
    },
    "language_info": {
      "name": "python"
    },
    "accelerator": "GPU",
    "widgets": {
      "application/vnd.jupyter.widget-state+json": {
        "0ef6b25840894d66a1a9c90b15601613": {
          "model_module": "@jupyter-widgets/controls",
          "model_name": "HBoxModel",
          "model_module_version": "1.5.0",
          "state": {
            "_view_name": "HBoxView",
            "_dom_classes": [],
            "_model_name": "HBoxModel",
            "_view_module": "@jupyter-widgets/controls",
            "_model_module_version": "1.5.0",
            "_view_count": null,
            "_view_module_version": "1.5.0",
            "box_style": "",
            "layout": "IPY_MODEL_2321f6c6548c4c4088a0a060ad12ccbd",
            "_model_module": "@jupyter-widgets/controls",
            "children": [
              "IPY_MODEL_bd9dc9efd24848e1a4430144b5025c08",
              "IPY_MODEL_24a0dace983e40c5901c8b45180537ae",
              "IPY_MODEL_eca4dedd3c124ac89a931d460c948e31"
            ]
          }
        },
        "2321f6c6548c4c4088a0a060ad12ccbd": {
          "model_module": "@jupyter-widgets/base",
          "model_name": "LayoutModel",
          "model_module_version": "1.2.0",
          "state": {
            "_view_name": "LayoutView",
            "grid_template_rows": null,
            "right": null,
            "justify_content": null,
            "_view_module": "@jupyter-widgets/base",
            "overflow": null,
            "_model_module_version": "1.2.0",
            "_view_count": null,
            "flex_flow": null,
            "width": null,
            "min_width": null,
            "border": null,
            "align_items": null,
            "bottom": null,
            "_model_module": "@jupyter-widgets/base",
            "top": null,
            "grid_column": null,
            "overflow_y": null,
            "overflow_x": null,
            "grid_auto_flow": null,
            "grid_area": null,
            "grid_template_columns": null,
            "flex": null,
            "_model_name": "LayoutModel",
            "justify_items": null,
            "grid_row": null,
            "max_height": null,
            "align_content": null,
            "visibility": null,
            "align_self": null,
            "height": null,
            "min_height": null,
            "padding": null,
            "grid_auto_rows": null,
            "grid_gap": null,
            "max_width": null,
            "order": null,
            "_view_module_version": "1.2.0",
            "grid_template_areas": null,
            "object_position": null,
            "object_fit": null,
            "grid_auto_columns": null,
            "margin": null,
            "display": null,
            "left": null
          }
        },
        "bd9dc9efd24848e1a4430144b5025c08": {
          "model_module": "@jupyter-widgets/controls",
          "model_name": "HTMLModel",
          "model_module_version": "1.5.0",
          "state": {
            "_view_name": "HTMLView",
            "style": "IPY_MODEL_f4dfd78bc2a04f589ad6a14721dd0f22",
            "_dom_classes": [],
            "description": "",
            "_model_name": "HTMLModel",
            "placeholder": "​",
            "_view_module": "@jupyter-widgets/controls",
            "_model_module_version": "1.5.0",
            "value": "Training: 100%",
            "_view_count": null,
            "_view_module_version": "1.5.0",
            "description_tooltip": null,
            "_model_module": "@jupyter-widgets/controls",
            "layout": "IPY_MODEL_2da08760502341389ef6c917fa91e714"
          }
        },
        "24a0dace983e40c5901c8b45180537ae": {
          "model_module": "@jupyter-widgets/controls",
          "model_name": "FloatProgressModel",
          "model_module_version": "1.5.0",
          "state": {
            "_view_name": "ProgressView",
            "style": "IPY_MODEL_c1453187b18e4695a1b3e7ebe00ee061",
            "_dom_classes": [],
            "description": "",
            "_model_name": "FloatProgressModel",
            "bar_style": "success",
            "max": 4680,
            "_view_module": "@jupyter-widgets/controls",
            "_model_module_version": "1.5.0",
            "value": 4680,
            "_view_count": null,
            "_view_module_version": "1.5.0",
            "orientation": "horizontal",
            "min": 0,
            "description_tooltip": null,
            "_model_module": "@jupyter-widgets/controls",
            "layout": "IPY_MODEL_a5b8dedfb2c4464d9aa13b0925a608ff"
          }
        },
        "eca4dedd3c124ac89a931d460c948e31": {
          "model_module": "@jupyter-widgets/controls",
          "model_name": "HTMLModel",
          "model_module_version": "1.5.0",
          "state": {
            "_view_name": "HTMLView",
            "style": "IPY_MODEL_cbc900b76f1d4c408c4857065ef728ff",
            "_dom_classes": [],
            "description": "",
            "_model_name": "HTMLModel",
            "placeholder": "​",
            "_view_module": "@jupyter-widgets/controls",
            "_model_module_version": "1.5.0",
            "value": " 4680/4680 [07:29&lt;00:00, 12.59it/s, lr=0.000125, ae_loss=0.147, clf_loss=2.54, loss=0.147]",
            "_view_count": null,
            "_view_module_version": "1.5.0",
            "description_tooltip": null,
            "_model_module": "@jupyter-widgets/controls",
            "layout": "IPY_MODEL_0195813dd003400689ec5deee372c102"
          }
        },
        "f4dfd78bc2a04f589ad6a14721dd0f22": {
          "model_module": "@jupyter-widgets/controls",
          "model_name": "DescriptionStyleModel",
          "model_module_version": "1.5.0",
          "state": {
            "_view_name": "StyleView",
            "_model_name": "DescriptionStyleModel",
            "description_width": "",
            "_view_module": "@jupyter-widgets/base",
            "_model_module_version": "1.5.0",
            "_view_count": null,
            "_view_module_version": "1.2.0",
            "_model_module": "@jupyter-widgets/controls"
          }
        },
        "2da08760502341389ef6c917fa91e714": {
          "model_module": "@jupyter-widgets/base",
          "model_name": "LayoutModel",
          "model_module_version": "1.2.0",
          "state": {
            "_view_name": "LayoutView",
            "grid_template_rows": null,
            "right": null,
            "justify_content": null,
            "_view_module": "@jupyter-widgets/base",
            "overflow": null,
            "_model_module_version": "1.2.0",
            "_view_count": null,
            "flex_flow": null,
            "width": null,
            "min_width": null,
            "border": null,
            "align_items": null,
            "bottom": null,
            "_model_module": "@jupyter-widgets/base",
            "top": null,
            "grid_column": null,
            "overflow_y": null,
            "overflow_x": null,
            "grid_auto_flow": null,
            "grid_area": null,
            "grid_template_columns": null,
            "flex": null,
            "_model_name": "LayoutModel",
            "justify_items": null,
            "grid_row": null,
            "max_height": null,
            "align_content": null,
            "visibility": null,
            "align_self": null,
            "height": null,
            "min_height": null,
            "padding": null,
            "grid_auto_rows": null,
            "grid_gap": null,
            "max_width": null,
            "order": null,
            "_view_module_version": "1.2.0",
            "grid_template_areas": null,
            "object_position": null,
            "object_fit": null,
            "grid_auto_columns": null,
            "margin": null,
            "display": null,
            "left": null
          }
        },
        "c1453187b18e4695a1b3e7ebe00ee061": {
          "model_module": "@jupyter-widgets/controls",
          "model_name": "ProgressStyleModel",
          "model_module_version": "1.5.0",
          "state": {
            "_view_name": "StyleView",
            "_model_name": "ProgressStyleModel",
            "description_width": "",
            "_view_module": "@jupyter-widgets/base",
            "_model_module_version": "1.5.0",
            "_view_count": null,
            "_view_module_version": "1.2.0",
            "bar_color": null,
            "_model_module": "@jupyter-widgets/controls"
          }
        },
        "a5b8dedfb2c4464d9aa13b0925a608ff": {
          "model_module": "@jupyter-widgets/base",
          "model_name": "LayoutModel",
          "model_module_version": "1.2.0",
          "state": {
            "_view_name": "LayoutView",
            "grid_template_rows": null,
            "right": null,
            "justify_content": null,
            "_view_module": "@jupyter-widgets/base",
            "overflow": null,
            "_model_module_version": "1.2.0",
            "_view_count": null,
            "flex_flow": null,
            "width": null,
            "min_width": null,
            "border": null,
            "align_items": null,
            "bottom": null,
            "_model_module": "@jupyter-widgets/base",
            "top": null,
            "grid_column": null,
            "overflow_y": null,
            "overflow_x": null,
            "grid_auto_flow": null,
            "grid_area": null,
            "grid_template_columns": null,
            "flex": null,
            "_model_name": "LayoutModel",
            "justify_items": null,
            "grid_row": null,
            "max_height": null,
            "align_content": null,
            "visibility": null,
            "align_self": null,
            "height": null,
            "min_height": null,
            "padding": null,
            "grid_auto_rows": null,
            "grid_gap": null,
            "max_width": null,
            "order": null,
            "_view_module_version": "1.2.0",
            "grid_template_areas": null,
            "object_position": null,
            "object_fit": null,
            "grid_auto_columns": null,
            "margin": null,
            "display": null,
            "left": null
          }
        },
        "cbc900b76f1d4c408c4857065ef728ff": {
          "model_module": "@jupyter-widgets/controls",
          "model_name": "DescriptionStyleModel",
          "model_module_version": "1.5.0",
          "state": {
            "_view_name": "StyleView",
            "_model_name": "DescriptionStyleModel",
            "description_width": "",
            "_view_module": "@jupyter-widgets/base",
            "_model_module_version": "1.5.0",
            "_view_count": null,
            "_view_module_version": "1.2.0",
            "_model_module": "@jupyter-widgets/controls"
          }
        },
        "0195813dd003400689ec5deee372c102": {
          "model_module": "@jupyter-widgets/base",
          "model_name": "LayoutModel",
          "model_module_version": "1.2.0",
          "state": {
            "_view_name": "LayoutView",
            "grid_template_rows": null,
            "right": null,
            "justify_content": null,
            "_view_module": "@jupyter-widgets/base",
            "overflow": null,
            "_model_module_version": "1.2.0",
            "_view_count": null,
            "flex_flow": null,
            "width": null,
            "min_width": null,
            "border": null,
            "align_items": null,
            "bottom": null,
            "_model_module": "@jupyter-widgets/base",
            "top": null,
            "grid_column": null,
            "overflow_y": null,
            "overflow_x": null,
            "grid_auto_flow": null,
            "grid_area": null,
            "grid_template_columns": null,
            "flex": null,
            "_model_name": "LayoutModel",
            "justify_items": null,
            "grid_row": null,
            "max_height": null,
            "align_content": null,
            "visibility": null,
            "align_self": null,
            "height": null,
            "min_height": null,
            "padding": null,
            "grid_auto_rows": null,
            "grid_gap": null,
            "max_width": null,
            "order": null,
            "_view_module_version": "1.2.0",
            "grid_template_areas": null,
            "object_position": null,
            "object_fit": null,
            "grid_auto_columns": null,
            "margin": null,
            "display": null,
            "left": null
          }
        },
        "79ad9f920c5548fea181bb41a87e1152": {
          "model_module": "@jupyter-widgets/controls",
          "model_name": "HBoxModel",
          "model_module_version": "1.5.0",
          "state": {
            "_view_name": "HBoxView",
            "_dom_classes": [],
            "_model_name": "HBoxModel",
            "_view_module": "@jupyter-widgets/controls",
            "_model_module_version": "1.5.0",
            "_view_count": null,
            "_view_module_version": "1.5.0",
            "box_style": "",
            "layout": "IPY_MODEL_f84477e929dc406b99841ff6eaa4b85c",
            "_model_module": "@jupyter-widgets/controls",
            "children": [
              "IPY_MODEL_b319b996aea3465ba4721336fe7e65ea",
              "IPY_MODEL_286bf059080342d4968d9a62d3d91a09",
              "IPY_MODEL_13f0be3be5e5493ca968a7933ca0621a"
            ]
          }
        },
        "f84477e929dc406b99841ff6eaa4b85c": {
          "model_module": "@jupyter-widgets/base",
          "model_name": "LayoutModel",
          "model_module_version": "1.2.0",
          "state": {
            "_view_name": "LayoutView",
            "grid_template_rows": null,
            "right": null,
            "justify_content": null,
            "_view_module": "@jupyter-widgets/base",
            "overflow": null,
            "_model_module_version": "1.2.0",
            "_view_count": null,
            "flex_flow": null,
            "width": null,
            "min_width": null,
            "border": null,
            "align_items": null,
            "bottom": null,
            "_model_module": "@jupyter-widgets/base",
            "top": null,
            "grid_column": null,
            "overflow_y": null,
            "overflow_x": null,
            "grid_auto_flow": null,
            "grid_area": null,
            "grid_template_columns": null,
            "flex": null,
            "_model_name": "LayoutModel",
            "justify_items": null,
            "grid_row": null,
            "max_height": null,
            "align_content": null,
            "visibility": null,
            "align_self": null,
            "height": null,
            "min_height": null,
            "padding": null,
            "grid_auto_rows": null,
            "grid_gap": null,
            "max_width": null,
            "order": null,
            "_view_module_version": "1.2.0",
            "grid_template_areas": null,
            "object_position": null,
            "object_fit": null,
            "grid_auto_columns": null,
            "margin": null,
            "display": null,
            "left": null
          }
        },
        "b319b996aea3465ba4721336fe7e65ea": {
          "model_module": "@jupyter-widgets/controls",
          "model_name": "HTMLModel",
          "model_module_version": "1.5.0",
          "state": {
            "_view_name": "HTMLView",
            "style": "IPY_MODEL_8b1b1816f9ec4e13955bbe0fa16e3b74",
            "_dom_classes": [],
            "description": "",
            "_model_name": "HTMLModel",
            "placeholder": "​",
            "_view_module": "@jupyter-widgets/controls",
            "_model_module_version": "1.5.0",
            "value": "Training: 100%",
            "_view_count": null,
            "_view_module_version": "1.5.0",
            "description_tooltip": null,
            "_model_module": "@jupyter-widgets/controls",
            "layout": "IPY_MODEL_6f2679fcf0af4bd2a7098eb18c836b0a"
          }
        },
        "286bf059080342d4968d9a62d3d91a09": {
          "model_module": "@jupyter-widgets/controls",
          "model_name": "FloatProgressModel",
          "model_module_version": "1.5.0",
          "state": {
            "_view_name": "ProgressView",
            "style": "IPY_MODEL_9cb3a9b3c31b4742be21ff8f14f3a719",
            "_dom_classes": [],
            "description": "",
            "_model_name": "FloatProgressModel",
            "bar_style": "",
            "max": 2340,
            "_view_module": "@jupyter-widgets/controls",
            "_model_module_version": "1.5.0",
            "value": 2340,
            "_view_count": null,
            "_view_module_version": "1.5.0",
            "orientation": "horizontal",
            "min": 0,
            "description_tooltip": null,
            "_model_module": "@jupyter-widgets/controls",
            "layout": "IPY_MODEL_eb9c2369717e4607a76f49b45fe118ae"
          }
        },
        "13f0be3be5e5493ca968a7933ca0621a": {
          "model_module": "@jupyter-widgets/controls",
          "model_name": "HTMLModel",
          "model_module_version": "1.5.0",
          "state": {
            "_view_name": "HTMLView",
            "style": "IPY_MODEL_2c3704c003764465b818fd70a0b36c6a",
            "_dom_classes": [],
            "description": "",
            "_model_name": "HTMLModel",
            "placeholder": "​",
            "_view_module": "@jupyter-widgets/controls",
            "_model_module_version": "1.5.0",
            "value": " 2340/2340 [05:45&lt;00:00,  6.90it/s, lr=6.25e-5, loss=0.00258, acc=0.997]",
            "_view_count": null,
            "_view_module_version": "1.5.0",
            "description_tooltip": null,
            "_model_module": "@jupyter-widgets/controls",
            "layout": "IPY_MODEL_63b755d26a0e46ea9bc6b1d3c2ecdc38"
          }
        },
        "8b1b1816f9ec4e13955bbe0fa16e3b74": {
          "model_module": "@jupyter-widgets/controls",
          "model_name": "DescriptionStyleModel",
          "model_module_version": "1.5.0",
          "state": {
            "_view_name": "StyleView",
            "_model_name": "DescriptionStyleModel",
            "description_width": "",
            "_view_module": "@jupyter-widgets/base",
            "_model_module_version": "1.5.0",
            "_view_count": null,
            "_view_module_version": "1.2.0",
            "_model_module": "@jupyter-widgets/controls"
          }
        },
        "6f2679fcf0af4bd2a7098eb18c836b0a": {
          "model_module": "@jupyter-widgets/base",
          "model_name": "LayoutModel",
          "model_module_version": "1.2.0",
          "state": {
            "_view_name": "LayoutView",
            "grid_template_rows": null,
            "right": null,
            "justify_content": null,
            "_view_module": "@jupyter-widgets/base",
            "overflow": null,
            "_model_module_version": "1.2.0",
            "_view_count": null,
            "flex_flow": null,
            "width": null,
            "min_width": null,
            "border": null,
            "align_items": null,
            "bottom": null,
            "_model_module": "@jupyter-widgets/base",
            "top": null,
            "grid_column": null,
            "overflow_y": null,
            "overflow_x": null,
            "grid_auto_flow": null,
            "grid_area": null,
            "grid_template_columns": null,
            "flex": null,
            "_model_name": "LayoutModel",
            "justify_items": null,
            "grid_row": null,
            "max_height": null,
            "align_content": null,
            "visibility": null,
            "align_self": null,
            "height": null,
            "min_height": null,
            "padding": null,
            "grid_auto_rows": null,
            "grid_gap": null,
            "max_width": null,
            "order": null,
            "_view_module_version": "1.2.0",
            "grid_template_areas": null,
            "object_position": null,
            "object_fit": null,
            "grid_auto_columns": null,
            "margin": null,
            "display": null,
            "left": null
          }
        },
        "9cb3a9b3c31b4742be21ff8f14f3a719": {
          "model_module": "@jupyter-widgets/controls",
          "model_name": "ProgressStyleModel",
          "model_module_version": "1.5.0",
          "state": {
            "_view_name": "StyleView",
            "_model_name": "ProgressStyleModel",
            "description_width": "",
            "_view_module": "@jupyter-widgets/base",
            "_model_module_version": "1.5.0",
            "_view_count": null,
            "_view_module_version": "1.2.0",
            "bar_color": null,
            "_model_module": "@jupyter-widgets/controls"
          }
        },
        "eb9c2369717e4607a76f49b45fe118ae": {
          "model_module": "@jupyter-widgets/base",
          "model_name": "LayoutModel",
          "model_module_version": "1.2.0",
          "state": {
            "_view_name": "LayoutView",
            "grid_template_rows": null,
            "right": null,
            "justify_content": null,
            "_view_module": "@jupyter-widgets/base",
            "overflow": null,
            "_model_module_version": "1.2.0",
            "_view_count": null,
            "flex_flow": null,
            "width": null,
            "min_width": null,
            "border": null,
            "align_items": null,
            "bottom": null,
            "_model_module": "@jupyter-widgets/base",
            "top": null,
            "grid_column": null,
            "overflow_y": null,
            "overflow_x": null,
            "grid_auto_flow": null,
            "grid_area": null,
            "grid_template_columns": null,
            "flex": null,
            "_model_name": "LayoutModel",
            "justify_items": null,
            "grid_row": null,
            "max_height": null,
            "align_content": null,
            "visibility": null,
            "align_self": null,
            "height": null,
            "min_height": null,
            "padding": null,
            "grid_auto_rows": null,
            "grid_gap": null,
            "max_width": null,
            "order": null,
            "_view_module_version": "1.2.0",
            "grid_template_areas": null,
            "object_position": null,
            "object_fit": null,
            "grid_auto_columns": null,
            "margin": null,
            "display": null,
            "left": null
          }
        },
        "2c3704c003764465b818fd70a0b36c6a": {
          "model_module": "@jupyter-widgets/controls",
          "model_name": "DescriptionStyleModel",
          "model_module_version": "1.5.0",
          "state": {
            "_view_name": "StyleView",
            "_model_name": "DescriptionStyleModel",
            "description_width": "",
            "_view_module": "@jupyter-widgets/base",
            "_model_module_version": "1.5.0",
            "_view_count": null,
            "_view_module_version": "1.2.0",
            "_model_module": "@jupyter-widgets/controls"
          }
        },
        "63b755d26a0e46ea9bc6b1d3c2ecdc38": {
          "model_module": "@jupyter-widgets/base",
          "model_name": "LayoutModel",
          "model_module_version": "1.2.0",
          "state": {
            "_view_name": "LayoutView",
            "grid_template_rows": null,
            "right": null,
            "justify_content": null,
            "_view_module": "@jupyter-widgets/base",
            "overflow": null,
            "_model_module_version": "1.2.0",
            "_view_count": null,
            "flex_flow": null,
            "width": null,
            "min_width": null,
            "border": null,
            "align_items": null,
            "bottom": null,
            "_model_module": "@jupyter-widgets/base",
            "top": null,
            "grid_column": null,
            "overflow_y": null,
            "overflow_x": null,
            "grid_auto_flow": null,
            "grid_area": null,
            "grid_template_columns": null,
            "flex": null,
            "_model_name": "LayoutModel",
            "justify_items": null,
            "grid_row": null,
            "max_height": null,
            "align_content": null,
            "visibility": null,
            "align_self": null,
            "height": null,
            "min_height": null,
            "padding": null,
            "grid_auto_rows": null,
            "grid_gap": null,
            "max_width": null,
            "order": null,
            "_view_module_version": "1.2.0",
            "grid_template_areas": null,
            "object_position": null,
            "object_fit": null,
            "grid_auto_columns": null,
            "margin": null,
            "display": null,
            "left": null
          }
        }
      }
    }
  },
  "cells": [
    {
      "cell_type": "markdown",
      "metadata": {
        "id": "view-in-github",
        "colab_type": "text"
      },
      "source": [
        "<a href=\"https://colab.research.google.com/github/130ndim/dul_2021/blob/hw10/Homework/hw10/Homework10_selfsupervised.ipynb\" target=\"_parent\"><img src=\"https://colab.research.google.com/assets/colab-badge.svg\" alt=\"Open In Colab\"/></a>"
      ]
    },
    {
      "cell_type": "code",
      "execution_count": 44,
      "metadata": {
        "id": "ZT2VPDHkxZa8",
        "colab": {
          "base_uri": "https://localhost:8080/"
        },
        "outputId": "20bf5ab2-41f8-4f31-b591-1b043119f73d"
      },
      "outputs": [
        {
          "output_type": "stream",
          "name": "stdout",
          "text": [
            "Cloning into 'dul_2021'...\n",
            "remote: Enumerating objects: 339, done.\u001b[K\n",
            "remote: Counting objects: 100% (176/176), done.\u001b[K\n",
            "remote: Compressing objects: 100% (110/110), done.\u001b[K\n",
            "remote: Total 339 (delta 100), reused 82 (delta 60), pack-reused 163\u001b[K\n",
            "Receiving objects: 100% (339/339), 55.19 MiB | 41.49 MiB/s, done.\n",
            "Resolving deltas: 100% (157/157), done.\n",
            "Processing ./dul_2021\n",
            "\u001b[33m  DEPRECATION: A future pip version will change local packages to be built in-place without first copying to a temporary directory. We recommend you use --use-feature=in-tree-build to test your packages with this new behavior before it becomes the default.\n",
            "   pip 21.3 will remove support for this functionality. You can find discussion regarding this at https://github.com/pypa/pip/issues/7555.\u001b[0m\n",
            "Building wheels for collected packages: dul-2021\n",
            "  Building wheel for dul-2021 (setup.py) ... \u001b[?25l\u001b[?25hdone\n",
            "  Created wheel for dul-2021: filename=dul_2021-0.1.0-py3-none-any.whl size=25374 sha256=16695ab01beafa128cea1a5dcc156b4dcdf61865b90ac4e29b53d59fce2f8269\n",
            "  Stored in directory: /tmp/pip-ephem-wheel-cache-zam6v3ri/wheels/55/59/29/0fb1c635652157734f4d741f32fc11979149684e83e919de06\n",
            "Successfully built dul-2021\n",
            "Installing collected packages: dul-2021\n",
            "  Attempting uninstall: dul-2021\n",
            "    Found existing installation: dul-2021 0.1.0\n",
            "    Uninstalling dul-2021-0.1.0:\n",
            "      Successfully uninstalled dul-2021-0.1.0\n",
            "Successfully installed dul-2021-0.1.0\n"
          ]
        }
      ],
      "source": [
        "!if [ -d dul_2021 ]; then rm -Rf dul_2021; fi\n",
        "!git clone https://github.com/GrigoryBartosh/dul_2021\n",
        "!pip install ./dul_2021"
      ]
    },
    {
      "cell_type": "code",
      "source": [
        "from dul_2021.utils.hw10_utils import *\n",
        "\n",
        "import random\n",
        "import numpy as np\n",
        "\n",
        "import torch\n",
        "from torch import Tensor, nn, optim\n",
        "from torch.nn import functional as F\n",
        "from torch.utils import data\n",
        "from torchvision import transforms as T\n",
        "\n",
        "from tqdm.auto import tqdm\n",
        "\n",
        "DEVICE = torch.device('cuda' if torch.cuda.is_available() else 'cpu')"
      ],
      "metadata": {
        "id": "kvPNepG2L2Hp"
      },
      "execution_count": 45,
      "outputs": []
    },
    {
      "cell_type": "markdown",
      "source": [
        "# Question 1. Context Encoder"
      ],
      "metadata": {
        "id": "86iMf3mEPaCR"
      }
    },
    {
      "cell_type": "markdown",
      "metadata": {
        "id": "tRyHjNsSDzPY"
      },
      "source": [
        "Here we will implement [context encoder](https://arxiv.org/abs/1604.07379). The context encoder structures its self-supervised learning task by inpainting masked images. For example, the figure below shows different masking shapes, such as center masking, random block masking, and segmentation masking. Note that segmentation masking (c) is not purely self-supervised since we would need to train a image segmentation model which requires labels. However, the other two masking schemes (a) and (b) and purely self-supervised.\n",
        "\n",
        "![](https://drive.google.com/uc?id=1fhzkULYTtyMGUUF2n9dlPayJSdcY5pRv)\n",
        "\n",
        "More formally, the context encoder optimizes the following reconstruction loss:\n",
        "$$\\mathcal{L}_{rec} = \\left\\Vert \\hat{M} \\odot (x - F((1 - \\hat{M})\\odot x)) \\right\\Vert^2_2$$\n",
        "where $\\hat{M}$ is the masked region, $x$ is the image, and $F$ is the context encoder that tries to reconstruct the masked portion. In addition to the reconstruction loss, the paper introduces an adversarial loss that encourages more realistic inpaintings.\n",
        "$$L_{adv} = \\max_D \\mathbb{E}_{x\\in \\chi} [\\log(D(x)) + \\log(1 - D(F((1-\\hat{M})\\odot x)))]$$"
      ]
    },
    {
      "cell_type": "markdown",
      "source": [
        "In this task we will crop central 14x14 region. You can use slightly afjusted architectures from AVB task from homework 8.\n",
        "\n",
        "**Hyperparametrs**\n",
        "\n",
        "* latent_dim = 128\n",
        "* epochs ~ 10-20\n",
        "* classifier need fewer updates than encoder-decoder part. We suggest to update it on each 10-th iteration.\n",
        "\n",
        "**You will provide the following deliverables**\n",
        "\n",
        "\n",
        "1. Over the course of training, record the mse loss and adversarial losses per batch.\n",
        "3. 30 (1, 28, 28) images. Where first 10 images are random sample from testdata with removed central region. Next 10 images are reconstracted images with your trained model. Last 10 images are initial without any removal."
      ],
      "metadata": {
        "id": "uW2dsZBKEo8m"
      }
    },
    {
      "cell_type": "code",
      "execution_count": 46,
      "outputs": [],
      "source": [
        "def drop_center(img: Tensor, n: int = 14):\n",
        "    h, w = img.size(-2), img.size(-1)\n",
        "    mask = img.new_ones(1, 1, h, w)\n",
        "    hc, wc = h // 2, w // 2\n",
        "    mask[..., hc - n // 2:hc + n // 2, wc - n // 2:wc + n // 2] = 0\n",
        "    return img * mask, 1 - mask"
      ],
      "metadata": {
        "pycharm": {
          "name": "#%%\n"
        },
        "id": "yGKrKhX6LLA6"
      }
    },
    {
      "cell_type": "code",
      "execution_count": 47,
      "outputs": [],
      "source": [
        "class Encoder(nn.Module):\n",
        "    def __init__(self, ld):\n",
        "        super().__init__()\n",
        "        self._seq = nn.Sequential(\n",
        "            nn.Conv2d(1, 32, 3, 1, 1),\n",
        "            nn.ReLU(),\n",
        "            nn.Conv2d(32, 64, 3, 2, 1),\n",
        "            nn.ReLU(),\n",
        "            nn.Conv2d(64, 128, 3, 2, 1),\n",
        "            nn.ReLU(),\n",
        "            nn.Conv2d(128, 128, 3, 2, 1),\n",
        "            nn.ReLU(),\n",
        "        )\n",
        "        self._lin = nn.Linear(4 * 4 * 128, ld)\n",
        "\n",
        "    def forward(self, x):\n",
        "        x = self._seq(x)\n",
        "        x = x.view(-1, 4 * 4 * 128)\n",
        "        x = self._lin(x)\n",
        "        return x\n",
        "\n",
        "\n",
        "class Decoder(nn.Module):\n",
        "    def __init__(self, ld):\n",
        "        super().__init__()\n",
        "        self._lin = nn.Linear(ld, 4 * 4 * 128)\n",
        "        self._seq = nn.Sequential(\n",
        "            nn.ReLU(),\n",
        "            nn.ConvTranspose2d(128, 128, 3, 2, 1),\n",
        "            nn.ReLU(),\n",
        "            nn.ConvTranspose2d(128, 64, 4, 2, 1),\n",
        "            nn.ReLU(),\n",
        "            nn.ConvTranspose2d(64, 32, 4, 2, 1),\n",
        "            nn.ReLU(),\n",
        "            nn.Conv2d(32, 1, 3, 1, 1),\n",
        "            nn.Tanh(),\n",
        "        )\n",
        "\n",
        "    def forward(self, z):\n",
        "        x = self._lin(z)\n",
        "        x = x.view(-1, 128, 4, 4)\n",
        "        x = self._seq(x)\n",
        "\n",
        "        return x\n",
        "\n",
        "class Classifier(nn.Module):\n",
        "    def __init__(self, n_out: int = 1):\n",
        "        super().__init__()\n",
        "        self._seq = nn.Sequential(\n",
        "            nn.Conv2d(1, 32, 3, 1, 1),\n",
        "            nn.ReLU(),\n",
        "            nn.Conv2d(32, 64, 3, 2, 1),\n",
        "            nn.ReLU(),\n",
        "            nn.Conv2d(64, 128, 3, 2, 1),\n",
        "            nn.ReLU(),\n",
        "            nn.Conv2d(128, 128, 3, 2, 1),\n",
        "            nn.ReLU(),\n",
        "        )\n",
        "        self._out = nn.Sequential(\n",
        "            nn.Linear(4 * 4 * 128, 128),\n",
        "            nn.ReLU(),\n",
        "            nn.Linear(128, 128),\n",
        "            nn.ReLU(),\n",
        "            nn.Linear(128, n_out)\n",
        "        )\n",
        "\n",
        "    def forward(self, x):\n",
        "        x = self._seq(x)\n",
        "        x = x.view(-1, 4 * 4 * 128)\n",
        "        x = self._out(x)\n",
        "        return x"
      ],
      "metadata": {
        "pycharm": {
          "name": "#%%\n"
        },
        "id": "U3WpuE7YLLA7"
      }
    },
    {
      "cell_type": "code",
      "execution_count": 48,
      "outputs": [],
      "source": [
        "class CAE(nn.Module):\n",
        "    def __init__(self, ld: int = 64, n_drop: int = 14, clf_freq: int = 10):\n",
        "        super().__init__()\n",
        "        self._ld = ld\n",
        "        self._n_drop = n_drop\n",
        "        self._clf_freq = clf_freq\n",
        "\n",
        "        self._enc = Encoder(ld)\n",
        "        self._dec = Decoder(ld)\n",
        "        self._clf = Classifier()\n",
        "\n",
        "    @property\n",
        "    def device(self):\n",
        "        return next(self.parameters()).device\n",
        "\n",
        "    def forward(self, x: Tensor) -> Tensor:\n",
        "        return self._dec(self._enc(x))\n",
        "\n",
        "    def _compute_losses(self, x):\n",
        "        masked, mask = drop_center(x, self._n_drop)\n",
        "\n",
        "        x_hat = self(masked)\n",
        "\n",
        "        rec_loss = (mask * F.mse_loss(x_hat, x, reduction='none')).mean()\n",
        "        d_hat = self._clf(x_hat)\n",
        "        ae_loss = rec_loss + F.binary_cross_entropy_with_logits(d_hat, torch.ones_like(d_hat))\n",
        "\n",
        "        clf_loss = (\n",
        "                F.binary_cross_entropy_with_logits(self._clf(x), torch.ones_like(d_hat)) +\n",
        "                F.binary_cross_entropy_with_logits(self._clf(x_hat.detach()), torch.zeros_like(d_hat))\n",
        "        )\n",
        "\n",
        "        return ae_loss, clf_loss\n",
        "\n",
        "    def fit(self, train_data, n_epochs=20, lr=1e-3, bs=256, lr_gamma=0.1, n_decays=1):\n",
        "        dl = data.DataLoader(train_data, batch_size=bs, shuffle=True, drop_last=True)\n",
        "\n",
        "        opt = optim.Adam(self.parameters(), lr=lr)\n",
        "        sch = optim.lr_scheduler.StepLR(opt, max(n_epochs // (n_decays + 1), 1), lr_gamma)\n",
        "\n",
        "        ae_losses, clf_losses = [], []\n",
        "\n",
        "        bar = tqdm(total=n_epochs * len(dl), desc='Training')\n",
        "\n",
        "        res_dict = {}\n",
        "\n",
        "        for _ in range(n_epochs):\n",
        "\n",
        "            res_dict.update({'lr': sch.get_last_lr()[0]})\n",
        "            for i, batch in enumerate(dl):\n",
        "                batch, _ = batch\n",
        "\n",
        "                ae_loss, clf_loss = self._compute_losses(batch.to(self.device))\n",
        "\n",
        "                loss = ae_loss\n",
        "                if i % self._clf_freq == 0:\n",
        "                    loss += clf_loss\n",
        "\n",
        "                opt.zero_grad()\n",
        "                loss.backward()\n",
        "                # utils.clip_grad_norm_(self._clf.parameters(), 0.1)\n",
        "                opt.step()\n",
        "\n",
        "                ae_losses.append(ae_loss.item())\n",
        "                clf_losses.append(clf_loss.item())\n",
        "\n",
        "                res_dict.update({'ae_loss': ae_losses[-1], 'clf_loss': clf_losses[-1], 'loss': loss.item()})\n",
        "\n",
        "                bar.update(1)\n",
        "                bar.set_postfix(res_dict)\n",
        "\n",
        "            sch.step()\n",
        "\n",
        "        return np.array(ae_losses), np.array(clf_losses)\n",
        "\n",
        "    @torch.no_grad()\n",
        "    def test(self, batch: Tensor) -> Tensor:\n",
        "        batch = batch.to(self.device)\n",
        "        masked, _ = drop_center(batch, self._n_drop)\n",
        "\n",
        "        return torch.cat([masked, self(masked), batch], dim=0)"
      ],
      "metadata": {
        "pycharm": {
          "name": "#%%\n"
        },
        "id": "zLmNudoxLLA9"
      }
    },
    {
      "cell_type": "code",
      "source": [
        "def q1(train_data, test_data):\n",
        "    \"\"\"\n",
        "    train_data: An (n_train, 1, 28, 28) torchvision dataset of MNIST images with values from -1 to 1\n",
        "    test_data: An (n_test, 1, 28, 28) torchvision dataset of MNIST images with values from -1 to 1\n",
        "\n",
        "    Returns\n",
        "    - a (# of training iterations, ) numpy array of full of mse losses\n",
        "    - a (# of training iterations, ) numpy array of full of adversarial losses\n",
        "    - a (30, 1, 28, 28) numpy array of 10 transformed images, 10 reconstructions, and 10 groundtruths\n",
        "    \"\"\"\n",
        "    model = CAE()\n",
        "    model.to(DEVICE)\n",
        "\n",
        "    ae_losses, clf_losses = model.fit(train_data, lr_gamma=0.5, n_decays=3)\n",
        "\n",
        "    test_batch = torch.stack([test_data[i][0] for i in range(10)], dim=0)\n",
        "\n",
        "    out = model.test(test_batch).cpu()\n",
        "\n",
        "    return ae_losses, clf_losses, out"
      ],
      "metadata": {
        "id": "lQnVUrB36iFT"
      },
      "execution_count": 49,
      "outputs": []
    },
    {
      "cell_type": "code",
      "source": [
        "q1_results(q1)"
      ],
      "metadata": {
        "id": "3uQzNlV8bQMB",
        "colab": {
          "base_uri": "https://localhost:8080/",
          "height": 596,
          "referenced_widgets": [
            "0ef6b25840894d66a1a9c90b15601613",
            "2321f6c6548c4c4088a0a060ad12ccbd",
            "bd9dc9efd24848e1a4430144b5025c08",
            "24a0dace983e40c5901c8b45180537ae",
            "eca4dedd3c124ac89a931d460c948e31",
            "f4dfd78bc2a04f589ad6a14721dd0f22",
            "2da08760502341389ef6c917fa91e714",
            "c1453187b18e4695a1b3e7ebe00ee061",
            "a5b8dedfb2c4464d9aa13b0925a608ff",
            "cbc900b76f1d4c408c4857065ef728ff",
            "0195813dd003400689ec5deee372c102"
          ]
        },
        "outputId": "74de205e-ffc2-48f9-e3bc-86c9e2c6316f"
      },
      "execution_count": 50,
      "outputs": [
        {
          "output_type": "display_data",
          "data": {
            "application/vnd.jupyter.widget-view+json": {
              "model_id": "0ef6b25840894d66a1a9c90b15601613",
              "version_minor": 0,
              "version_major": 2
            },
            "text/plain": [
              "Training:   0%|          | 0/4680 [00:00<?, ?it/s]"
            ]
          },
          "metadata": {}
        },
        {
          "output_type": "display_data",
          "data": {
            "image/png": "[encoded data removed]",
            "text/plain": [
              "<Figure size 432x288 with 1 Axes>"
            ]
          },
          "metadata": {
            "needs_background": "light"
          }
        },
        {
          "output_type": "display_data",
          "data": {
            "image/png": "[encoded data removed]",
            "text/plain": [
              "<Figure size 1080x1080 with 1 Axes>"
            ]
          },
          "metadata": {
            "needs_background": "light"
          }
        }
      ]
    },
    {
      "cell_type": "markdown",
      "source": [
        "# Question 2. Rotations Prediction"
      ],
      "metadata": {
        "id": "W6LVLHMMjzVL"
      }
    },
    {
      "cell_type": "markdown",
      "source": [
        "Here we will imlement this [paper](https://arxiv.org/abs/1803.07728). Here, model learns good representations for downstream tasks by proxy task of prediciting rotation of the original image.\n",
        "\n",
        "![](https://drive.google.com/uc?id=1eHXLH-N_6uMGRzdf1Wjnga26qlS5-FRv)\n",
        "\n",
        "We will work with same rotations as in paper (0, 90, 180, 270). You can use architecture AVB task in hw8. Latent dim 128 and 10 epochs should be enough.\n",
        "\n",
        "**You will provide the following deliverables**\n",
        "\n",
        "\n",
        "1. Over the course of training, record the loss per batch.\n",
        "2. Over the course of training, record the accuracy score for each iteration.\n",
        "\n",
        "\n"
      ],
      "metadata": {
        "id": "TUP2DAeeIK0F"
      }
    },
    {
      "cell_type": "code",
      "execution_count": 76,
      "outputs": [],
      "source": [
        "class MNISTWrapper:\n",
        "    def __init__(self, dataset, transform=None):\n",
        "        self._dataset = dataset\n",
        "        self._transform = transform\n",
        "\n",
        "    def __len__(self):\n",
        "        return len(self._dataset)\n",
        "\n",
        "    def __getitem__(self, idx):\n",
        "        item, _ = self._dataset[idx]\n",
        "        if self._transform is not None:\n",
        "            item = self._transform(item)\n",
        "        return item\n",
        "\n",
        "\n",
        "class RandomRotateWithLabel:\n",
        "    def __init__(self):\n",
        "        self._transforms = [T.RandomRotation((90 * i, 90 * i)) for i in range(4)]\n",
        "\n",
        "    def __call__(self, x):\n",
        "        idx = random.randint(0, 3)\n",
        "        y = torch.tensor([idx])\n",
        "        x = self._transforms[idx](x)\n",
        "        return x, y"
      ],
      "metadata": {
        "pycharm": {
          "name": "#%%\n"
        },
        "id": "VKOxNUBYYsP6"
      }
    },
    {
      "cell_type": "code",
      "execution_count": 78,
      "outputs": [],
      "source": [
        "from os import pread\n",
        "class AnglePredictor(nn.Module):\n",
        "    def __init__(self):\n",
        "        super().__init__()\n",
        "        self._clf = Classifier(4)\n",
        "\n",
        "    @property\n",
        "    def device(self):\n",
        "        return next(self.parameters()).device\n",
        "\n",
        "    def forward(self, x: Tensor) -> Tensor:\n",
        "        return self._clf(x)\n",
        "\n",
        "    def fit(self, train_data, n_epochs=20, lr=1e-3, bs=256, lr_gamma=0.1, n_decays=1):\n",
        "        train_data = MNISTWrapper(train_data, transform=RandomRotateWithLabel())\n",
        "        dl = data.DataLoader(train_data, batch_size=bs, shuffle=True, drop_last=True)\n",
        "\n",
        "        opt = optim.Adam(self.parameters(), lr=lr)\n",
        "        sch = optim.lr_scheduler.StepLR(opt, max(n_epochs // (n_decays + 1), 1), lr_gamma)\n",
        "\n",
        "        accs, losses = [], []\n",
        "\n",
        "        bar = tqdm(total=n_epochs * len(dl), desc='Training')\n",
        "\n",
        "        res_dict = {}\n",
        "\n",
        "        for _ in range(n_epochs):\n",
        "            acc = 0\n",
        "            res_dict.update({'lr': sch.get_last_lr()[0]})\n",
        "            for i, batch in enumerate(dl):\n",
        "                x, y = batch\n",
        "                x, y = x.to(self.device), y.ravel().to(self.device)\n",
        "\n",
        "                pred = self(x)\n",
        "\n",
        "                loss = F.cross_entropy(pred, y.ravel())\n",
        "\n",
        "                acc += (pred.argmax(-1) == y).sum().item()\n",
        "\n",
        "                opt.zero_grad()\n",
        "                loss.backward()\n",
        "                # utils.clip_grad_norm_(self._clf.parameters(), 0.1)\n",
        "                opt.step()\n",
        "\n",
        "                losses.append(loss.item())\n",
        "\n",
        "                res_dict.update({'loss': loss.item()})\n",
        "\n",
        "                bar.update(1)\n",
        "                bar.set_postfix(res_dict)\n",
        "            \n",
        "            accs.append(acc / bs / len(dl))\n",
        "            res_dict.update({'acc': accs[-1]})\n",
        "            sch.step()\n",
        "\n",
        "        return np.array(losses), np.array(accs)"
      ],
      "metadata": {
        "pycharm": {
          "name": "#%%\n"
        },
        "id": "oA9fiw_dYsP6"
      }
    },
    {
      "cell_type": "code",
      "source": [
        "def q2(train_data):\n",
        "    \"\"\"\n",
        "    train_data: An (n_train, 1, 28, 28) torchvision dataset of MNIST images with values from -1 to 1\n",
        "    Returns\n",
        "    - a (# of training iterations, ) numpy array of full of losses\n",
        "    - a (# of training epochs, ) numpy array of full of accuracy scores\n",
        "    \"\"\"\n",
        "    model = AnglePredictor()\n",
        "    model.to(DEVICE)\n",
        "\n",
        "    losses, accs = model.fit(train_data, 10, lr=1e-3, lr_gamma=0.5, n_decays=3)\n",
        "\n",
        "    return losses, accs"
      ],
      "metadata": {
        "id": "_YSch41UKy2g"
      },
      "execution_count": 84,
      "outputs": []
    },
    {
      "cell_type": "code",
      "source": [
        "q2_results(q2)"
      ],
      "metadata": {
        "colab": {
          "base_uri": "https://localhost:8080/",
          "height": 605,
          "referenced_widgets": [
            "79ad9f920c5548fea181bb41a87e1152",
            "f84477e929dc406b99841ff6eaa4b85c",
            "b319b996aea3465ba4721336fe7e65ea",
            "286bf059080342d4968d9a62d3d91a09",
            "13f0be3be5e5493ca968a7933ca0621a",
            "8b1b1816f9ec4e13955bbe0fa16e3b74",
            "6f2679fcf0af4bd2a7098eb18c836b0a",
            "9cb3a9b3c31b4742be21ff8f14f3a719",
            "eb9c2369717e4607a76f49b45fe118ae",
            "2c3704c003764465b818fd70a0b36c6a",
            "63b755d26a0e46ea9bc6b1d3c2ecdc38"
          ]
        },
        "id": "VIpLkvcU39ib",
        "outputId": "ca5e9c44-19e0-4a32-d849-d311410c85b2"
      },
      "execution_count": 85,
      "outputs": [
        {
          "output_type": "display_data",
          "data": {
            "application/vnd.jupyter.widget-view+json": {
              "model_id": "79ad9f920c5548fea181bb41a87e1152",
              "version_minor": 0,
              "version_major": 2
            },
            "text/plain": [
              "Training:   0%|          | 0/2340 [00:00<?, ?it/s]"
            ]
          },
          "metadata": {}
        },
        {
          "output_type": "display_data",
          "data": {
            "image/png": "[encoded data removed]",
            "text/plain": [
              "<Figure size 432x288 with 1 Axes>"
            ]
          },
          "metadata": {
            "needs_background": "light"
          }
        },
        {
          "output_type": "display_data",
          "data": {
            "image/png": "[encoded data removed]",
            "text/plain": [
              "<Figure size 432x288 with 1 Axes>"
            ]
          },
          "metadata": {
            "needs_background": "light"
          }
        }
      ]
    },
    {
      "cell_type": "code",
      "execution_count": null,
      "outputs": [],
      "source": [
        ""
      ],
      "metadata": {
        "pycharm": {
          "name": "#%%\n"
        },
        "id": "dPA0YLFvYsP8"
      }
    }
  ]
}